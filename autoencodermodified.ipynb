{
  "nbformat": 4,
  "nbformat_minor": 0,
  "metadata": {
    "colab": {
      "provenance": [],
      "include_colab_link": true
    },
    "kernelspec": {
      "name": "python3",
      "display_name": "Python 3"
    },
    "language_info": {
      "name": "python"
    }
  },
  "cells": [
    {
      "cell_type": "markdown",
      "metadata": {
        "id": "view-in-github",
        "colab_type": "text"
      },
      "source": [
        "<a href=\"https://colab.research.google.com/github/BrendanGramp/UMDAOSC650/blob/main/autoencodermodified.ipynb\" target=\"_parent\"><img src=\"https://colab.research.google.com/assets/colab-badge.svg\" alt=\"Open In Colab\"/></a>"
      ]
    },
    {
      "cell_type": "code",
      "source": [
        "import numpy as np\n",
        "import matplotlib.pyplot as plt\n",
        "import xarray as xr\n",
        "from sklearn.preprocessing import StandardScaler\n",
        "from sklearn.model_selection import train_test_split\n",
        "import keras\n",
        "from keras import layers"
      ],
      "metadata": {
        "id": "7IgRdMrZBxRF"
      },
      "execution_count": 1,
      "outputs": []
    },
    {
      "cell_type": "code",
      "source": [
        "! wget https://zenodo.org/records/10576726/files/current_SP3hourly_20110427.nc"
      ],
      "metadata": {
        "colab": {
          "base_uri": "https://localhost:8080/"
        },
        "id": "a6Z5jbwtB58E",
        "outputId": "a22b8890-1996-46ec-9ae5-ecc7376073d2"
      },
      "execution_count": 2,
      "outputs": [
        {
          "output_type": "stream",
          "name": "stdout",
          "text": [
            "--2024-04-04 16:41:22--  https://zenodo.org/records/10576726/files/current_SP3hourly_20110427.nc\n",
            "Resolving zenodo.org (zenodo.org)... 188.184.103.159, 188.184.98.238, 188.185.79.172, ...\n",
            "Connecting to zenodo.org (zenodo.org)|188.184.103.159|:443... connected.\n",
            "HTTP request sent, awaiting response... 200 OK\n",
            "Length: 109400556 (104M) [application/octet-stream]\n",
            "Saving to: ‘current_SP3hourly_20110427.nc’\n",
            "\n",
            "current_SP3hourly_2 100%[===================>] 104.33M  18.2MB/s    in 7.0s    \n",
            "\n",
            "2024-04-04 16:41:30 (14.9 MB/s) - ‘current_SP3hourly_20110427.nc’ saved [109400556/109400556]\n",
            "\n"
          ]
        }
      ]
    },
    {
      "cell_type": "code",
      "source": [
        "ds = xr.open_dataset('current_SP3hourly_20110427.nc')"
      ],
      "metadata": {
        "id": "kvvqhZ8HB8Ot"
      },
      "execution_count": 3,
      "outputs": []
    },
    {
      "cell_type": "code",
      "source": [
        "ds"
      ],
      "metadata": {
        "id": "Sg_dEZRc_pwD",
        "outputId": "514e1765-b78e-4728-b811-098e5bb8f22c",
        "colab": {
          "base_uri": "https://localhost:8080/",
          "height": 459
        }
      },
      "execution_count": 6,
      "outputs": [
        {
          "output_type": "execute_result",
          "data": {
            "text/plain": [
              "<xarray.Dataset>\n",
              "Dimensions:      (starttime: 2224, y: 32, x: 32)\n",
              "Coordinates:\n",
              "  * starttime    (starttime) float64 9.264e+04 9.264e+04 ... 9.266e+04 9.266e+04\n",
              "    endtime      (starttime) float64 ...\n",
              "    x_speed      (starttime) int64 ...\n",
              "    y_speed      (starttime) int64 ...\n",
              "Dimensions without coordinates: y, x\n",
              "Data variables:\n",
              "    uh25_grid    (starttime, y, x) float32 ...\n",
              "    uh03_grid    (starttime, y, x) float32 ...\n",
              "    ctt_grid     (starttime, y, x) float32 30.85 30.28 29.92 ... 6.861 6.969\n",
              "    dbz_grid     (starttime, y, x) float32 ...\n",
              "    mask         (starttime, y, x) int64 ...\n",
              "    row_indices  (starttime, y, x) int64 ...\n",
              "    col_indices  (starttime, y, x) int64 ...\n",
              "    lats         (starttime, y, x) float32 ...\n",
              "    lons         (starttime, y, x) float32 ..."
            ],
            "text/html": [
              "<div><svg style=\"position: absolute; width: 0; height: 0; overflow: hidden\">\n",
              "<defs>\n",
              "<symbol id=\"icon-database\" viewBox=\"0 0 32 32\">\n",
              "<path d=\"M16 0c-8.837 0-16 2.239-16 5v4c0 2.761 7.163 5 16 5s16-2.239 16-5v-4c0-2.761-7.163-5-16-5z\"></path>\n",
              "<path d=\"M16 17c-8.837 0-16-2.239-16-5v6c0 2.761 7.163 5 16 5s16-2.239 16-5v-6c0 2.761-7.163 5-16 5z\"></path>\n",
              "<path d=\"M16 26c-8.837 0-16-2.239-16-5v6c0 2.761 7.163 5 16 5s16-2.239 16-5v-6c0 2.761-7.163 5-16 5z\"></path>\n",
              "</symbol>\n",
              "<symbol id=\"icon-file-text2\" viewBox=\"0 0 32 32\">\n",
              "<path d=\"M28.681 7.159c-0.694-0.947-1.662-2.053-2.724-3.116s-2.169-2.030-3.116-2.724c-1.612-1.182-2.393-1.319-2.841-1.319h-15.5c-1.378 0-2.5 1.121-2.5 2.5v27c0 1.378 1.122 2.5 2.5 2.5h23c1.378 0 2.5-1.122 2.5-2.5v-19.5c0-0.448-0.137-1.23-1.319-2.841zM24.543 5.457c0.959 0.959 1.712 1.825 2.268 2.543h-4.811v-4.811c0.718 0.556 1.584 1.309 2.543 2.268zM28 29.5c0 0.271-0.229 0.5-0.5 0.5h-23c-0.271 0-0.5-0.229-0.5-0.5v-27c0-0.271 0.229-0.5 0.5-0.5 0 0 15.499-0 15.5 0v7c0 0.552 0.448 1 1 1h7v19.5z\"></path>\n",
              "<path d=\"M23 26h-14c-0.552 0-1-0.448-1-1s0.448-1 1-1h14c0.552 0 1 0.448 1 1s-0.448 1-1 1z\"></path>\n",
              "<path d=\"M23 22h-14c-0.552 0-1-0.448-1-1s0.448-1 1-1h14c0.552 0 1 0.448 1 1s-0.448 1-1 1z\"></path>\n",
              "<path d=\"M23 18h-14c-0.552 0-1-0.448-1-1s0.448-1 1-1h14c0.552 0 1 0.448 1 1s-0.448 1-1 1z\"></path>\n",
              "</symbol>\n",
              "</defs>\n",
              "</svg>\n",
              "<style>/* CSS stylesheet for displaying xarray objects in jupyterlab.\n",
              " *\n",
              " */\n",
              "\n",
              ":root {\n",
              "  --xr-font-color0: var(--jp-content-font-color0, rgba(0, 0, 0, 1));\n",
              "  --xr-font-color2: var(--jp-content-font-color2, rgba(0, 0, 0, 0.54));\n",
              "  --xr-font-color3: var(--jp-content-font-color3, rgba(0, 0, 0, 0.38));\n",
              "  --xr-border-color: var(--jp-border-color2, #e0e0e0);\n",
              "  --xr-disabled-color: var(--jp-layout-color3, #bdbdbd);\n",
              "  --xr-background-color: var(--jp-layout-color0, white);\n",
              "  --xr-background-color-row-even: var(--jp-layout-color1, white);\n",
              "  --xr-background-color-row-odd: var(--jp-layout-color2, #eeeeee);\n",
              "}\n",
              "\n",
              "html[theme=dark],\n",
              "body[data-theme=dark],\n",
              "body.vscode-dark {\n",
              "  --xr-font-color0: rgba(255, 255, 255, 1);\n",
              "  --xr-font-color2: rgba(255, 255, 255, 0.54);\n",
              "  --xr-font-color3: rgba(255, 255, 255, 0.38);\n",
              "  --xr-border-color: #1F1F1F;\n",
              "  --xr-disabled-color: #515151;\n",
              "  --xr-background-color: #111111;\n",
              "  --xr-background-color-row-even: #111111;\n",
              "  --xr-background-color-row-odd: #313131;\n",
              "}\n",
              "\n",
              ".xr-wrap {\n",
              "  display: block !important;\n",
              "  min-width: 300px;\n",
              "  max-width: 700px;\n",
              "}\n",
              "\n",
              ".xr-text-repr-fallback {\n",
              "  /* fallback to plain text repr when CSS is not injected (untrusted notebook) */\n",
              "  display: none;\n",
              "}\n",
              "\n",
              ".xr-header {\n",
              "  padding-top: 6px;\n",
              "  padding-bottom: 6px;\n",
              "  margin-bottom: 4px;\n",
              "  border-bottom: solid 1px var(--xr-border-color);\n",
              "}\n",
              "\n",
              ".xr-header > div,\n",
              ".xr-header > ul {\n",
              "  display: inline;\n",
              "  margin-top: 0;\n",
              "  margin-bottom: 0;\n",
              "}\n",
              "\n",
              ".xr-obj-type,\n",
              ".xr-array-name {\n",
              "  margin-left: 2px;\n",
              "  margin-right: 10px;\n",
              "}\n",
              "\n",
              ".xr-obj-type {\n",
              "  color: var(--xr-font-color2);\n",
              "}\n",
              "\n",
              ".xr-sections {\n",
              "  padding-left: 0 !important;\n",
              "  display: grid;\n",
              "  grid-template-columns: 150px auto auto 1fr 20px 20px;\n",
              "}\n",
              "\n",
              ".xr-section-item {\n",
              "  display: contents;\n",
              "}\n",
              "\n",
              ".xr-section-item input {\n",
              "  display: none;\n",
              "}\n",
              "\n",
              ".xr-section-item input + label {\n",
              "  color: var(--xr-disabled-color);\n",
              "}\n",
              "\n",
              ".xr-section-item input:enabled + label {\n",
              "  cursor: pointer;\n",
              "  color: var(--xr-font-color2);\n",
              "}\n",
              "\n",
              ".xr-section-item input:enabled + label:hover {\n",
              "  color: var(--xr-font-color0);\n",
              "}\n",
              "\n",
              ".xr-section-summary {\n",
              "  grid-column: 1;\n",
              "  color: var(--xr-font-color2);\n",
              "  font-weight: 500;\n",
              "}\n",
              "\n",
              ".xr-section-summary > span {\n",
              "  display: inline-block;\n",
              "  padding-left: 0.5em;\n",
              "}\n",
              "\n",
              ".xr-section-summary-in:disabled + label {\n",
              "  color: var(--xr-font-color2);\n",
              "}\n",
              "\n",
              ".xr-section-summary-in + label:before {\n",
              "  display: inline-block;\n",
              "  content: '►';\n",
              "  font-size: 11px;\n",
              "  width: 15px;\n",
              "  text-align: center;\n",
              "}\n",
              "\n",
              ".xr-section-summary-in:disabled + label:before {\n",
              "  color: var(--xr-disabled-color);\n",
              "}\n",
              "\n",
              ".xr-section-summary-in:checked + label:before {\n",
              "  content: '▼';\n",
              "}\n",
              "\n",
              ".xr-section-summary-in:checked + label > span {\n",
              "  display: none;\n",
              "}\n",
              "\n",
              ".xr-section-summary,\n",
              ".xr-section-inline-details {\n",
              "  padding-top: 4px;\n",
              "  padding-bottom: 4px;\n",
              "}\n",
              "\n",
              ".xr-section-inline-details {\n",
              "  grid-column: 2 / -1;\n",
              "}\n",
              "\n",
              ".xr-section-details {\n",
              "  display: none;\n",
              "  grid-column: 1 / -1;\n",
              "  margin-bottom: 5px;\n",
              "}\n",
              "\n",
              ".xr-section-summary-in:checked ~ .xr-section-details {\n",
              "  display: contents;\n",
              "}\n",
              "\n",
              ".xr-array-wrap {\n",
              "  grid-column: 1 / -1;\n",
              "  display: grid;\n",
              "  grid-template-columns: 20px auto;\n",
              "}\n",
              "\n",
              ".xr-array-wrap > label {\n",
              "  grid-column: 1;\n",
              "  vertical-align: top;\n",
              "}\n",
              "\n",
              ".xr-preview {\n",
              "  color: var(--xr-font-color3);\n",
              "}\n",
              "\n",
              ".xr-array-preview,\n",
              ".xr-array-data {\n",
              "  padding: 0 5px !important;\n",
              "  grid-column: 2;\n",
              "}\n",
              "\n",
              ".xr-array-data,\n",
              ".xr-array-in:checked ~ .xr-array-preview {\n",
              "  display: none;\n",
              "}\n",
              "\n",
              ".xr-array-in:checked ~ .xr-array-data,\n",
              ".xr-array-preview {\n",
              "  display: inline-block;\n",
              "}\n",
              "\n",
              ".xr-dim-list {\n",
              "  display: inline-block !important;\n",
              "  list-style: none;\n",
              "  padding: 0 !important;\n",
              "  margin: 0;\n",
              "}\n",
              "\n",
              ".xr-dim-list li {\n",
              "  display: inline-block;\n",
              "  padding: 0;\n",
              "  margin: 0;\n",
              "}\n",
              "\n",
              ".xr-dim-list:before {\n",
              "  content: '(';\n",
              "}\n",
              "\n",
              ".xr-dim-list:after {\n",
              "  content: ')';\n",
              "}\n",
              "\n",
              ".xr-dim-list li:not(:last-child):after {\n",
              "  content: ',';\n",
              "  padding-right: 5px;\n",
              "}\n",
              "\n",
              ".xr-has-index {\n",
              "  font-weight: bold;\n",
              "}\n",
              "\n",
              ".xr-var-list,\n",
              ".xr-var-item {\n",
              "  display: contents;\n",
              "}\n",
              "\n",
              ".xr-var-item > div,\n",
              ".xr-var-item label,\n",
              ".xr-var-item > .xr-var-name span {\n",
              "  background-color: var(--xr-background-color-row-even);\n",
              "  margin-bottom: 0;\n",
              "}\n",
              "\n",
              ".xr-var-item > .xr-var-name:hover span {\n",
              "  padding-right: 5px;\n",
              "}\n",
              "\n",
              ".xr-var-list > li:nth-child(odd) > div,\n",
              ".xr-var-list > li:nth-child(odd) > label,\n",
              ".xr-var-list > li:nth-child(odd) > .xr-var-name span {\n",
              "  background-color: var(--xr-background-color-row-odd);\n",
              "}\n",
              "\n",
              ".xr-var-name {\n",
              "  grid-column: 1;\n",
              "}\n",
              "\n",
              ".xr-var-dims {\n",
              "  grid-column: 2;\n",
              "}\n",
              "\n",
              ".xr-var-dtype {\n",
              "  grid-column: 3;\n",
              "  text-align: right;\n",
              "  color: var(--xr-font-color2);\n",
              "}\n",
              "\n",
              ".xr-var-preview {\n",
              "  grid-column: 4;\n",
              "}\n",
              "\n",
              ".xr-index-preview {\n",
              "  grid-column: 2 / 5;\n",
              "  color: var(--xr-font-color2);\n",
              "}\n",
              "\n",
              ".xr-var-name,\n",
              ".xr-var-dims,\n",
              ".xr-var-dtype,\n",
              ".xr-preview,\n",
              ".xr-attrs dt {\n",
              "  white-space: nowrap;\n",
              "  overflow: hidden;\n",
              "  text-overflow: ellipsis;\n",
              "  padding-right: 10px;\n",
              "}\n",
              "\n",
              ".xr-var-name:hover,\n",
              ".xr-var-dims:hover,\n",
              ".xr-var-dtype:hover,\n",
              ".xr-attrs dt:hover {\n",
              "  overflow: visible;\n",
              "  width: auto;\n",
              "  z-index: 1;\n",
              "}\n",
              "\n",
              ".xr-var-attrs,\n",
              ".xr-var-data,\n",
              ".xr-index-data {\n",
              "  display: none;\n",
              "  background-color: var(--xr-background-color) !important;\n",
              "  padding-bottom: 5px !important;\n",
              "}\n",
              "\n",
              ".xr-var-attrs-in:checked ~ .xr-var-attrs,\n",
              ".xr-var-data-in:checked ~ .xr-var-data,\n",
              ".xr-index-data-in:checked ~ .xr-index-data {\n",
              "  display: block;\n",
              "}\n",
              "\n",
              ".xr-var-data > table {\n",
              "  float: right;\n",
              "}\n",
              "\n",
              ".xr-var-name span,\n",
              ".xr-var-data,\n",
              ".xr-index-name div,\n",
              ".xr-index-data,\n",
              ".xr-attrs {\n",
              "  padding-left: 25px !important;\n",
              "}\n",
              "\n",
              ".xr-attrs,\n",
              ".xr-var-attrs,\n",
              ".xr-var-data,\n",
              ".xr-index-data {\n",
              "  grid-column: 1 / -1;\n",
              "}\n",
              "\n",
              "dl.xr-attrs {\n",
              "  padding: 0;\n",
              "  margin: 0;\n",
              "  display: grid;\n",
              "  grid-template-columns: 125px auto;\n",
              "}\n",
              "\n",
              ".xr-attrs dt,\n",
              ".xr-attrs dd {\n",
              "  padding: 0;\n",
              "  margin: 0;\n",
              "  float: left;\n",
              "  padding-right: 10px;\n",
              "  width: auto;\n",
              "}\n",
              "\n",
              ".xr-attrs dt {\n",
              "  font-weight: normal;\n",
              "  grid-column: 1;\n",
              "}\n",
              "\n",
              ".xr-attrs dt:hover span {\n",
              "  display: inline-block;\n",
              "  background: var(--xr-background-color);\n",
              "  padding-right: 10px;\n",
              "}\n",
              "\n",
              ".xr-attrs dd {\n",
              "  grid-column: 2;\n",
              "  white-space: pre-wrap;\n",
              "  word-break: break-all;\n",
              "}\n",
              "\n",
              ".xr-icon-database,\n",
              ".xr-icon-file-text2,\n",
              ".xr-no-icon {\n",
              "  display: inline-block;\n",
              "  vertical-align: middle;\n",
              "  width: 1em;\n",
              "  height: 1.5em !important;\n",
              "  stroke-width: 0;\n",
              "  stroke: currentColor;\n",
              "  fill: currentColor;\n",
              "}\n",
              "</style><pre class='xr-text-repr-fallback'>&lt;xarray.Dataset&gt;\n",
              "Dimensions:      (starttime: 2224, y: 32, x: 32)\n",
              "Coordinates:\n",
              "  * starttime    (starttime) float64 9.264e+04 9.264e+04 ... 9.266e+04 9.266e+04\n",
              "    endtime      (starttime) float64 ...\n",
              "    x_speed      (starttime) int64 ...\n",
              "    y_speed      (starttime) int64 ...\n",
              "Dimensions without coordinates: y, x\n",
              "Data variables:\n",
              "    uh25_grid    (starttime, y, x) float32 ...\n",
              "    uh03_grid    (starttime, y, x) float32 ...\n",
              "    ctt_grid     (starttime, y, x) float32 30.85 30.28 29.92 ... 6.861 6.969\n",
              "    dbz_grid     (starttime, y, x) float32 ...\n",
              "    mask         (starttime, y, x) int64 ...\n",
              "    row_indices  (starttime, y, x) int64 ...\n",
              "    col_indices  (starttime, y, x) int64 ...\n",
              "    lats         (starttime, y, x) float32 ...\n",
              "    lons         (starttime, y, x) float32 ...</pre><div class='xr-wrap' style='display:none'><div class='xr-header'><div class='xr-obj-type'>xarray.Dataset</div></div><ul class='xr-sections'><li class='xr-section-item'><input id='section-a8df3531-829b-46c0-b172-000b68801bb2' class='xr-section-summary-in' type='checkbox' disabled ><label for='section-a8df3531-829b-46c0-b172-000b68801bb2' class='xr-section-summary'  title='Expand/collapse section'>Dimensions:</label><div class='xr-section-inline-details'><ul class='xr-dim-list'><li><span class='xr-has-index'>starttime</span>: 2224</li><li><span>y</span>: 32</li><li><span>x</span>: 32</li></ul></div><div class='xr-section-details'></div></li><li class='xr-section-item'><input id='section-957c2823-92b4-453d-9f94-79ec9349a6c1' class='xr-section-summary-in' type='checkbox'  checked><label for='section-957c2823-92b4-453d-9f94-79ec9349a6c1' class='xr-section-summary' >Coordinates: <span>(4)</span></label><div class='xr-section-inline-details'></div><div class='xr-section-details'><ul class='xr-var-list'><li class='xr-var-item'><div class='xr-var-name'><span class='xr-has-index'>starttime</span></div><div class='xr-var-dims'>(starttime)</div><div class='xr-var-dtype'>float64</div><div class='xr-var-preview xr-preview'>9.264e+04 9.264e+04 ... 9.266e+04</div><input id='attrs-cd0d69d0-7857-4d21-86ae-992b1a026059' class='xr-var-attrs-in' type='checkbox' disabled><label for='attrs-cd0d69d0-7857-4d21-86ae-992b1a026059' title='Show/Hide attributes'><svg class='icon xr-icon-file-text2'><use xlink:href='#icon-file-text2'></use></svg></label><input id='data-8654c2dc-ac13-426b-874e-34ce9f28ce50' class='xr-var-data-in' type='checkbox'><label for='data-8654c2dc-ac13-426b-874e-34ce9f28ce50' title='Show/Hide data repr'><svg class='icon xr-icon-database'><use xlink:href='#icon-database'></use></svg></label><div class='xr-var-attrs'><dl class='xr-attrs'></dl></div><div class='xr-var-data'><pre>array([92640., 92640., 92640., ..., 92661., 92661., 92661.])</pre></div></li><li class='xr-var-item'><div class='xr-var-name'><span>endtime</span></div><div class='xr-var-dims'>(starttime)</div><div class='xr-var-dtype'>float64</div><div class='xr-var-preview xr-preview'>...</div><input id='attrs-e8323dd7-92c2-4919-8583-ec4162dc3b1e' class='xr-var-attrs-in' type='checkbox' disabled><label for='attrs-e8323dd7-92c2-4919-8583-ec4162dc3b1e' title='Show/Hide attributes'><svg class='icon xr-icon-file-text2'><use xlink:href='#icon-file-text2'></use></svg></label><input id='data-e20f4ca3-bcdd-45f7-a1a7-dcd9bcfb1f1e' class='xr-var-data-in' type='checkbox'><label for='data-e20f4ca3-bcdd-45f7-a1a7-dcd9bcfb1f1e' title='Show/Hide data repr'><svg class='icon xr-icon-database'><use xlink:href='#icon-database'></use></svg></label><div class='xr-var-attrs'><dl class='xr-attrs'></dl></div><div class='xr-var-data'><pre>[2224 values with dtype=float64]</pre></div></li><li class='xr-var-item'><div class='xr-var-name'><span>x_speed</span></div><div class='xr-var-dims'>(starttime)</div><div class='xr-var-dtype'>int64</div><div class='xr-var-preview xr-preview'>...</div><input id='attrs-d931238c-b44c-4fe6-b480-87b4ca0f073f' class='xr-var-attrs-in' type='checkbox' disabled><label for='attrs-d931238c-b44c-4fe6-b480-87b4ca0f073f' title='Show/Hide attributes'><svg class='icon xr-icon-file-text2'><use xlink:href='#icon-file-text2'></use></svg></label><input id='data-a5750f62-3c86-4c5c-89f0-ddc9f56b8a4b' class='xr-var-data-in' type='checkbox'><label for='data-a5750f62-3c86-4c5c-89f0-ddc9f56b8a4b' title='Show/Hide data repr'><svg class='icon xr-icon-database'><use xlink:href='#icon-database'></use></svg></label><div class='xr-var-attrs'><dl class='xr-attrs'></dl></div><div class='xr-var-data'><pre>[2224 values with dtype=int64]</pre></div></li><li class='xr-var-item'><div class='xr-var-name'><span>y_speed</span></div><div class='xr-var-dims'>(starttime)</div><div class='xr-var-dtype'>int64</div><div class='xr-var-preview xr-preview'>...</div><input id='attrs-695217c7-ad3b-4539-964b-4c0323ee971d' class='xr-var-attrs-in' type='checkbox' disabled><label for='attrs-695217c7-ad3b-4539-964b-4c0323ee971d' title='Show/Hide attributes'><svg class='icon xr-icon-file-text2'><use xlink:href='#icon-file-text2'></use></svg></label><input id='data-fa4175b4-9e10-4ec4-8eb5-344698ac10e1' class='xr-var-data-in' type='checkbox'><label for='data-fa4175b4-9e10-4ec4-8eb5-344698ac10e1' title='Show/Hide data repr'><svg class='icon xr-icon-database'><use xlink:href='#icon-database'></use></svg></label><div class='xr-var-attrs'><dl class='xr-attrs'></dl></div><div class='xr-var-data'><pre>[2224 values with dtype=int64]</pre></div></li></ul></div></li><li class='xr-section-item'><input id='section-0bdff008-1713-4f00-a974-6bbf873280ce' class='xr-section-summary-in' type='checkbox'  checked><label for='section-0bdff008-1713-4f00-a974-6bbf873280ce' class='xr-section-summary' >Data variables: <span>(9)</span></label><div class='xr-section-inline-details'></div><div class='xr-section-details'><ul class='xr-var-list'><li class='xr-var-item'><div class='xr-var-name'><span>uh25_grid</span></div><div class='xr-var-dims'>(starttime, y, x)</div><div class='xr-var-dtype'>float32</div><div class='xr-var-preview xr-preview'>...</div><input id='attrs-5f18d738-bc91-43c8-8c00-3f55a23fd957' class='xr-var-attrs-in' type='checkbox' disabled><label for='attrs-5f18d738-bc91-43c8-8c00-3f55a23fd957' title='Show/Hide attributes'><svg class='icon xr-icon-file-text2'><use xlink:href='#icon-file-text2'></use></svg></label><input id='data-9e4dd2e3-76bd-4260-a756-26266d33f13f' class='xr-var-data-in' type='checkbox'><label for='data-9e4dd2e3-76bd-4260-a756-26266d33f13f' title='Show/Hide data repr'><svg class='icon xr-icon-database'><use xlink:href='#icon-database'></use></svg></label><div class='xr-var-attrs'><dl class='xr-attrs'></dl></div><div class='xr-var-data'><pre>[2277376 values with dtype=float32]</pre></div></li><li class='xr-var-item'><div class='xr-var-name'><span>uh03_grid</span></div><div class='xr-var-dims'>(starttime, y, x)</div><div class='xr-var-dtype'>float32</div><div class='xr-var-preview xr-preview'>...</div><input id='attrs-980dcec5-dac0-425e-b133-0a5cda23f187' class='xr-var-attrs-in' type='checkbox' disabled><label for='attrs-980dcec5-dac0-425e-b133-0a5cda23f187' title='Show/Hide attributes'><svg class='icon xr-icon-file-text2'><use xlink:href='#icon-file-text2'></use></svg></label><input id='data-d44c450a-fea9-415e-b1f8-82b812a5d6ef' class='xr-var-data-in' type='checkbox'><label for='data-d44c450a-fea9-415e-b1f8-82b812a5d6ef' title='Show/Hide data repr'><svg class='icon xr-icon-database'><use xlink:href='#icon-database'></use></svg></label><div class='xr-var-attrs'><dl class='xr-attrs'></dl></div><div class='xr-var-data'><pre>[2277376 values with dtype=float32]</pre></div></li><li class='xr-var-item'><div class='xr-var-name'><span>ctt_grid</span></div><div class='xr-var-dims'>(starttime, y, x)</div><div class='xr-var-dtype'>float32</div><div class='xr-var-preview xr-preview'>30.85 30.28 29.92 ... 6.861 6.969</div><input id='attrs-45be5566-ef56-41a6-b9f0-8afb4c622028' class='xr-var-attrs-in' type='checkbox' disabled><label for='attrs-45be5566-ef56-41a6-b9f0-8afb4c622028' title='Show/Hide attributes'><svg class='icon xr-icon-file-text2'><use xlink:href='#icon-file-text2'></use></svg></label><input id='data-5bf01dc5-4ebb-48df-87af-3a99773dcbd0' class='xr-var-data-in' type='checkbox'><label for='data-5bf01dc5-4ebb-48df-87af-3a99773dcbd0' title='Show/Hide data repr'><svg class='icon xr-icon-database'><use xlink:href='#icon-database'></use></svg></label><div class='xr-var-attrs'><dl class='xr-attrs'></dl></div><div class='xr-var-data'><pre>array([[[30.846277, 30.279108, ..., 24.160944, 24.194544],\n",
              "        [30.6896  , 30.205988, ..., 24.138666, 24.156153],\n",
              "        ...,\n",
              "        [30.277369, 30.2774  , ..., 26.490808, 26.25442 ],\n",
              "        [30.505335, 30.508722, ..., 26.57281 , 26.230433]],\n",
              "\n",
              "       [[25.258142, 25.295069, ..., 24.994104, 25.126917],\n",
              "        [25.225428, 25.246546, ..., 24.939692, 25.09524 ],\n",
              "        ...,\n",
              "        [26.568964, 26.706263, ..., 26.439295, 26.521112],\n",
              "        [26.157099, 26.472956, ..., 26.13833 , 26.378107]],\n",
              "\n",
              "       ...,\n",
              "\n",
              "       [[ 6.15835 ,  6.025629, ...,  9.892878, 10.899347],\n",
              "        [ 6.217981,  6.145288, ...,  9.261835, 10.487543],\n",
              "        ...,\n",
              "        [ 5.472223,  5.668146, ..., 13.922358, 14.290552],\n",
              "        [ 5.576868,  5.710046, ..., 13.969812, 14.191675]],\n",
              "\n",
              "       [[ 9.979548,  9.917505, ...,  6.802606,  6.493005],\n",
              "        [ 9.948603,  9.846491, ...,  6.554163,  6.430017],\n",
              "        ...,\n",
              "        [11.729609, 11.568995, ...,  6.786005,  6.865045],\n",
              "        [11.844446, 11.534296, ...,  6.860742,  6.969079]]], dtype=float32)</pre></div></li><li class='xr-var-item'><div class='xr-var-name'><span>dbz_grid</span></div><div class='xr-var-dims'>(starttime, y, x)</div><div class='xr-var-dtype'>float32</div><div class='xr-var-preview xr-preview'>...</div><input id='attrs-623ee576-4ebf-4670-b1dc-a35d1cc76b28' class='xr-var-attrs-in' type='checkbox' disabled><label for='attrs-623ee576-4ebf-4670-b1dc-a35d1cc76b28' title='Show/Hide attributes'><svg class='icon xr-icon-file-text2'><use xlink:href='#icon-file-text2'></use></svg></label><input id='data-b92c59ef-d95e-4ca8-befd-3e3c483b8b6e' class='xr-var-data-in' type='checkbox'><label for='data-b92c59ef-d95e-4ca8-befd-3e3c483b8b6e' title='Show/Hide data repr'><svg class='icon xr-icon-database'><use xlink:href='#icon-database'></use></svg></label><div class='xr-var-attrs'><dl class='xr-attrs'></dl></div><div class='xr-var-data'><pre>[2277376 values with dtype=float32]</pre></div></li><li class='xr-var-item'><div class='xr-var-name'><span>mask</span></div><div class='xr-var-dims'>(starttime, y, x)</div><div class='xr-var-dtype'>int64</div><div class='xr-var-preview xr-preview'>...</div><input id='attrs-a51374c5-787a-4625-9844-378d9cc94932' class='xr-var-attrs-in' type='checkbox' disabled><label for='attrs-a51374c5-787a-4625-9844-378d9cc94932' title='Show/Hide attributes'><svg class='icon xr-icon-file-text2'><use xlink:href='#icon-file-text2'></use></svg></label><input id='data-93e9217b-8ea4-4d4f-8196-6bac6fa1aae5' class='xr-var-data-in' type='checkbox'><label for='data-93e9217b-8ea4-4d4f-8196-6bac6fa1aae5' title='Show/Hide data repr'><svg class='icon xr-icon-database'><use xlink:href='#icon-database'></use></svg></label><div class='xr-var-attrs'><dl class='xr-attrs'></dl></div><div class='xr-var-data'><pre>[2277376 values with dtype=int64]</pre></div></li><li class='xr-var-item'><div class='xr-var-name'><span>row_indices</span></div><div class='xr-var-dims'>(starttime, y, x)</div><div class='xr-var-dtype'>int64</div><div class='xr-var-preview xr-preview'>...</div><input id='attrs-e07b0b4b-9b9f-4f38-a785-7766843be443' class='xr-var-attrs-in' type='checkbox' disabled><label for='attrs-e07b0b4b-9b9f-4f38-a785-7766843be443' title='Show/Hide attributes'><svg class='icon xr-icon-file-text2'><use xlink:href='#icon-file-text2'></use></svg></label><input id='data-ebf96f50-2533-444f-9af8-10b912109439' class='xr-var-data-in' type='checkbox'><label for='data-ebf96f50-2533-444f-9af8-10b912109439' title='Show/Hide data repr'><svg class='icon xr-icon-database'><use xlink:href='#icon-database'></use></svg></label><div class='xr-var-attrs'><dl class='xr-attrs'></dl></div><div class='xr-var-data'><pre>[2277376 values with dtype=int64]</pre></div></li><li class='xr-var-item'><div class='xr-var-name'><span>col_indices</span></div><div class='xr-var-dims'>(starttime, y, x)</div><div class='xr-var-dtype'>int64</div><div class='xr-var-preview xr-preview'>...</div><input id='attrs-dfbf68fc-4d31-4139-ac6a-d011aa9bc218' class='xr-var-attrs-in' type='checkbox' disabled><label for='attrs-dfbf68fc-4d31-4139-ac6a-d011aa9bc218' title='Show/Hide attributes'><svg class='icon xr-icon-file-text2'><use xlink:href='#icon-file-text2'></use></svg></label><input id='data-0e3e5c73-6c7d-4bf9-bd81-37c2df3dd25d' class='xr-var-data-in' type='checkbox'><label for='data-0e3e5c73-6c7d-4bf9-bd81-37c2df3dd25d' title='Show/Hide data repr'><svg class='icon xr-icon-database'><use xlink:href='#icon-database'></use></svg></label><div class='xr-var-attrs'><dl class='xr-attrs'></dl></div><div class='xr-var-data'><pre>[2277376 values with dtype=int64]</pre></div></li><li class='xr-var-item'><div class='xr-var-name'><span>lats</span></div><div class='xr-var-dims'>(starttime, y, x)</div><div class='xr-var-dtype'>float32</div><div class='xr-var-preview xr-preview'>...</div><input id='attrs-0be2a2e1-7220-446d-bc93-9ffc5788d5d9' class='xr-var-attrs-in' type='checkbox' disabled><label for='attrs-0be2a2e1-7220-446d-bc93-9ffc5788d5d9' title='Show/Hide attributes'><svg class='icon xr-icon-file-text2'><use xlink:href='#icon-file-text2'></use></svg></label><input id='data-39864554-a7f0-4031-beac-3ccbe353fdef' class='xr-var-data-in' type='checkbox'><label for='data-39864554-a7f0-4031-beac-3ccbe353fdef' title='Show/Hide data repr'><svg class='icon xr-icon-database'><use xlink:href='#icon-database'></use></svg></label><div class='xr-var-attrs'><dl class='xr-attrs'></dl></div><div class='xr-var-data'><pre>[2277376 values with dtype=float32]</pre></div></li><li class='xr-var-item'><div class='xr-var-name'><span>lons</span></div><div class='xr-var-dims'>(starttime, y, x)</div><div class='xr-var-dtype'>float32</div><div class='xr-var-preview xr-preview'>...</div><input id='attrs-a963ae3e-f05a-49a4-84cc-e518e660fcc8' class='xr-var-attrs-in' type='checkbox' disabled><label for='attrs-a963ae3e-f05a-49a4-84cc-e518e660fcc8' title='Show/Hide attributes'><svg class='icon xr-icon-file-text2'><use xlink:href='#icon-file-text2'></use></svg></label><input id='data-41769b86-2ad3-49ca-9806-dc3a551134fe' class='xr-var-data-in' type='checkbox'><label for='data-41769b86-2ad3-49ca-9806-dc3a551134fe' title='Show/Hide data repr'><svg class='icon xr-icon-database'><use xlink:href='#icon-database'></use></svg></label><div class='xr-var-attrs'><dl class='xr-attrs'></dl></div><div class='xr-var-data'><pre>[2277376 values with dtype=float32]</pre></div></li></ul></div></li><li class='xr-section-item'><input id='section-ed9ae0ad-2f55-4f59-b8b5-fe28de4dcd9a' class='xr-section-summary-in' type='checkbox'  ><label for='section-ed9ae0ad-2f55-4f59-b8b5-fe28de4dcd9a' class='xr-section-summary' >Indexes: <span>(1)</span></label><div class='xr-section-inline-details'></div><div class='xr-section-details'><ul class='xr-var-list'><li class='xr-var-item'><div class='xr-index-name'><div>starttime</div></div><div class='xr-index-preview'>PandasIndex</div><div></div><input id='index-e4dc58d9-e6c5-4468-ae56-4712e3bb1fd2' class='xr-index-data-in' type='checkbox'/><label for='index-e4dc58d9-e6c5-4468-ae56-4712e3bb1fd2' title='Show/Hide index repr'><svg class='icon xr-icon-database'><use xlink:href='#icon-database'></use></svg></label><div class='xr-index-data'><pre>PandasIndex(Index([92640.0, 92640.0, 92640.0, 92640.0, 92640.0, 92640.0, 92640.0, 92640.0,\n",
              "       92640.0, 92640.0,\n",
              "       ...\n",
              "       92661.0, 92661.0, 92661.0, 92661.0, 92661.0, 92661.0, 92661.0, 92661.0,\n",
              "       92661.0, 92661.0],\n",
              "      dtype=&#x27;float64&#x27;, name=&#x27;starttime&#x27;, length=2224))</pre></div></li></ul></div></li><li class='xr-section-item'><input id='section-08f6932d-8c1a-48a0-8431-abb13123e9d8' class='xr-section-summary-in' type='checkbox' disabled ><label for='section-08f6932d-8c1a-48a0-8431-abb13123e9d8' class='xr-section-summary'  title='Expand/collapse section'>Attributes: <span>(0)</span></label><div class='xr-section-inline-details'></div><div class='xr-section-details'><dl class='xr-attrs'></dl></div></li></ul></div></div>"
            ]
          },
          "metadata": {},
          "execution_count": 6
        }
      ]
    },
    {
      "cell_type": "markdown",
      "source": [
        "## ANN Autoencoder"
      ],
      "metadata": {
        "id": "wVklUrN4Ekw2"
      }
    },
    {
      "cell_type": "markdown",
      "source": [
        "We will be training an autoencoder to perform the task of anomaly detection. For anomaly detection, we would note instances where reconstruction error for an image is higher, indicating that the sample was likely not similar to those in the training set distribution.\n",
        "\n",
        "We will again use the previous data, but this time we will focus on reconstructing one input variable (feature)."
      ],
      "metadata": {
        "id": "qqoNw_88CTV3"
      }
    },
    {
      "cell_type": "code",
      "source": [
        "ds['ctt_grid']"
      ],
      "metadata": {
        "id": "lTqZPXa0_UVG",
        "outputId": "513d7746-fc06-4203-8009-d3a186966d3e",
        "colab": {
          "base_uri": "https://localhost:8080/",
          "height": 240
        }
      },
      "execution_count": 5,
      "outputs": [
        {
          "output_type": "execute_result",
          "data": {
            "text/plain": [
              "<xarray.DataArray 'ctt_grid' (starttime: 2224, y: 32, x: 32)>\n",
              "array([[[30.846277, 30.279108, ..., 24.160944, 24.194544],\n",
              "        [30.6896  , 30.205988, ..., 24.138666, 24.156153],\n",
              "        ...,\n",
              "        [30.277369, 30.2774  , ..., 26.490808, 26.25442 ],\n",
              "        [30.505335, 30.508722, ..., 26.57281 , 26.230433]],\n",
              "\n",
              "       [[25.258142, 25.295069, ..., 24.994104, 25.126917],\n",
              "        [25.225428, 25.246546, ..., 24.939692, 25.09524 ],\n",
              "        ...,\n",
              "        [26.568964, 26.706263, ..., 26.439295, 26.521112],\n",
              "        [26.157099, 26.472956, ..., 26.13833 , 26.378107]],\n",
              "\n",
              "       ...,\n",
              "\n",
              "       [[ 6.15835 ,  6.025629, ...,  9.892878, 10.899347],\n",
              "        [ 6.217981,  6.145288, ...,  9.261835, 10.487543],\n",
              "        ...,\n",
              "        [ 5.472223,  5.668146, ..., 13.922358, 14.290552],\n",
              "        [ 5.576868,  5.710046, ..., 13.969812, 14.191675]],\n",
              "\n",
              "       [[ 9.979548,  9.917505, ...,  6.802606,  6.493005],\n",
              "        [ 9.948603,  9.846491, ...,  6.554163,  6.430017],\n",
              "        ...,\n",
              "        [11.729609, 11.568995, ...,  6.786005,  6.865045],\n",
              "        [11.844446, 11.534296, ...,  6.860742,  6.969079]]], dtype=float32)\n",
              "Coordinates:\n",
              "  * starttime  (starttime) float64 9.264e+04 9.264e+04 ... 9.266e+04 9.266e+04\n",
              "    endtime    (starttime) float64 ...\n",
              "    x_speed    (starttime) int64 ...\n",
              "    y_speed    (starttime) int64 ...\n",
              "Dimensions without coordinates: y, x"
            ],
            "text/html": [
              "<div><svg style=\"position: absolute; width: 0; height: 0; overflow: hidden\">\n",
              "<defs>\n",
              "<symbol id=\"icon-database\" viewBox=\"0 0 32 32\">\n",
              "<path d=\"M16 0c-8.837 0-16 2.239-16 5v4c0 2.761 7.163 5 16 5s16-2.239 16-5v-4c0-2.761-7.163-5-16-5z\"></path>\n",
              "<path d=\"M16 17c-8.837 0-16-2.239-16-5v6c0 2.761 7.163 5 16 5s16-2.239 16-5v-6c0 2.761-7.163 5-16 5z\"></path>\n",
              "<path d=\"M16 26c-8.837 0-16-2.239-16-5v6c0 2.761 7.163 5 16 5s16-2.239 16-5v-6c0 2.761-7.163 5-16 5z\"></path>\n",
              "</symbol>\n",
              "<symbol id=\"icon-file-text2\" viewBox=\"0 0 32 32\">\n",
              "<path d=\"M28.681 7.159c-0.694-0.947-1.662-2.053-2.724-3.116s-2.169-2.030-3.116-2.724c-1.612-1.182-2.393-1.319-2.841-1.319h-15.5c-1.378 0-2.5 1.121-2.5 2.5v27c0 1.378 1.122 2.5 2.5 2.5h23c1.378 0 2.5-1.122 2.5-2.5v-19.5c0-0.448-0.137-1.23-1.319-2.841zM24.543 5.457c0.959 0.959 1.712 1.825 2.268 2.543h-4.811v-4.811c0.718 0.556 1.584 1.309 2.543 2.268zM28 29.5c0 0.271-0.229 0.5-0.5 0.5h-23c-0.271 0-0.5-0.229-0.5-0.5v-27c0-0.271 0.229-0.5 0.5-0.5 0 0 15.499-0 15.5 0v7c0 0.552 0.448 1 1 1h7v19.5z\"></path>\n",
              "<path d=\"M23 26h-14c-0.552 0-1-0.448-1-1s0.448-1 1-1h14c0.552 0 1 0.448 1 1s-0.448 1-1 1z\"></path>\n",
              "<path d=\"M23 22h-14c-0.552 0-1-0.448-1-1s0.448-1 1-1h14c0.552 0 1 0.448 1 1s-0.448 1-1 1z\"></path>\n",
              "<path d=\"M23 18h-14c-0.552 0-1-0.448-1-1s0.448-1 1-1h14c0.552 0 1 0.448 1 1s-0.448 1-1 1z\"></path>\n",
              "</symbol>\n",
              "</defs>\n",
              "</svg>\n",
              "<style>/* CSS stylesheet for displaying xarray objects in jupyterlab.\n",
              " *\n",
              " */\n",
              "\n",
              ":root {\n",
              "  --xr-font-color0: var(--jp-content-font-color0, rgba(0, 0, 0, 1));\n",
              "  --xr-font-color2: var(--jp-content-font-color2, rgba(0, 0, 0, 0.54));\n",
              "  --xr-font-color3: var(--jp-content-font-color3, rgba(0, 0, 0, 0.38));\n",
              "  --xr-border-color: var(--jp-border-color2, #e0e0e0);\n",
              "  --xr-disabled-color: var(--jp-layout-color3, #bdbdbd);\n",
              "  --xr-background-color: var(--jp-layout-color0, white);\n",
              "  --xr-background-color-row-even: var(--jp-layout-color1, white);\n",
              "  --xr-background-color-row-odd: var(--jp-layout-color2, #eeeeee);\n",
              "}\n",
              "\n",
              "html[theme=dark],\n",
              "body[data-theme=dark],\n",
              "body.vscode-dark {\n",
              "  --xr-font-color0: rgba(255, 255, 255, 1);\n",
              "  --xr-font-color2: rgba(255, 255, 255, 0.54);\n",
              "  --xr-font-color3: rgba(255, 255, 255, 0.38);\n",
              "  --xr-border-color: #1F1F1F;\n",
              "  --xr-disabled-color: #515151;\n",
              "  --xr-background-color: #111111;\n",
              "  --xr-background-color-row-even: #111111;\n",
              "  --xr-background-color-row-odd: #313131;\n",
              "}\n",
              "\n",
              ".xr-wrap {\n",
              "  display: block !important;\n",
              "  min-width: 300px;\n",
              "  max-width: 700px;\n",
              "}\n",
              "\n",
              ".xr-text-repr-fallback {\n",
              "  /* fallback to plain text repr when CSS is not injected (untrusted notebook) */\n",
              "  display: none;\n",
              "}\n",
              "\n",
              ".xr-header {\n",
              "  padding-top: 6px;\n",
              "  padding-bottom: 6px;\n",
              "  margin-bottom: 4px;\n",
              "  border-bottom: solid 1px var(--xr-border-color);\n",
              "}\n",
              "\n",
              ".xr-header > div,\n",
              ".xr-header > ul {\n",
              "  display: inline;\n",
              "  margin-top: 0;\n",
              "  margin-bottom: 0;\n",
              "}\n",
              "\n",
              ".xr-obj-type,\n",
              ".xr-array-name {\n",
              "  margin-left: 2px;\n",
              "  margin-right: 10px;\n",
              "}\n",
              "\n",
              ".xr-obj-type {\n",
              "  color: var(--xr-font-color2);\n",
              "}\n",
              "\n",
              ".xr-sections {\n",
              "  padding-left: 0 !important;\n",
              "  display: grid;\n",
              "  grid-template-columns: 150px auto auto 1fr 20px 20px;\n",
              "}\n",
              "\n",
              ".xr-section-item {\n",
              "  display: contents;\n",
              "}\n",
              "\n",
              ".xr-section-item input {\n",
              "  display: none;\n",
              "}\n",
              "\n",
              ".xr-section-item input + label {\n",
              "  color: var(--xr-disabled-color);\n",
              "}\n",
              "\n",
              ".xr-section-item input:enabled + label {\n",
              "  cursor: pointer;\n",
              "  color: var(--xr-font-color2);\n",
              "}\n",
              "\n",
              ".xr-section-item input:enabled + label:hover {\n",
              "  color: var(--xr-font-color0);\n",
              "}\n",
              "\n",
              ".xr-section-summary {\n",
              "  grid-column: 1;\n",
              "  color: var(--xr-font-color2);\n",
              "  font-weight: 500;\n",
              "}\n",
              "\n",
              ".xr-section-summary > span {\n",
              "  display: inline-block;\n",
              "  padding-left: 0.5em;\n",
              "}\n",
              "\n",
              ".xr-section-summary-in:disabled + label {\n",
              "  color: var(--xr-font-color2);\n",
              "}\n",
              "\n",
              ".xr-section-summary-in + label:before {\n",
              "  display: inline-block;\n",
              "  content: '►';\n",
              "  font-size: 11px;\n",
              "  width: 15px;\n",
              "  text-align: center;\n",
              "}\n",
              "\n",
              ".xr-section-summary-in:disabled + label:before {\n",
              "  color: var(--xr-disabled-color);\n",
              "}\n",
              "\n",
              ".xr-section-summary-in:checked + label:before {\n",
              "  content: '▼';\n",
              "}\n",
              "\n",
              ".xr-section-summary-in:checked + label > span {\n",
              "  display: none;\n",
              "}\n",
              "\n",
              ".xr-section-summary,\n",
              ".xr-section-inline-details {\n",
              "  padding-top: 4px;\n",
              "  padding-bottom: 4px;\n",
              "}\n",
              "\n",
              ".xr-section-inline-details {\n",
              "  grid-column: 2 / -1;\n",
              "}\n",
              "\n",
              ".xr-section-details {\n",
              "  display: none;\n",
              "  grid-column: 1 / -1;\n",
              "  margin-bottom: 5px;\n",
              "}\n",
              "\n",
              ".xr-section-summary-in:checked ~ .xr-section-details {\n",
              "  display: contents;\n",
              "}\n",
              "\n",
              ".xr-array-wrap {\n",
              "  grid-column: 1 / -1;\n",
              "  display: grid;\n",
              "  grid-template-columns: 20px auto;\n",
              "}\n",
              "\n",
              ".xr-array-wrap > label {\n",
              "  grid-column: 1;\n",
              "  vertical-align: top;\n",
              "}\n",
              "\n",
              ".xr-preview {\n",
              "  color: var(--xr-font-color3);\n",
              "}\n",
              "\n",
              ".xr-array-preview,\n",
              ".xr-array-data {\n",
              "  padding: 0 5px !important;\n",
              "  grid-column: 2;\n",
              "}\n",
              "\n",
              ".xr-array-data,\n",
              ".xr-array-in:checked ~ .xr-array-preview {\n",
              "  display: none;\n",
              "}\n",
              "\n",
              ".xr-array-in:checked ~ .xr-array-data,\n",
              ".xr-array-preview {\n",
              "  display: inline-block;\n",
              "}\n",
              "\n",
              ".xr-dim-list {\n",
              "  display: inline-block !important;\n",
              "  list-style: none;\n",
              "  padding: 0 !important;\n",
              "  margin: 0;\n",
              "}\n",
              "\n",
              ".xr-dim-list li {\n",
              "  display: inline-block;\n",
              "  padding: 0;\n",
              "  margin: 0;\n",
              "}\n",
              "\n",
              ".xr-dim-list:before {\n",
              "  content: '(';\n",
              "}\n",
              "\n",
              ".xr-dim-list:after {\n",
              "  content: ')';\n",
              "}\n",
              "\n",
              ".xr-dim-list li:not(:last-child):after {\n",
              "  content: ',';\n",
              "  padding-right: 5px;\n",
              "}\n",
              "\n",
              ".xr-has-index {\n",
              "  font-weight: bold;\n",
              "}\n",
              "\n",
              ".xr-var-list,\n",
              ".xr-var-item {\n",
              "  display: contents;\n",
              "}\n",
              "\n",
              ".xr-var-item > div,\n",
              ".xr-var-item label,\n",
              ".xr-var-item > .xr-var-name span {\n",
              "  background-color: var(--xr-background-color-row-even);\n",
              "  margin-bottom: 0;\n",
              "}\n",
              "\n",
              ".xr-var-item > .xr-var-name:hover span {\n",
              "  padding-right: 5px;\n",
              "}\n",
              "\n",
              ".xr-var-list > li:nth-child(odd) > div,\n",
              ".xr-var-list > li:nth-child(odd) > label,\n",
              ".xr-var-list > li:nth-child(odd) > .xr-var-name span {\n",
              "  background-color: var(--xr-background-color-row-odd);\n",
              "}\n",
              "\n",
              ".xr-var-name {\n",
              "  grid-column: 1;\n",
              "}\n",
              "\n",
              ".xr-var-dims {\n",
              "  grid-column: 2;\n",
              "}\n",
              "\n",
              ".xr-var-dtype {\n",
              "  grid-column: 3;\n",
              "  text-align: right;\n",
              "  color: var(--xr-font-color2);\n",
              "}\n",
              "\n",
              ".xr-var-preview {\n",
              "  grid-column: 4;\n",
              "}\n",
              "\n",
              ".xr-index-preview {\n",
              "  grid-column: 2 / 5;\n",
              "  color: var(--xr-font-color2);\n",
              "}\n",
              "\n",
              ".xr-var-name,\n",
              ".xr-var-dims,\n",
              ".xr-var-dtype,\n",
              ".xr-preview,\n",
              ".xr-attrs dt {\n",
              "  white-space: nowrap;\n",
              "  overflow: hidden;\n",
              "  text-overflow: ellipsis;\n",
              "  padding-right: 10px;\n",
              "}\n",
              "\n",
              ".xr-var-name:hover,\n",
              ".xr-var-dims:hover,\n",
              ".xr-var-dtype:hover,\n",
              ".xr-attrs dt:hover {\n",
              "  overflow: visible;\n",
              "  width: auto;\n",
              "  z-index: 1;\n",
              "}\n",
              "\n",
              ".xr-var-attrs,\n",
              ".xr-var-data,\n",
              ".xr-index-data {\n",
              "  display: none;\n",
              "  background-color: var(--xr-background-color) !important;\n",
              "  padding-bottom: 5px !important;\n",
              "}\n",
              "\n",
              ".xr-var-attrs-in:checked ~ .xr-var-attrs,\n",
              ".xr-var-data-in:checked ~ .xr-var-data,\n",
              ".xr-index-data-in:checked ~ .xr-index-data {\n",
              "  display: block;\n",
              "}\n",
              "\n",
              ".xr-var-data > table {\n",
              "  float: right;\n",
              "}\n",
              "\n",
              ".xr-var-name span,\n",
              ".xr-var-data,\n",
              ".xr-index-name div,\n",
              ".xr-index-data,\n",
              ".xr-attrs {\n",
              "  padding-left: 25px !important;\n",
              "}\n",
              "\n",
              ".xr-attrs,\n",
              ".xr-var-attrs,\n",
              ".xr-var-data,\n",
              ".xr-index-data {\n",
              "  grid-column: 1 / -1;\n",
              "}\n",
              "\n",
              "dl.xr-attrs {\n",
              "  padding: 0;\n",
              "  margin: 0;\n",
              "  display: grid;\n",
              "  grid-template-columns: 125px auto;\n",
              "}\n",
              "\n",
              ".xr-attrs dt,\n",
              ".xr-attrs dd {\n",
              "  padding: 0;\n",
              "  margin: 0;\n",
              "  float: left;\n",
              "  padding-right: 10px;\n",
              "  width: auto;\n",
              "}\n",
              "\n",
              ".xr-attrs dt {\n",
              "  font-weight: normal;\n",
              "  grid-column: 1;\n",
              "}\n",
              "\n",
              ".xr-attrs dt:hover span {\n",
              "  display: inline-block;\n",
              "  background: var(--xr-background-color);\n",
              "  padding-right: 10px;\n",
              "}\n",
              "\n",
              ".xr-attrs dd {\n",
              "  grid-column: 2;\n",
              "  white-space: pre-wrap;\n",
              "  word-break: break-all;\n",
              "}\n",
              "\n",
              ".xr-icon-database,\n",
              ".xr-icon-file-text2,\n",
              ".xr-no-icon {\n",
              "  display: inline-block;\n",
              "  vertical-align: middle;\n",
              "  width: 1em;\n",
              "  height: 1.5em !important;\n",
              "  stroke-width: 0;\n",
              "  stroke: currentColor;\n",
              "  fill: currentColor;\n",
              "}\n",
              "</style><pre class='xr-text-repr-fallback'>&lt;xarray.DataArray &#x27;ctt_grid&#x27; (starttime: 2224, y: 32, x: 32)&gt;\n",
              "array([[[30.846277, 30.279108, ..., 24.160944, 24.194544],\n",
              "        [30.6896  , 30.205988, ..., 24.138666, 24.156153],\n",
              "        ...,\n",
              "        [30.277369, 30.2774  , ..., 26.490808, 26.25442 ],\n",
              "        [30.505335, 30.508722, ..., 26.57281 , 26.230433]],\n",
              "\n",
              "       [[25.258142, 25.295069, ..., 24.994104, 25.126917],\n",
              "        [25.225428, 25.246546, ..., 24.939692, 25.09524 ],\n",
              "        ...,\n",
              "        [26.568964, 26.706263, ..., 26.439295, 26.521112],\n",
              "        [26.157099, 26.472956, ..., 26.13833 , 26.378107]],\n",
              "\n",
              "       ...,\n",
              "\n",
              "       [[ 6.15835 ,  6.025629, ...,  9.892878, 10.899347],\n",
              "        [ 6.217981,  6.145288, ...,  9.261835, 10.487543],\n",
              "        ...,\n",
              "        [ 5.472223,  5.668146, ..., 13.922358, 14.290552],\n",
              "        [ 5.576868,  5.710046, ..., 13.969812, 14.191675]],\n",
              "\n",
              "       [[ 9.979548,  9.917505, ...,  6.802606,  6.493005],\n",
              "        [ 9.948603,  9.846491, ...,  6.554163,  6.430017],\n",
              "        ...,\n",
              "        [11.729609, 11.568995, ...,  6.786005,  6.865045],\n",
              "        [11.844446, 11.534296, ...,  6.860742,  6.969079]]], dtype=float32)\n",
              "Coordinates:\n",
              "  * starttime  (starttime) float64 9.264e+04 9.264e+04 ... 9.266e+04 9.266e+04\n",
              "    endtime    (starttime) float64 ...\n",
              "    x_speed    (starttime) int64 ...\n",
              "    y_speed    (starttime) int64 ...\n",
              "Dimensions without coordinates: y, x</pre><div class='xr-wrap' style='display:none'><div class='xr-header'><div class='xr-obj-type'>xarray.DataArray</div><div class='xr-array-name'>'ctt_grid'</div><ul class='xr-dim-list'><li><span class='xr-has-index'>starttime</span>: 2224</li><li><span>y</span>: 32</li><li><span>x</span>: 32</li></ul></div><ul class='xr-sections'><li class='xr-section-item'><div class='xr-array-wrap'><input id='section-e7156ac9-c827-4b1d-8317-d275b0a1aa65' class='xr-array-in' type='checkbox' checked><label for='section-e7156ac9-c827-4b1d-8317-d275b0a1aa65' title='Show/hide data repr'><svg class='icon xr-icon-database'><use xlink:href='#icon-database'></use></svg></label><div class='xr-array-preview xr-preview'><span>30.85 30.28 29.92 29.62 29.3 28.89 ... 6.577 6.554 6.486 6.861 6.969</span></div><div class='xr-array-data'><pre>array([[[30.846277, 30.279108, ..., 24.160944, 24.194544],\n",
              "        [30.6896  , 30.205988, ..., 24.138666, 24.156153],\n",
              "        ...,\n",
              "        [30.277369, 30.2774  , ..., 26.490808, 26.25442 ],\n",
              "        [30.505335, 30.508722, ..., 26.57281 , 26.230433]],\n",
              "\n",
              "       [[25.258142, 25.295069, ..., 24.994104, 25.126917],\n",
              "        [25.225428, 25.246546, ..., 24.939692, 25.09524 ],\n",
              "        ...,\n",
              "        [26.568964, 26.706263, ..., 26.439295, 26.521112],\n",
              "        [26.157099, 26.472956, ..., 26.13833 , 26.378107]],\n",
              "\n",
              "       ...,\n",
              "\n",
              "       [[ 6.15835 ,  6.025629, ...,  9.892878, 10.899347],\n",
              "        [ 6.217981,  6.145288, ...,  9.261835, 10.487543],\n",
              "        ...,\n",
              "        [ 5.472223,  5.668146, ..., 13.922358, 14.290552],\n",
              "        [ 5.576868,  5.710046, ..., 13.969812, 14.191675]],\n",
              "\n",
              "       [[ 9.979548,  9.917505, ...,  6.802606,  6.493005],\n",
              "        [ 9.948603,  9.846491, ...,  6.554163,  6.430017],\n",
              "        ...,\n",
              "        [11.729609, 11.568995, ...,  6.786005,  6.865045],\n",
              "        [11.844446, 11.534296, ...,  6.860742,  6.969079]]], dtype=float32)</pre></div></div></li><li class='xr-section-item'><input id='section-a33a0539-9c0a-4d03-9636-c9016e5e887b' class='xr-section-summary-in' type='checkbox'  checked><label for='section-a33a0539-9c0a-4d03-9636-c9016e5e887b' class='xr-section-summary' >Coordinates: <span>(4)</span></label><div class='xr-section-inline-details'></div><div class='xr-section-details'><ul class='xr-var-list'><li class='xr-var-item'><div class='xr-var-name'><span class='xr-has-index'>starttime</span></div><div class='xr-var-dims'>(starttime)</div><div class='xr-var-dtype'>float64</div><div class='xr-var-preview xr-preview'>9.264e+04 9.264e+04 ... 9.266e+04</div><input id='attrs-2c1c6407-fe03-4cd0-ae97-6da0d49f8c11' class='xr-var-attrs-in' type='checkbox' disabled><label for='attrs-2c1c6407-fe03-4cd0-ae97-6da0d49f8c11' title='Show/Hide attributes'><svg class='icon xr-icon-file-text2'><use xlink:href='#icon-file-text2'></use></svg></label><input id='data-eff899f8-6df2-4455-88d7-f1c97a7dac78' class='xr-var-data-in' type='checkbox'><label for='data-eff899f8-6df2-4455-88d7-f1c97a7dac78' title='Show/Hide data repr'><svg class='icon xr-icon-database'><use xlink:href='#icon-database'></use></svg></label><div class='xr-var-attrs'><dl class='xr-attrs'></dl></div><div class='xr-var-data'><pre>array([92640., 92640., 92640., ..., 92661., 92661., 92661.])</pre></div></li><li class='xr-var-item'><div class='xr-var-name'><span>endtime</span></div><div class='xr-var-dims'>(starttime)</div><div class='xr-var-dtype'>float64</div><div class='xr-var-preview xr-preview'>...</div><input id='attrs-c40da435-641d-4fea-820e-8478c725df1d' class='xr-var-attrs-in' type='checkbox' disabled><label for='attrs-c40da435-641d-4fea-820e-8478c725df1d' title='Show/Hide attributes'><svg class='icon xr-icon-file-text2'><use xlink:href='#icon-file-text2'></use></svg></label><input id='data-95a802d9-1f49-4327-a61e-adaef65f58bf' class='xr-var-data-in' type='checkbox'><label for='data-95a802d9-1f49-4327-a61e-adaef65f58bf' title='Show/Hide data repr'><svg class='icon xr-icon-database'><use xlink:href='#icon-database'></use></svg></label><div class='xr-var-attrs'><dl class='xr-attrs'></dl></div><div class='xr-var-data'><pre>[2224 values with dtype=float64]</pre></div></li><li class='xr-var-item'><div class='xr-var-name'><span>x_speed</span></div><div class='xr-var-dims'>(starttime)</div><div class='xr-var-dtype'>int64</div><div class='xr-var-preview xr-preview'>...</div><input id='attrs-b4a4639c-750f-46d8-8bd7-9e27662407ca' class='xr-var-attrs-in' type='checkbox' disabled><label for='attrs-b4a4639c-750f-46d8-8bd7-9e27662407ca' title='Show/Hide attributes'><svg class='icon xr-icon-file-text2'><use xlink:href='#icon-file-text2'></use></svg></label><input id='data-52bfe9eb-76fb-4abe-9483-584fb001b302' class='xr-var-data-in' type='checkbox'><label for='data-52bfe9eb-76fb-4abe-9483-584fb001b302' title='Show/Hide data repr'><svg class='icon xr-icon-database'><use xlink:href='#icon-database'></use></svg></label><div class='xr-var-attrs'><dl class='xr-attrs'></dl></div><div class='xr-var-data'><pre>[2224 values with dtype=int64]</pre></div></li><li class='xr-var-item'><div class='xr-var-name'><span>y_speed</span></div><div class='xr-var-dims'>(starttime)</div><div class='xr-var-dtype'>int64</div><div class='xr-var-preview xr-preview'>...</div><input id='attrs-02297501-bba4-4ab8-a7fd-01c6bd83e4a8' class='xr-var-attrs-in' type='checkbox' disabled><label for='attrs-02297501-bba4-4ab8-a7fd-01c6bd83e4a8' title='Show/Hide attributes'><svg class='icon xr-icon-file-text2'><use xlink:href='#icon-file-text2'></use></svg></label><input id='data-e03a66de-15b7-415f-80cb-58e74fb77b6e' class='xr-var-data-in' type='checkbox'><label for='data-e03a66de-15b7-415f-80cb-58e74fb77b6e' title='Show/Hide data repr'><svg class='icon xr-icon-database'><use xlink:href='#icon-database'></use></svg></label><div class='xr-var-attrs'><dl class='xr-attrs'></dl></div><div class='xr-var-data'><pre>[2224 values with dtype=int64]</pre></div></li></ul></div></li><li class='xr-section-item'><input id='section-f864491a-cee7-4ab1-be63-4639523febed' class='xr-section-summary-in' type='checkbox'  ><label for='section-f864491a-cee7-4ab1-be63-4639523febed' class='xr-section-summary' >Indexes: <span>(1)</span></label><div class='xr-section-inline-details'></div><div class='xr-section-details'><ul class='xr-var-list'><li class='xr-var-item'><div class='xr-index-name'><div>starttime</div></div><div class='xr-index-preview'>PandasIndex</div><div></div><input id='index-224fd48b-575e-4009-83c7-e4d9e7de30b6' class='xr-index-data-in' type='checkbox'/><label for='index-224fd48b-575e-4009-83c7-e4d9e7de30b6' title='Show/Hide index repr'><svg class='icon xr-icon-database'><use xlink:href='#icon-database'></use></svg></label><div class='xr-index-data'><pre>PandasIndex(Index([92640.0, 92640.0, 92640.0, 92640.0, 92640.0, 92640.0, 92640.0, 92640.0,\n",
              "       92640.0, 92640.0,\n",
              "       ...\n",
              "       92661.0, 92661.0, 92661.0, 92661.0, 92661.0, 92661.0, 92661.0, 92661.0,\n",
              "       92661.0, 92661.0],\n",
              "      dtype=&#x27;float64&#x27;, name=&#x27;starttime&#x27;, length=2224))</pre></div></li></ul></div></li><li class='xr-section-item'><input id='section-1747039e-7b3a-4a05-90df-60b9a074b0a8' class='xr-section-summary-in' type='checkbox' disabled ><label for='section-1747039e-7b3a-4a05-90df-60b9a074b0a8' class='xr-section-summary'  title='Expand/collapse section'>Attributes: <span>(0)</span></label><div class='xr-section-inline-details'></div><div class='xr-section-details'><dl class='xr-attrs'></dl></div></li></ul></div></div>"
            ]
          },
          "metadata": {},
          "execution_count": 5
        }
      ]
    },
    {
      "cell_type": "code",
      "source": [
        "# reshape data to be samples, features\n",
        "features_data = ds['ctt_grid'].stack(new_dim=([\"y\", \"x\"])).values\n",
        "print(features_data.shape)"
      ],
      "metadata": {
        "colab": {
          "base_uri": "https://localhost:8080/"
        },
        "id": "Dg1nX786FXrR",
        "outputId": "b1ca43b7-8ee0-4074-fcbd-a26e182a9abf"
      },
      "execution_count": 4,
      "outputs": [
        {
          "output_type": "stream",
          "name": "stdout",
          "text": [
            "(2224, 1024)\n"
          ]
        }
      ]
    },
    {
      "cell_type": "code",
      "source": [
        "features_data"
      ],
      "metadata": {
        "colab": {
          "base_uri": "https://localhost:8080/"
        },
        "id": "2vcr9t3cIsXN",
        "outputId": "1ebe2bb3-c526-4a6a-e204-8a81f0942694"
      },
      "execution_count": 7,
      "outputs": [
        {
          "output_type": "execute_result",
          "data": {
            "text/plain": [
              "array([[30.846277 , 30.279108 , 29.919764 , ..., 26.711267 , 26.57281  ,\n",
              "        26.230433 ],\n",
              "       [25.258142 , 25.295069 , 25.32879  , ..., 26.084314 , 26.13833  ,\n",
              "        26.378107 ],\n",
              "       [25.233667 , 25.231287 , 25.23791  , ..., 26.249506 , 26.371729 ,\n",
              "        26.55047  ],\n",
              "       ...,\n",
              "       [22.516962 , 22.837183 , 23.074884 , ..., 25.021357 , 24.635523 ,\n",
              "        24.421412 ],\n",
              "       [ 6.1583495,  6.0256286,  5.8575683, ..., 13.852137 , 13.969812 ,\n",
              "        14.191675 ],\n",
              "       [ 9.9795475,  9.917505 ,  9.844233 , ...,  6.4862304,  6.860742 ,\n",
              "         6.9690795]], dtype=float32)"
            ]
          },
          "metadata": {},
          "execution_count": 7
        }
      ]
    },
    {
      "cell_type": "code",
      "source": [
        "X_train, X_test, y_train, y_test = train_test_split(\n",
        "    features_data,\n",
        "    features_data,\n",
        "    test_size=0.3,\n",
        "    shuffle=False,\n",
        "    random_state=42)"
      ],
      "metadata": {
        "id": "b7dfQyq4JIbF"
      },
      "execution_count": 8,
      "outputs": []
    },
    {
      "cell_type": "code",
      "source": [
        "scaler = StandardScaler()\n",
        "scaler.fit(X_train)\n",
        "X_train = scaler.transform(X_train) # input\n",
        "X_test = scaler.transform(X_test) # input\n",
        "y_train = scaler.transform(y_train) # label\n",
        "y_test = scaler.transform(y_test) # label"
      ],
      "metadata": {
        "id": "ffojuEJYJISv"
      },
      "execution_count": 9,
      "outputs": []
    },
    {
      "cell_type": "code",
      "source": [
        "scaler.mean_.shape"
      ],
      "metadata": {
        "id": "H9Qsb3d4Buzs",
        "outputId": "d7278176-e194-45b3-918f-c358da37ca18",
        "colab": {
          "base_uri": "https://localhost:8080/"
        }
      },
      "execution_count": 12,
      "outputs": [
        {
          "output_type": "execute_result",
          "data": {
            "text/plain": [
              "(1024,)"
            ]
          },
          "metadata": {},
          "execution_count": 12
        }
      ]
    },
    {
      "cell_type": "code",
      "source": [
        "# check shapes\n",
        "print(X_train.shape, X_test.shape, y_train.shape, y_test.shape)"
      ],
      "metadata": {
        "colab": {
          "base_uri": "https://localhost:8080/"
        },
        "id": "3WNN1oQYKvbq",
        "outputId": "a8301f55-ef02-4055-fbf8-b0f9b5e4bf1c"
      },
      "execution_count": 13,
      "outputs": [
        {
          "output_type": "stream",
          "name": "stdout",
          "text": [
            "(1556, 1024) (668, 1024) (1556, 1024) (668, 1024)\n"
          ]
        }
      ]
    },
    {
      "cell_type": "code",
      "source": [
        "# create fully connected autoencoder\n",
        "model = keras.Sequential()\n",
        "\n",
        "# input\n",
        "model.add(keras.Input(shape=(1024))) # features\n",
        "\n",
        "# encoder\n",
        "# hidden layers\n",
        "model.add(layers.Dense(32, activation=\"relu\"))\n",
        "model.add(layers.Dense(8, activation=\"relu\"))\n",
        "\n",
        "# desired dimensions\n",
        "\n",
        "model.add(layers.Dense(2, activation=\"relu\"))\n",
        "\n",
        "# decoder\n",
        "\n",
        "model.add(layers.Dense(8, activation=\"relu\"))\n",
        "model.add(layers.Dense(32, activation=\"relu\"))\n",
        "\n",
        "# Finally, we add last layer\n",
        "model.add(layers.Dense(1024, activation='linear')) # back to the original shape\n",
        "\n",
        "# print model summary\n",
        "model.summary()"
      ],
      "metadata": {
        "colab": {
          "base_uri": "https://localhost:8080/"
        },
        "id": "n4JnAwI1J9Bk",
        "outputId": "77aed41d-8fbc-4ba0-d42f-b6f969e7c2eb"
      },
      "execution_count": 14,
      "outputs": [
        {
          "output_type": "stream",
          "name": "stdout",
          "text": [
            "Model: \"sequential\"\n",
            "_________________________________________________________________\n",
            " Layer (type)                Output Shape              Param #   \n",
            "=================================================================\n",
            " dense (Dense)               (None, 32)                32800     \n",
            "                                                                 \n",
            " dense_1 (Dense)             (None, 8)                 264       \n",
            "                                                                 \n",
            " dense_2 (Dense)             (None, 2)                 18        \n",
            "                                                                 \n",
            " dense_3 (Dense)             (None, 8)                 24        \n",
            "                                                                 \n",
            " dense_4 (Dense)             (None, 32)                288       \n",
            "                                                                 \n",
            " dense_5 (Dense)             (None, 1024)              33792     \n",
            "                                                                 \n",
            "=================================================================\n",
            "Total params: 67186 (262.45 KB)\n",
            "Trainable params: 67186 (262.45 KB)\n",
            "Non-trainable params: 0 (0.00 Byte)\n",
            "_________________________________________________________________\n"
          ]
        }
      ]
    },
    {
      "cell_type": "code",
      "source": [
        "METRICS = [\n",
        "    keras.metrics.MeanSquaredError(name='mean_squared_error'),\n",
        "    keras.metrics.RootMeanSquaredError(name='root_mean_squared_error'),\n",
        "]\n",
        "\n",
        "model.compile(\n",
        "    optimizer=keras.optimizers.Adam(learning_rate=0.001),\n",
        "    loss=\"mean_squared_error\",\n",
        "    metrics=METRICS\n",
        ")\n",
        "\n",
        "BATCH_SIZE = 32\n",
        "EPOCHS = 10"
      ],
      "metadata": {
        "id": "NTMiTP9ELYO9"
      },
      "execution_count": 15,
      "outputs": []
    },
    {
      "cell_type": "code",
      "source": [
        "history = model.fit(\n",
        "    x=X_train,\n",
        "    y=y_train,\n",
        "    batch_size=BATCH_SIZE,\n",
        "    epochs=EPOCHS,\n",
        "    validation_split=0.1,\n",
        "    shuffle=True,\n",
        ")"
      ],
      "metadata": {
        "colab": {
          "base_uri": "https://localhost:8080/"
        },
        "id": "y5dS4BDILYLA",
        "outputId": "9c47a2bf-6d56-4721-facf-9f329b970245"
      },
      "execution_count": 16,
      "outputs": [
        {
          "output_type": "stream",
          "name": "stdout",
          "text": [
            "Epoch 1/10\n",
            "44/44 [==============================] - 2s 9ms/step - loss: 0.5251 - mean_squared_error: 0.5251 - root_mean_squared_error: 0.7247 - val_loss: 0.0363 - val_mean_squared_error: 0.0363 - val_root_mean_squared_error: 0.1906\n",
            "Epoch 2/10\n",
            "44/44 [==============================] - 0s 4ms/step - loss: 0.0589 - mean_squared_error: 0.0589 - root_mean_squared_error: 0.2427 - val_loss: 0.0301 - val_mean_squared_error: 0.0301 - val_root_mean_squared_error: 0.1736\n",
            "Epoch 3/10\n",
            "44/44 [==============================] - 0s 5ms/step - loss: 0.0572 - mean_squared_error: 0.0572 - root_mean_squared_error: 0.2392 - val_loss: 0.0351 - val_mean_squared_error: 0.0351 - val_root_mean_squared_error: 0.1872\n",
            "Epoch 4/10\n",
            "44/44 [==============================] - 0s 5ms/step - loss: 0.0568 - mean_squared_error: 0.0568 - root_mean_squared_error: 0.2384 - val_loss: 0.0304 - val_mean_squared_error: 0.0304 - val_root_mean_squared_error: 0.1744\n",
            "Epoch 5/10\n",
            "44/44 [==============================] - 0s 4ms/step - loss: 0.0557 - mean_squared_error: 0.0557 - root_mean_squared_error: 0.2360 - val_loss: 0.0296 - val_mean_squared_error: 0.0296 - val_root_mean_squared_error: 0.1721\n",
            "Epoch 6/10\n",
            "44/44 [==============================] - 0s 4ms/step - loss: 0.0553 - mean_squared_error: 0.0553 - root_mean_squared_error: 0.2351 - val_loss: 0.0298 - val_mean_squared_error: 0.0298 - val_root_mean_squared_error: 0.1726\n",
            "Epoch 7/10\n",
            "44/44 [==============================] - 0s 5ms/step - loss: 0.0551 - mean_squared_error: 0.0551 - root_mean_squared_error: 0.2348 - val_loss: 0.0302 - val_mean_squared_error: 0.0302 - val_root_mean_squared_error: 0.1737\n",
            "Epoch 8/10\n",
            "44/44 [==============================] - 0s 5ms/step - loss: 0.0551 - mean_squared_error: 0.0551 - root_mean_squared_error: 0.2348 - val_loss: 0.0303 - val_mean_squared_error: 0.0303 - val_root_mean_squared_error: 0.1741\n",
            "Epoch 9/10\n",
            "44/44 [==============================] - 0s 4ms/step - loss: 0.0551 - mean_squared_error: 0.0551 - root_mean_squared_error: 0.2347 - val_loss: 0.0298 - val_mean_squared_error: 0.0298 - val_root_mean_squared_error: 0.1728\n",
            "Epoch 10/10\n",
            "44/44 [==============================] - 0s 4ms/step - loss: 0.0550 - mean_squared_error: 0.0550 - root_mean_squared_error: 0.2346 - val_loss: 0.0310 - val_mean_squared_error: 0.0310 - val_root_mean_squared_error: 0.1759\n"
          ]
        }
      ]
    },
    {
      "cell_type": "code",
      "source": [
        "plt.plot(history.history[\"mean_squared_error\"], c='k')\n",
        "plt.plot(history.history[\"val_mean_squared_error\"], c='r')\n",
        "plt.show()"
      ],
      "metadata": {
        "colab": {
          "base_uri": "https://localhost:8080/",
          "height": 430
        },
        "id": "KIo2XzMzX7xU",
        "outputId": "a5a072ef-0063-48a4-97f8-265774aa97c2"
      },
      "execution_count": 17,
      "outputs": [
        {
          "output_type": "display_data",
          "data": {
            "text/plain": [
              "<Figure size 640x480 with 1 Axes>"
            ],
            "image/png": "[encoded data removed]"
          },
          "metadata": {}
        }
      ]
    },
    {
      "cell_type": "code",
      "source": [
        "y_pred = model.predict(X_test)"
      ],
      "metadata": {
        "id": "JH1T-6uHFtMp",
        "outputId": "03e6d8c3-3a36-46a6-ac26-3530f1cfeb76",
        "colab": {
          "base_uri": "https://localhost:8080/"
        }
      },
      "execution_count": 18,
      "outputs": [
        {
          "output_type": "stream",
          "name": "stdout",
          "text": [
            "21/21 [==============================] - 0s 4ms/step\n"
          ]
        }
      ]
    },
    {
      "cell_type": "code",
      "source": [
        "y_pred.shape"
      ],
      "metadata": {
        "id": "i3BzhR-tFtV5",
        "outputId": "29807033-6573-4732-bbe4-b79df7fd9881",
        "colab": {
          "base_uri": "https://localhost:8080/"
        }
      },
      "execution_count": 19,
      "outputs": [
        {
          "output_type": "execute_result",
          "data": {
            "text/plain": [
              "(668, 1024)"
            ]
          },
          "metadata": {},
          "execution_count": 19
        }
      ]
    },
    {
      "cell_type": "code",
      "source": [
        "plt.scatter(y_test, y_pred)"
      ],
      "metadata": {
        "id": "y_eMdRUcFteu",
        "outputId": "d85de386-b0ee-42ff-8107-e0771f237274",
        "colab": {
          "base_uri": "https://localhost:8080/",
          "height": 447
        }
      },
      "execution_count": 20,
      "outputs": [
        {
          "output_type": "execute_result",
          "data": {
            "text/plain": [
              "<matplotlib.collections.PathCollection at 0x7a5c148a2380>"
            ]
          },
          "metadata": {},
          "execution_count": 20
        },
        {
          "output_type": "display_data",
          "data": {
            "text/plain": [
              "<Figure size 640x480 with 1 Axes>"
            ],
            "image/png": "[encoded data removed]"
          },
          "metadata": {}
        }
      ]
    },
    {
      "cell_type": "code",
      "source": [
        "mse_score = keras.metrics.MeanSquaredError(name='mean_squared_error')"
      ],
      "metadata": {
        "id": "V21QB_mjFtoU"
      },
      "execution_count": 21,
      "outputs": []
    },
    {
      "cell_type": "code",
      "source": [
        "mse_score.update_state(y_test, y_pred)"
      ],
      "metadata": {
        "id": "HLHKfpWbGckH",
        "outputId": "9797dbbc-69b4-4cf6-c98c-a11622111149",
        "colab": {
          "base_uri": "https://localhost:8080/"
        }
      },
      "execution_count": 22,
      "outputs": [
        {
          "output_type": "execute_result",
          "data": {
            "text/plain": [
              "<tf.Variable 'UnreadVariable' shape=() dtype=float32, numpy=668.0>"
            ]
          },
          "metadata": {},
          "execution_count": 22
        }
      ]
    },
    {
      "cell_type": "code",
      "source": [
        "from sklearn.metrics import mean_squared_error\n",
        "mean_squared_error(y_test, y_pred)"
      ],
      "metadata": {
        "id": "UZ6Z72qAHGSK",
        "outputId": "c0d851a0-cc67-4ddf-fcc4-1a994bfa5555",
        "colab": {
          "base_uri": "https://localhost:8080/"
        }
      },
      "execution_count": 26,
      "outputs": [
        {
          "output_type": "execute_result",
          "data": {
            "text/plain": [
              "0.08305821"
            ]
          },
          "metadata": {},
          "execution_count": 26
        }
      ]
    },
    {
      "cell_type": "code",
      "source": [
        "import keras as ks\n",
        "#ks.backend.function([model.layers[0].input,\n",
        "#model.layers[1].input,\n",
        "#model.layers[2].input], [model.layers[2].output])"
      ],
      "metadata": {
        "id": "e0wXXtcRI6U2"
      },
      "execution_count": 30,
      "outputs": []
    },
    {
      "cell_type": "code",
      "source": [
        "#get_bottleneck = ks.backend.function"
      ],
      "metadata": {
        "id": "bvUIUciTI6d0"
      },
      "execution_count": null,
      "outputs": []
    },
    {
      "cell_type": "code",
      "source": [
        "# saving model\n",
        "model.save('autoencodersample.keras')"
      ],
      "metadata": {
        "id": "FP6Vu34_LYD_"
      },
      "execution_count": 31,
      "outputs": []
    },
    {
      "cell_type": "code",
      "source": [
        "model2 = ks.models.load_model('autoencodersample.keras')"
      ],
      "metadata": {
        "id": "zIa54o_oKLHA"
      },
      "execution_count": 32,
      "outputs": []
    },
    {
      "cell_type": "code",
      "source": [
        "ypred2 = model2.predict(X_test)"
      ],
      "metadata": {
        "id": "ChkoTOHFKUzJ",
        "outputId": "c3306dae-e63b-478a-a40a-d56c2e7441e1",
        "colab": {
          "base_uri": "https://localhost:8080/"
        }
      },
      "execution_count": 33,
      "outputs": [
        {
          "output_type": "stream",
          "name": "stdout",
          "text": [
            "21/21 [==============================] - 0s 4ms/step\n"
          ]
        }
      ]
    },
    {
      "cell_type": "code",
      "source": [
        "plt.scatter(y_test, ypred2)\n",
        "plt.show()"
      ],
      "metadata": {
        "id": "u4e_c46BKaTz",
        "outputId": "b0b8fc51-04c5-4b92-e531-b28b451bb57b",
        "colab": {
          "base_uri": "https://localhost:8080/",
          "height": 430
        }
      },
      "execution_count": 34,
      "outputs": [
        {
          "output_type": "display_data",
          "data": {
            "text/plain": [
              "<Figure size 640x480 with 1 Axes>"
            ],
            "image/png": "[encoded data removed]"
          },
          "metadata": {}
        }
      ]
    },
    {
      "cell_type": "markdown",
      "source": [
        "## CNN Autoencoder"
      ],
      "metadata": {
        "id": "CnJOrJ4WErKd"
      }
    },
    {
      "cell_type": "code",
      "source": [
        "def z_score(da):\n",
        "    \"\"\"\n",
        "    Compute z-score for training data.\n",
        "    Normalizing data for ML model training.\n",
        "    Args:\n",
        "        da (array): Array of training variable.\n",
        "    \"\"\"\n",
        "    return (da - np.mean(da)) / np.std(da)\n",
        "\n",
        "def z_score_testing(da, testdata):\n",
        "    \"\"\"\n",
        "    Compute z-score for testing data.\n",
        "    Args:\n",
        "        da (array): Array of training variable.\n",
        "    \"\"\"\n",
        "    return (testdata - np.mean(da)) / np.std(da)"
      ],
      "metadata": {
        "id": "8tBktm3K4JNl"
      },
      "execution_count": 35,
      "outputs": []
    },
    {
      "cell_type": "code",
      "source": [
        "# reshape data to be samples, features\n",
        "features_data = ds['ctt_grid'].values\n",
        "print(features_data.shape)"
      ],
      "metadata": {
        "colab": {
          "base_uri": "https://localhost:8080/"
        },
        "id": "aVRljSszBQIe",
        "outputId": "36970116-5709-4e5a-8ea1-ca600701e819"
      },
      "execution_count": 36,
      "outputs": [
        {
          "output_type": "stream",
          "name": "stdout",
          "text": [
            "(2224, 32, 32)\n"
          ]
        }
      ]
    },
    {
      "cell_type": "code",
      "source": [
        "X_train, X_test, y_train, y_test = features_data[:1800], features_data[1800:], features_data[:1800], features_data[1800:]"
      ],
      "metadata": {
        "id": "Whxd2_cZ3k8W"
      },
      "execution_count": 37,
      "outputs": []
    },
    {
      "cell_type": "code",
      "source": [
        "X_test = z_score_testing(X_train, X_test) # input\n",
        "y_test = z_score_testing(y_train, y_test) # label\n",
        "\n",
        "X_train = z_score(X_train) # input\n",
        "y_train = z_score(y_train) # label"
      ],
      "metadata": {
        "id": "6xmsBq_k3k2r"
      },
      "execution_count": 38,
      "outputs": []
    },
    {
      "cell_type": "code",
      "source": [
        "# check shapes\n",
        "print(X_train.shape, X_test.shape, y_train.shape, y_test.shape)"
      ],
      "metadata": {
        "colab": {
          "base_uri": "https://localhost:8080/"
        },
        "id": "dXCWZMpj3kw6",
        "outputId": "ea578e9e-fd24-49df-83b5-8b9d42c692e4"
      },
      "execution_count": 39,
      "outputs": [
        {
          "output_type": "stream",
          "name": "stdout",
          "text": [
            "(1800, 32, 32) (424, 32, 32) (1800, 32, 32) (424, 32, 32)\n"
          ]
        }
      ]
    },
    {
      "cell_type": "code",
      "source": [
        "model = keras.Sequential()\n",
        "\n",
        "# input\n",
        "model.add(keras.Input(shape=(32, 32, 1)))  # 32x32 images\n",
        "\n",
        "# encoder\n",
        "# hidden layers\n",
        "model.add(layers.Conv2D(16, 3, strides=1, padding=\"same\", activation=\"relu\"))\n",
        "model.add(layers.MaxPooling2D(2))\n",
        "\n",
        "model.add(layers.Conv2D(8, 3, strides=1, padding=\"same\", activation=\"relu\"))\n",
        "model.add(layers.MaxPooling2D(2))\n",
        "\n",
        "model.add(layers.Conv2D(4, 3, strides=1, padding=\"same\", activation=\"relu\"))\n",
        "model.add(layers.MaxPooling2D(2))\n",
        "\n",
        "# decoder\n",
        "model.add(layers.Conv2D(4, 3, strides=1, padding=\"same\", activation=\"relu\"))\n",
        "model.add(layers.UpSampling2D(2))\n",
        "\n",
        "model.add(layers.Conv2D(8, 3, strides=1, padding=\"same\", activation=\"relu\"))\n",
        "model.add(layers.UpSampling2D(2))\n",
        "\n",
        "model.add(layers.Conv2D(16, 3, strides=1, padding=\"same\", activation=\"relu\"))\n",
        "model.add(layers.UpSampling2D(2))\n",
        "\n",
        "# Finally, we add last layer\n",
        "model.add(layers.Conv2D(1, (3, 3), activation='linear', padding='same'))\n",
        "\n",
        "# print model summary\n",
        "model.summary()"
      ],
      "metadata": {
        "colab": {
          "base_uri": "https://localhost:8080/"
        },
        "id": "AzQMwzPt3kpH",
        "outputId": "d0547376-4688-4bf7-d43b-89148e7e6b5b"
      },
      "execution_count": 40,
      "outputs": [
        {
          "output_type": "stream",
          "name": "stdout",
          "text": [
            "Model: \"sequential_1\"\n",
            "_________________________________________________________________\n",
            " Layer (type)                Output Shape              Param #   \n",
            "=================================================================\n",
            " conv2d (Conv2D)             (None, 32, 32, 16)        160       \n",
            "                                                                 \n",
            " max_pooling2d (MaxPooling2  (None, 16, 16, 16)        0         \n",
            " D)                                                              \n",
            "                                                                 \n",
            " conv2d_1 (Conv2D)           (None, 16, 16, 8)         1160      \n",
            "                                                                 \n",
            " max_pooling2d_1 (MaxPoolin  (None, 8, 8, 8)           0         \n",
            " g2D)                                                            \n",
            "                                                                 \n",
            " conv2d_2 (Conv2D)           (None, 8, 8, 4)           292       \n",
            "                                                                 \n",
            " max_pooling2d_2 (MaxPoolin  (None, 4, 4, 4)           0         \n",
            " g2D)                                                            \n",
            "                                                                 \n",
            " conv2d_3 (Conv2D)           (None, 4, 4, 4)           148       \n",
            "                                                                 \n",
            " up_sampling2d (UpSampling2  (None, 8, 8, 4)           0         \n",
            " D)                                                              \n",
            "                                                                 \n",
            " conv2d_4 (Conv2D)           (None, 8, 8, 8)           296       \n",
            "                                                                 \n",
            " up_sampling2d_1 (UpSamplin  (None, 16, 16, 8)         0         \n",
            " g2D)                                                            \n",
            "                                                                 \n",
            " conv2d_5 (Conv2D)           (None, 16, 16, 16)        1168      \n",
            "                                                                 \n",
            " up_sampling2d_2 (UpSamplin  (None, 32, 32, 16)        0         \n",
            " g2D)                                                            \n",
            "                                                                 \n",
            " conv2d_6 (Conv2D)           (None, 32, 32, 1)         145       \n",
            "                                                                 \n",
            "=================================================================\n",
            "Total params: 3369 (13.16 KB)\n",
            "Trainable params: 3369 (13.16 KB)\n",
            "Non-trainable params: 0 (0.00 Byte)\n",
            "_________________________________________________________________\n"
          ]
        }
      ]
    },
    {
      "cell_type": "code",
      "source": [
        "METRICS = [\n",
        "    keras.metrics.MeanSquaredError(name='mean_squared_error'),\n",
        "    keras.metrics.RootMeanSquaredError(name='root_mean_squared_error'),\n",
        "]\n",
        "\n",
        "model.compile(\n",
        "    optimizer=keras.optimizers.Adam(learning_rate=0.001),\n",
        "    loss=\"mean_squared_error\",\n",
        "    metrics=METRICS\n",
        ")\n",
        "\n",
        "BATCH_SIZE = 32\n",
        "EPOCHS = 10"
      ],
      "metadata": {
        "id": "teBOl4-45KCx"
      },
      "execution_count": 41,
      "outputs": []
    },
    {
      "cell_type": "code",
      "source": [
        "history = model.fit(\n",
        "    x=X_train,\n",
        "    y=y_train,\n",
        "    batch_size=BATCH_SIZE,\n",
        "    epochs=EPOCHS,\n",
        "    validation_split=0.1,\n",
        "    shuffle=True,\n",
        ")"
      ],
      "metadata": {
        "colab": {
          "base_uri": "https://localhost:8080/"
        },
        "id": "vkufMFbc5J9C",
        "outputId": "44fe37e3-1ccb-469c-cc0f-3f3b7a680bf4"
      },
      "execution_count": 42,
      "outputs": [
        {
          "output_type": "stream",
          "name": "stdout",
          "text": [
            "Epoch 1/10\n",
            "51/51 [==============================] - 4s 52ms/step - loss: 0.6713 - mean_squared_error: 0.6713 - root_mean_squared_error: 0.8193 - val_loss: 0.4738 - val_mean_squared_error: 0.4738 - val_root_mean_squared_error: 0.6883\n",
            "Epoch 2/10\n",
            "51/51 [==============================] - 2s 46ms/step - loss: 0.3062 - mean_squared_error: 0.3062 - root_mean_squared_error: 0.5533 - val_loss: 0.1020 - val_mean_squared_error: 0.1020 - val_root_mean_squared_error: 0.3194\n",
            "Epoch 3/10\n",
            "51/51 [==============================] - 2s 46ms/step - loss: 0.0833 - mean_squared_error: 0.0833 - root_mean_squared_error: 0.2885 - val_loss: 0.0836 - val_mean_squared_error: 0.0836 - val_root_mean_squared_error: 0.2892\n",
            "Epoch 4/10\n",
            "51/51 [==============================] - 4s 72ms/step - loss: 0.0543 - mean_squared_error: 0.0543 - root_mean_squared_error: 0.2331 - val_loss: 0.0516 - val_mean_squared_error: 0.0516 - val_root_mean_squared_error: 0.2271\n",
            "Epoch 5/10\n",
            "51/51 [==============================] - 2s 46ms/step - loss: 0.0447 - mean_squared_error: 0.0447 - root_mean_squared_error: 0.2114 - val_loss: 0.0425 - val_mean_squared_error: 0.0425 - val_root_mean_squared_error: 0.2061\n",
            "Epoch 6/10\n",
            "51/51 [==============================] - 2s 45ms/step - loss: 0.0408 - mean_squared_error: 0.0408 - root_mean_squared_error: 0.2019 - val_loss: 0.0382 - val_mean_squared_error: 0.0382 - val_root_mean_squared_error: 0.1954\n",
            "Epoch 7/10\n",
            "51/51 [==============================] - 2s 44ms/step - loss: 0.0362 - mean_squared_error: 0.0362 - root_mean_squared_error: 0.1902 - val_loss: 0.0369 - val_mean_squared_error: 0.0369 - val_root_mean_squared_error: 0.1921\n",
            "Epoch 8/10\n",
            "51/51 [==============================] - 2s 44ms/step - loss: 0.0340 - mean_squared_error: 0.0340 - root_mean_squared_error: 0.1843 - val_loss: 0.0310 - val_mean_squared_error: 0.0310 - val_root_mean_squared_error: 0.1762\n",
            "Epoch 9/10\n",
            "51/51 [==============================] - 4s 73ms/step - loss: 0.0323 - mean_squared_error: 0.0323 - root_mean_squared_error: 0.1797 - val_loss: 0.0322 - val_mean_squared_error: 0.0322 - val_root_mean_squared_error: 0.1794\n",
            "Epoch 10/10\n",
            "51/51 [==============================] - 2s 47ms/step - loss: 0.0314 - mean_squared_error: 0.0314 - root_mean_squared_error: 0.1771 - val_loss: 0.0298 - val_mean_squared_error: 0.0298 - val_root_mean_squared_error: 0.1725\n"
          ]
        }
      ]
    },
    {
      "cell_type": "code",
      "source": [
        "plt.plot(history.history[\"mean_squared_error\"], c='k')\n",
        "plt.plot(history.history[\"val_mean_squared_error\"], c='r')\n",
        "plt.show()"
      ],
      "metadata": {
        "colab": {
          "base_uri": "https://localhost:8080/",
          "height": 434
        },
        "id": "sr2Dr77c5J05",
        "outputId": "0913a27f-45ff-4d3c-a617-a21db7e38bea"
      },
      "execution_count": 43,
      "outputs": [
        {
          "output_type": "display_data",
          "data": {
            "text/plain": [
              "<Figure size 640x480 with 1 Axes>"
            ],
            "image/png": "[encoded data removed]"
          },
          "metadata": {}
        }
      ]
    },
    {
      "cell_type": "code",
      "source": [
        "# saving model\n",
        "# evaluation mode\n",
        "# evaluations"
      ],
      "metadata": {
        "id": "KMa7dgXE5WpG"
      },
      "execution_count": null,
      "outputs": []
    },
    {
      "cell_type": "code",
      "source": [
        "# for predict anomalies/outliers in the training dataset\n",
        "#prediction = model.predict(test_feats_standardized.values)\n",
        "\n",
        "# for get the mean absolute error between actual and reconstruction/prediction\n",
        "#prediction_loss = keras.losses.mae(prediction, test_feats_standardized.values)"
      ],
      "metadata": {
        "id": "rtT5yvYC5mdS"
      },
      "execution_count": null,
      "outputs": []
    },
    {
      "cell_type": "markdown",
      "source": [
        "## CNN Autoencoder Noise Removal"
      ],
      "metadata": {
        "id": "It_XWynZEtsc"
      }
    },
    {
      "cell_type": "code",
      "execution_count": null,
      "metadata": {
        "id": "4d682kwu-tLe"
      },
      "outputs": [],
      "source": [
        "def noise(array):\n",
        "    \"\"\"Adds random noise to each image in the supplied array.\"\"\"\n",
        "    noise_factor = 0.4\n",
        "    noisy_array = array + noise_factor * np.random.normal(\n",
        "        loc=0.0, scale=1.0, size=array.shape\n",
        "    )\n",
        "    return np.clip(noisy_array, 0.0, 1.0)"
      ]
    },
    {
      "cell_type": "code",
      "source": [
        "# Create a copy of the data with added noise\n",
        "#noisy_train_data = noise(train_data)\n",
        "#noisy_test_data = noise(test_data)"
      ],
      "metadata": {
        "id": "8YjOpKPvBQF4"
      },
      "execution_count": null,
      "outputs": []
    },
    {
      "cell_type": "code",
      "source": [],
      "metadata": {
        "id": "SfUSdJXiBP9T"
      },
      "execution_count": null,
      "outputs": []
    },
    {
      "cell_type": "code",
      "source": [],
      "metadata": {
        "id": "CEXwYXwZBP2h"
      },
      "execution_count": null,
      "outputs": []
    },
    {
      "cell_type": "code",
      "source": [],
      "metadata": {
        "id": "ApqtvKmTBZ1j"
      },
      "execution_count": null,
      "outputs": []
    },
    {
      "cell_type": "code",
      "source": [
        "# Evaluate the model on the test data using `evaluate`\n",
        "print(\"Evaluate on test data\")\n",
        "results = model.evaluate(test_feats_standardized.values, test_feats_standardized.values, batch_size=128)\n",
        "print(results)"
      ],
      "metadata": {
        "id": "MytV_c6nBZrp"
      },
      "execution_count": null,
      "outputs": []
    },
    {
      "cell_type": "code",
      "source": [
        "\n",
        "\n",
        "# for check the prediction loss threshold for 2% of outliers\n",
        "#loss_threshold = np.percentile(np.mean(prediction_loss, axis=(1,2)), 98)\n",
        "\n",
        "#print(f'The prediction loss threshold for 2% of outliers is {loss_threshold:.2f}')\n",
        "# for visualize the threshold\n",
        "#plt.hist(np.mean(prediction_loss, axis=(1,2)), bins=30, alpha=0.8)\n",
        "#plt.axvline(x=loss_threshold, color='orange')\n",
        "#plt.show()"
      ],
      "metadata": {
        "id": "Lyv_iWs2BZny"
      },
      "execution_count": null,
      "outputs": []
    }
  ]
}