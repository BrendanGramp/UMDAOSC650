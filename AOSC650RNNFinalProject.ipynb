{
 "cells": [
  {
   "cell_type": "markdown",
   "id": "e73e3c4c-d628-487a-9220-e0537a94b96d",
   "metadata": {},
   "source": [
    "# LSTM\n",
    "\n",
    "Data being read includes precipitation, gage height, river discharge, and longitude/latitude\n"
   ]
  },
  {
   "cell_type": "code",
   "execution_count": 1,
   "id": "9472a459-af62-40ac-8bf5-9db556fc279b",
   "metadata": {},
   "outputs": [
    {
     "name": "stderr",
     "output_type": "stream",
     "text": [
      "/opt/conda/envs/umd-spring-2024/lib/python3.10/site-packages/pandas/core/arrays/masked.py:60: UserWarning: Pandas requires version '1.3.6' or newer of 'bottleneck' (version '1.3.5' currently installed).\n",
      "  from pandas.core import (\n",
      "2024-05-09 13:15:47.184343: I tensorflow/core/platform/cpu_feature_guard.cc:210] This TensorFlow binary is optimized to use available CPU instructions in performance-critical operations.\n",
      "To enable the following instructions: AVX2 FMA, in other operations, rebuild TensorFlow with the appropriate compiler flags.\n",
      "2024-05-09 13:15:48.319185: W tensorflow/compiler/tf2tensorrt/utils/py_utils.cc:38] TF-TRT Warning: Could not find TensorRT\n"
     ]
    }
   ],
   "source": [
    "import math\n",
    "import numpy as np\n",
    "import matplotlib.pyplot as plt\n",
    "import pandas as pd\n",
    "from sklearn.preprocessing import MinMaxScaler\n",
    "from keras.models import Sequential\n",
    "from keras.layers import LSTM, Dense, Dropout, Activation, TimeDistributed, RepeatVector\n",
    "import keras\n",
    "#from keras.src.preprocessing.sequence import TimeseriesGenerator\n",
    "#from google.colab import drive\n",
    "#drive.mount('/Colab_Notebooks')"
   ]
  },
  {
   "cell_type": "code",
   "execution_count": 2,
   "id": "a49e0f5f-3782-4c63-826c-44c4928c76d3",
   "metadata": {},
   "outputs": [
    {
     "data": {
      "text/plain": [
       "'/share/bgramp'"
      ]
     },
     "execution_count": 2,
     "metadata": {},
     "output_type": "execute_result"
    }
   ],
   "source": [
    "pwd"
   ]
  },
  {
   "cell_type": "code",
   "execution_count": 3,
   "id": "84ac0507-98ef-4fe5-aaf8-7a9967f5ce86",
   "metadata": {},
   "outputs": [
    {
     "name": "stderr",
     "output_type": "stream",
     "text": [
      "/tmp/ipykernel_122/3825804853.py:98: DtypeWarning: Columns (4) have mixed types. Specify dtype option on import or set low_memory=False.\n",
      "  datasetthree11 = pd.read_csv(\n"
     ]
    }
   ],
   "source": [
    "# reading datasets\n",
    "dataset1 = pd.read_csv(\n",
    "    '01302020PowerPrecipitation2010-2023.csv',\n",
    "    delimiter=',')\n",
    "datasettwo1 = pd.read_csv(\n",
    "    '01302020Discharge2010-2023.csv',\n",
    "    delimiter=',')\n",
    "datasetthree1 = pd.read_csv(\n",
    "    '01302020GageHeight2010-2023.csv',\n",
    "    delimiter=',')\n",
    "dataset2 = pd.read_csv(\n",
    "    '01303000PowerPrecipitation2010-2023.csv',\n",
    "    delimiter=',')\n",
    "datasettwo2 = pd.read_csv(\n",
    "    '01303000Discharge2010-2023.csv',\n",
    "    delimiter=',')\n",
    "datasetthree2 = pd.read_csv(\n",
    "    '01303000GageHeight2010-2023.csv',\n",
    "    delimiter=',')\n",
    "dataset3 = pd.read_csv(\n",
    "    '01303500PowerPrecipitation2010-2023.csv',\n",
    "    delimiter=',')\n",
    "datasettwo3 = pd.read_csv(\n",
    "    '01303500Discharge2010-2023.csv',\n",
    "    delimiter=',')\n",
    "datasetthree3 = pd.read_csv(\n",
    "    '01303500GageHeight2010-2023.csv',\n",
    "    delimiter=',')\n",
    "dataset4 = pd.read_csv(\n",
    "    '01305500PowerPrecipitation2010-2023.csv',\n",
    "    delimiter=',')\n",
    "datasettwo4 = pd.read_csv(\n",
    "    '01305500Discharge2010-2023.csv',\n",
    "    delimiter=',')\n",
    "datasetthree4 = pd.read_csv(\n",
    "    '01305500GageHeight2010-2023.csv',\n",
    "    delimiter=',')\n",
    "dataset5 = pd.read_csv(\n",
    "    '01306460PowerPrecipitation2010-2023.csv',\n",
    "    delimiter=',')\n",
    "datasettwo5 = pd.read_csv(\n",
    "    '01306460Discharge2010-2023.csv',\n",
    "    delimiter=',')\n",
    "datasetthree5 = pd.read_csv(\n",
    "    '01306460GageHeight2010-2023.csv',\n",
    "    delimiter=',')\n",
    "dataset6 = pd.read_csv(\n",
    "    '01308500PowerPrecipitation2010-2023.csv',\n",
    "    delimiter=',')\n",
    "datasettwo6 = pd.read_csv(\n",
    "    '01308500Discharge2010-2023.csv',\n",
    "    delimiter=',')\n",
    "datasetthree6 = pd.read_csv(\n",
    "    '01308500GageHeight2010-2023.csv',\n",
    "    delimiter=',')\n",
    "dataset7 = pd.read_csv(\n",
    "    '01309500PowerPrecipitation2010-2023.csv',\n",
    "    delimiter=',')\n",
    "datasettwo7 = pd.read_csv(\n",
    "    '01309500Discharge2010-2023.csv',\n",
    "    delimiter=',')\n",
    "datasetthree7 = pd.read_csv(\n",
    "    '01309500GageHeight2010-2023.csv',\n",
    "    delimiter=',')\n",
    "dataset8 = pd.read_csv(\n",
    "    '01309950PowerPrecipitation2010-2023.csv',\n",
    "    delimiter=',')\n",
    "datasettwo8 = pd.read_csv(\n",
    "    '01309950Discharge2010-2023.csv',\n",
    "    delimiter=',')\n",
    "datasetthree8 = pd.read_csv(\n",
    "    '01309950GageHeight2010-2023.csv',\n",
    "    delimiter=',')\n",
    "dataset9 = pd.read_csv(\n",
    "    '01309990PowerPrecipitation2010-2023.csv',\n",
    "    delimiter=',')\n",
    "datasettwo9 = pd.read_csv(\n",
    "    '01309990Discharge2010-2023.csv',\n",
    "    delimiter=',')\n",
    "datasetthree9 = pd.read_csv(\n",
    "    '01309990GageHeight2010-2023.csv',\n",
    "    delimiter=',')\n",
    "dataset10 = pd.read_csv(\n",
    "    '01310500PowerPrecipitation2010-2023.csv',\n",
    "    delimiter=',')\n",
    "datasettwo10 = pd.read_csv(\n",
    "    '01310500Discharge2010-2023.csv',\n",
    "    delimiter=',')\n",
    "datasetthree10 = pd.read_csv(\n",
    "    '01310500GageHeight2010-2023.csv',\n",
    "    delimiter=',')\n",
    "dataset11 = pd.read_csv(\n",
    "    '01311500PowerPrecipitation2010-2023.csv',\n",
    "    delimiter=',')\n",
    "datasettwo11 = pd.read_csv(\n",
    "    '01311500Discharge2010-2023.csv',\n",
    "    delimiter=',')\n",
    "datasetthree11 = pd.read_csv(\n",
    "    '01311500GageHeight2010-2023.csv',\n",
    "    delimiter=',')"
   ]
  },
  {
   "cell_type": "code",
   "execution_count": 4,
   "id": "be10da42-d2d0-41aa-b4e5-bb1423122166",
   "metadata": {},
   "outputs": [
    {
     "data": {
      "text/html": [
       "<div>\n",
       "<style scoped>\n",
       "    .dataframe tbody tr th:only-of-type {\n",
       "        vertical-align: middle;\n",
       "    }\n",
       "\n",
       "    .dataframe tbody tr th {\n",
       "        vertical-align: top;\n",
       "    }\n",
       "\n",
       "    .dataframe thead th {\n",
       "        text-align: right;\n",
       "    }\n",
       "</style>\n",
       "<table border=\"1\" class=\"dataframe\">\n",
       "  <thead>\n",
       "    <tr style=\"text-align: right;\">\n",
       "      <th></th>\n",
       "      <th>YEAR</th>\n",
       "      <th>MO</th>\n",
       "      <th>DY</th>\n",
       "      <th>HR</th>\n",
       "      <th>PRECTOTCORR</th>\n",
       "      <th>Time2</th>\n",
       "    </tr>\n",
       "  </thead>\n",
       "  <tbody>\n",
       "    <tr>\n",
       "      <th>0</th>\n",
       "      <td>2009</td>\n",
       "      <td>12</td>\n",
       "      <td>31</td>\n",
       "      <td>19</td>\n",
       "      <td>0.14</td>\n",
       "      <td>0</td>\n",
       "    </tr>\n",
       "    <tr>\n",
       "      <th>1</th>\n",
       "      <td>2009</td>\n",
       "      <td>12</td>\n",
       "      <td>31</td>\n",
       "      <td>20</td>\n",
       "      <td>0.28</td>\n",
       "      <td>4</td>\n",
       "    </tr>\n",
       "    <tr>\n",
       "      <th>2</th>\n",
       "      <td>2009</td>\n",
       "      <td>12</td>\n",
       "      <td>31</td>\n",
       "      <td>21</td>\n",
       "      <td>0.33</td>\n",
       "      <td>8</td>\n",
       "    </tr>\n",
       "    <tr>\n",
       "      <th>3</th>\n",
       "      <td>2009</td>\n",
       "      <td>12</td>\n",
       "      <td>31</td>\n",
       "      <td>22</td>\n",
       "      <td>0.28</td>\n",
       "      <td>12</td>\n",
       "    </tr>\n",
       "    <tr>\n",
       "      <th>4</th>\n",
       "      <td>2009</td>\n",
       "      <td>12</td>\n",
       "      <td>31</td>\n",
       "      <td>23</td>\n",
       "      <td>0.22</td>\n",
       "      <td>16</td>\n",
       "    </tr>\n",
       "  </tbody>\n",
       "</table>\n",
       "</div>"
      ],
      "text/plain": [
       "   YEAR  MO  DY  HR  PRECTOTCORR  Time2\n",
       "0  2009  12  31  19         0.14      0\n",
       "1  2009  12  31  20         0.28      4\n",
       "2  2009  12  31  21         0.33      8\n",
       "3  2009  12  31  22         0.28     12\n",
       "4  2009  12  31  23         0.22     16"
      ]
     },
     "execution_count": 4,
     "metadata": {},
     "output_type": "execute_result"
    }
   ],
   "source": [
    "dataset1.head()"
   ]
  },
  {
   "cell_type": "code",
   "execution_count": 5,
   "id": "617582f7-4d7d-4aa4-8fe4-ce10703ef2ff",
   "metadata": {},
   "outputs": [
    {
     "data": {
      "text/html": [
       "<div>\n",
       "<style scoped>\n",
       "    .dataframe tbody tr th:only-of-type {\n",
       "        vertical-align: middle;\n",
       "    }\n",
       "\n",
       "    .dataframe tbody tr th {\n",
       "        vertical-align: top;\n",
       "    }\n",
       "\n",
       "    .dataframe thead th {\n",
       "        text-align: right;\n",
       "    }\n",
       "</style>\n",
       "<table border=\"1\" class=\"dataframe\">\n",
       "  <thead>\n",
       "    <tr style=\"text-align: right;\">\n",
       "      <th></th>\n",
       "      <th>agency_cd</th>\n",
       "      <th>site_no</th>\n",
       "      <th>datetime</th>\n",
       "      <th>tz_cd</th>\n",
       "      <th>106410_00060</th>\n",
       "      <th>106410_00060_cd</th>\n",
       "      <th>Time</th>\n",
       "      <th>Time2</th>\n",
       "    </tr>\n",
       "  </thead>\n",
       "  <tbody>\n",
       "    <tr>\n",
       "      <th>0</th>\n",
       "      <td>USGS</td>\n",
       "      <td>1302020</td>\n",
       "      <td>1/1/2010 0:00</td>\n",
       "      <td>EST</td>\n",
       "      <td>94.9</td>\n",
       "      <td>A</td>\n",
       "      <td>40179.000000</td>\n",
       "      <td>0.0</td>\n",
       "    </tr>\n",
       "    <tr>\n",
       "      <th>1</th>\n",
       "      <td>USGS</td>\n",
       "      <td>1302020</td>\n",
       "      <td>1/1/2010 0:15</td>\n",
       "      <td>EST</td>\n",
       "      <td>94.9</td>\n",
       "      <td>A</td>\n",
       "      <td>40179.010416</td>\n",
       "      <td>1.0</td>\n",
       "    </tr>\n",
       "    <tr>\n",
       "      <th>2</th>\n",
       "      <td>USGS</td>\n",
       "      <td>1302020</td>\n",
       "      <td>1/1/2010 0:30</td>\n",
       "      <td>EST</td>\n",
       "      <td>94.9</td>\n",
       "      <td>A</td>\n",
       "      <td>40179.020833</td>\n",
       "      <td>2.0</td>\n",
       "    </tr>\n",
       "    <tr>\n",
       "      <th>3</th>\n",
       "      <td>USGS</td>\n",
       "      <td>1302020</td>\n",
       "      <td>1/1/2010 0:45</td>\n",
       "      <td>EST</td>\n",
       "      <td>94.9</td>\n",
       "      <td>A</td>\n",
       "      <td>40179.031250</td>\n",
       "      <td>3.0</td>\n",
       "    </tr>\n",
       "    <tr>\n",
       "      <th>4</th>\n",
       "      <td>USGS</td>\n",
       "      <td>1302020</td>\n",
       "      <td>1/1/2010 1:00</td>\n",
       "      <td>EST</td>\n",
       "      <td>94.9</td>\n",
       "      <td>A</td>\n",
       "      <td>40179.041666</td>\n",
       "      <td>4.0</td>\n",
       "    </tr>\n",
       "  </tbody>\n",
       "</table>\n",
       "</div>"
      ],
      "text/plain": [
       "  agency_cd  site_no       datetime tz_cd  106410_00060 106410_00060_cd  \\\n",
       "0      USGS  1302020  1/1/2010 0:00   EST          94.9               A   \n",
       "1      USGS  1302020  1/1/2010 0:15   EST          94.9               A   \n",
       "2      USGS  1302020  1/1/2010 0:30   EST          94.9               A   \n",
       "3      USGS  1302020  1/1/2010 0:45   EST          94.9               A   \n",
       "4      USGS  1302020  1/1/2010 1:00   EST          94.9               A   \n",
       "\n",
       "           Time  Time2  \n",
       "0  40179.000000    0.0  \n",
       "1  40179.010416    1.0  \n",
       "2  40179.020833    2.0  \n",
       "3  40179.031250    3.0  \n",
       "4  40179.041666    4.0  "
      ]
     },
     "execution_count": 5,
     "metadata": {},
     "output_type": "execute_result"
    }
   ],
   "source": [
    "datasettwo1.head()"
   ]
  },
  {
   "cell_type": "code",
   "execution_count": 6,
   "id": "7c5bac77-91e6-422c-8b53-cdd1243a4dec",
   "metadata": {},
   "outputs": [
    {
     "data": {
      "text/html": [
       "<div>\n",
       "<style scoped>\n",
       "    .dataframe tbody tr th:only-of-type {\n",
       "        vertical-align: middle;\n",
       "    }\n",
       "\n",
       "    .dataframe tbody tr th {\n",
       "        vertical-align: top;\n",
       "    }\n",
       "\n",
       "    .dataframe thead th {\n",
       "        text-align: right;\n",
       "    }\n",
       "</style>\n",
       "<table border=\"1\" class=\"dataframe\">\n",
       "  <thead>\n",
       "    <tr style=\"text-align: right;\">\n",
       "      <th></th>\n",
       "      <th>agency_cd</th>\n",
       "      <th>site_no</th>\n",
       "      <th>datetime</th>\n",
       "      <th>tz_cd</th>\n",
       "      <th>106409_00065</th>\n",
       "      <th>106409_00065_cd</th>\n",
       "      <th>Time</th>\n",
       "      <th>Time2</th>\n",
       "    </tr>\n",
       "  </thead>\n",
       "  <tbody>\n",
       "    <tr>\n",
       "      <th>0</th>\n",
       "      <td>USGS</td>\n",
       "      <td>1302020</td>\n",
       "      <td>1/1/2010 0:00</td>\n",
       "      <td>EST</td>\n",
       "      <td>0.97</td>\n",
       "      <td>A</td>\n",
       "      <td>40179.000000</td>\n",
       "      <td>0.0</td>\n",
       "    </tr>\n",
       "    <tr>\n",
       "      <th>1</th>\n",
       "      <td>USGS</td>\n",
       "      <td>1302020</td>\n",
       "      <td>1/1/2010 0:15</td>\n",
       "      <td>EST</td>\n",
       "      <td>0.97</td>\n",
       "      <td>A</td>\n",
       "      <td>40179.010416</td>\n",
       "      <td>1.0</td>\n",
       "    </tr>\n",
       "    <tr>\n",
       "      <th>2</th>\n",
       "      <td>USGS</td>\n",
       "      <td>1302020</td>\n",
       "      <td>1/1/2010 0:30</td>\n",
       "      <td>EST</td>\n",
       "      <td>0.97</td>\n",
       "      <td>A</td>\n",
       "      <td>40179.020833</td>\n",
       "      <td>2.0</td>\n",
       "    </tr>\n",
       "    <tr>\n",
       "      <th>3</th>\n",
       "      <td>USGS</td>\n",
       "      <td>1302020</td>\n",
       "      <td>1/1/2010 0:45</td>\n",
       "      <td>EST</td>\n",
       "      <td>0.97</td>\n",
       "      <td>A</td>\n",
       "      <td>40179.031250</td>\n",
       "      <td>3.0</td>\n",
       "    </tr>\n",
       "    <tr>\n",
       "      <th>4</th>\n",
       "      <td>USGS</td>\n",
       "      <td>1302020</td>\n",
       "      <td>1/1/2010 1:00</td>\n",
       "      <td>EST</td>\n",
       "      <td>0.97</td>\n",
       "      <td>A</td>\n",
       "      <td>40179.041666</td>\n",
       "      <td>4.0</td>\n",
       "    </tr>\n",
       "  </tbody>\n",
       "</table>\n",
       "</div>"
      ],
      "text/plain": [
       "  agency_cd  site_no       datetime tz_cd  106409_00065 106409_00065_cd  \\\n",
       "0      USGS  1302020  1/1/2010 0:00   EST          0.97               A   \n",
       "1      USGS  1302020  1/1/2010 0:15   EST          0.97               A   \n",
       "2      USGS  1302020  1/1/2010 0:30   EST          0.97               A   \n",
       "3      USGS  1302020  1/1/2010 0:45   EST          0.97               A   \n",
       "4      USGS  1302020  1/1/2010 1:00   EST          0.97               A   \n",
       "\n",
       "           Time  Time2  \n",
       "0  40179.000000    0.0  \n",
       "1  40179.010416    1.0  \n",
       "2  40179.020833    2.0  \n",
       "3  40179.031250    3.0  \n",
       "4  40179.041666    4.0  "
      ]
     },
     "execution_count": 6,
     "metadata": {},
     "output_type": "execute_result"
    }
   ],
   "source": [
    "datasetthree1.head()"
   ]
  },
  {
   "cell_type": "code",
   "execution_count": 7,
   "id": "443ec77f-18c0-4c8d-a9cf-a70683146cc7",
   "metadata": {},
   "outputs": [
    {
     "data": {
      "text/html": [
       "<div>\n",
       "<style scoped>\n",
       "    .dataframe tbody tr th:only-of-type {\n",
       "        vertical-align: middle;\n",
       "    }\n",
       "\n",
       "    .dataframe tbody tr th {\n",
       "        vertical-align: top;\n",
       "    }\n",
       "\n",
       "    .dataframe thead th {\n",
       "        text-align: right;\n",
       "    }\n",
       "</style>\n",
       "<table border=\"1\" class=\"dataframe\">\n",
       "  <thead>\n",
       "    <tr style=\"text-align: right;\">\n",
       "      <th></th>\n",
       "      <th>YEAR</th>\n",
       "      <th>MO</th>\n",
       "      <th>DY</th>\n",
       "      <th>HR</th>\n",
       "      <th>PRECTOTCORR</th>\n",
       "      <th>Time2</th>\n",
       "    </tr>\n",
       "  </thead>\n",
       "  <tbody>\n",
       "    <tr>\n",
       "      <th>122707</th>\n",
       "      <td>2023</td>\n",
       "      <td>12</td>\n",
       "      <td>31</td>\n",
       "      <td>14</td>\n",
       "      <td>0.0</td>\n",
       "      <td>490828</td>\n",
       "    </tr>\n",
       "    <tr>\n",
       "      <th>122708</th>\n",
       "      <td>2023</td>\n",
       "      <td>12</td>\n",
       "      <td>31</td>\n",
       "      <td>15</td>\n",
       "      <td>0.0</td>\n",
       "      <td>490832</td>\n",
       "    </tr>\n",
       "    <tr>\n",
       "      <th>122709</th>\n",
       "      <td>2023</td>\n",
       "      <td>12</td>\n",
       "      <td>31</td>\n",
       "      <td>16</td>\n",
       "      <td>0.0</td>\n",
       "      <td>490836</td>\n",
       "    </tr>\n",
       "    <tr>\n",
       "      <th>122710</th>\n",
       "      <td>2023</td>\n",
       "      <td>12</td>\n",
       "      <td>31</td>\n",
       "      <td>17</td>\n",
       "      <td>0.0</td>\n",
       "      <td>490840</td>\n",
       "    </tr>\n",
       "    <tr>\n",
       "      <th>122711</th>\n",
       "      <td>2023</td>\n",
       "      <td>12</td>\n",
       "      <td>31</td>\n",
       "      <td>18</td>\n",
       "      <td>0.0</td>\n",
       "      <td>490844</td>\n",
       "    </tr>\n",
       "  </tbody>\n",
       "</table>\n",
       "</div>"
      ],
      "text/plain": [
       "        YEAR  MO  DY  HR  PRECTOTCORR   Time2\n",
       "122707  2023  12  31  14          0.0  490828\n",
       "122708  2023  12  31  15          0.0  490832\n",
       "122709  2023  12  31  16          0.0  490836\n",
       "122710  2023  12  31  17          0.0  490840\n",
       "122711  2023  12  31  18          0.0  490844"
      ]
     },
     "execution_count": 7,
     "metadata": {},
     "output_type": "execute_result"
    }
   ],
   "source": [
    "dataset1.tail()"
   ]
  },
  {
   "cell_type": "code",
   "execution_count": 8,
   "id": "8dfae6ab-8ab6-4128-9fa3-6993978e7a4b",
   "metadata": {},
   "outputs": [
    {
     "data": {
      "text/plain": [
       "489972    109.0\n",
       "489973    109.0\n",
       "489974    109.0\n",
       "489975    109.0\n",
       "489976    109.0\n",
       "Name: 106410_00060, dtype: float64"
      ]
     },
     "execution_count": 8,
     "metadata": {},
     "output_type": "execute_result"
    }
   ],
   "source": [
    "datasettwo1[\"106410_00060\"].tail()"
   ]
  },
  {
   "cell_type": "code",
   "execution_count": 9,
   "id": "82499a30-c9f6-4682-8af6-02b773e6458a",
   "metadata": {},
   "outputs": [
    {
     "data": {
      "text/plain": [
       "490179    0.93\n",
       "490180    0.93\n",
       "490181    0.93\n",
       "490182    0.93\n",
       "490183    0.93\n",
       "Name: 106409_00065, dtype: float64"
      ]
     },
     "execution_count": 9,
     "metadata": {},
     "output_type": "execute_result"
    }
   ],
   "source": [
    "datasetthree1[\"106409_00065\"].tail()"
   ]
  },
  {
   "cell_type": "code",
   "execution_count": 10,
   "id": "51aec7a3-2577-41e3-959a-4456049bb7f0",
   "metadata": {},
   "outputs": [],
   "source": [
    "# drop any nans\n",
    "dataset1 = dataset1.dropna(subset=[\"PRECTOTCORR\"])\n",
    "dataset2 = dataset2.dropna(subset=[\"PRECTOTCORR\"])\n",
    "dataset3 = dataset3.dropna(subset=[\"PRECTOTCORR\"])\n",
    "dataset4 = dataset4.dropna(subset=[\"PRECTOTCORR\"])\n",
    "dataset5 = dataset5.dropna(subset=[\"PRECTOTCORR\"])\n",
    "dataset6 = dataset6.dropna(subset=[\"PRECTOTCORR\"])\n",
    "dataset7 = dataset7.dropna(subset=[\"PRECTOTCORR\"])\n",
    "dataset8 = dataset8.dropna(subset=[\"PRECTOTCORR\"])\n",
    "dataset9 = dataset9.dropna(subset=[\"PRECTOTCORR\"])\n",
    "dataset10 = dataset10.dropna(subset=[\"PRECTOTCORR\"])\n",
    "dataset11 = dataset11.dropna(subset=[\"PRECTOTCORR\"])"
   ]
  },
  {
   "cell_type": "code",
   "execution_count": 11,
   "id": "07e3606c-700f-477d-83d7-9f7a1ec85085",
   "metadata": {},
   "outputs": [
    {
     "data": {
      "text/html": [
       "<div>\n",
       "<style scoped>\n",
       "    .dataframe tbody tr th:only-of-type {\n",
       "        vertical-align: middle;\n",
       "    }\n",
       "\n",
       "    .dataframe tbody tr th {\n",
       "        vertical-align: top;\n",
       "    }\n",
       "\n",
       "    .dataframe thead th {\n",
       "        text-align: right;\n",
       "    }\n",
       "</style>\n",
       "<table border=\"1\" class=\"dataframe\">\n",
       "  <thead>\n",
       "    <tr style=\"text-align: right;\">\n",
       "      <th></th>\n",
       "      <th>YEAR</th>\n",
       "      <th>MO</th>\n",
       "      <th>DY</th>\n",
       "      <th>HR</th>\n",
       "      <th>PRECTOTCORR</th>\n",
       "      <th>Time2</th>\n",
       "    </tr>\n",
       "  </thead>\n",
       "  <tbody>\n",
       "    <tr>\n",
       "      <th>count</th>\n",
       "      <td>122712.000000</td>\n",
       "      <td>122712.000000</td>\n",
       "      <td>122712.00000</td>\n",
       "      <td>122712.000000</td>\n",
       "      <td>122712.000000</td>\n",
       "      <td>122712.000000</td>\n",
       "    </tr>\n",
       "    <tr>\n",
       "      <th>mean</th>\n",
       "      <td>2016.499136</td>\n",
       "      <td>6.523372</td>\n",
       "      <td>15.72834</td>\n",
       "      <td>11.500000</td>\n",
       "      <td>0.143851</td>\n",
       "      <td>245422.000000</td>\n",
       "    </tr>\n",
       "    <tr>\n",
       "      <th>std</th>\n",
       "      <td>4.030828</td>\n",
       "      <td>3.448596</td>\n",
       "      <td>8.79958</td>\n",
       "      <td>6.922215</td>\n",
       "      <td>0.533112</td>\n",
       "      <td>141696.189815</td>\n",
       "    </tr>\n",
       "    <tr>\n",
       "      <th>min</th>\n",
       "      <td>2009.000000</td>\n",
       "      <td>1.000000</td>\n",
       "      <td>1.00000</td>\n",
       "      <td>0.000000</td>\n",
       "      <td>0.000000</td>\n",
       "      <td>0.000000</td>\n",
       "    </tr>\n",
       "    <tr>\n",
       "      <th>25%</th>\n",
       "      <td>2013.000000</td>\n",
       "      <td>4.000000</td>\n",
       "      <td>8.00000</td>\n",
       "      <td>5.750000</td>\n",
       "      <td>0.000000</td>\n",
       "      <td>122711.000000</td>\n",
       "    </tr>\n",
       "    <tr>\n",
       "      <th>50%</th>\n",
       "      <td>2016.000000</td>\n",
       "      <td>7.000000</td>\n",
       "      <td>16.00000</td>\n",
       "      <td>11.500000</td>\n",
       "      <td>0.000000</td>\n",
       "      <td>245422.000000</td>\n",
       "    </tr>\n",
       "    <tr>\n",
       "      <th>75%</th>\n",
       "      <td>2020.000000</td>\n",
       "      <td>10.000000</td>\n",
       "      <td>23.00000</td>\n",
       "      <td>17.250000</td>\n",
       "      <td>0.030000</td>\n",
       "      <td>368133.000000</td>\n",
       "    </tr>\n",
       "    <tr>\n",
       "      <th>max</th>\n",
       "      <td>2023.000000</td>\n",
       "      <td>12.000000</td>\n",
       "      <td>31.00000</td>\n",
       "      <td>23.000000</td>\n",
       "      <td>19.180000</td>\n",
       "      <td>490844.000000</td>\n",
       "    </tr>\n",
       "  </tbody>\n",
       "</table>\n",
       "</div>"
      ],
      "text/plain": [
       "                YEAR             MO            DY             HR  \\\n",
       "count  122712.000000  122712.000000  122712.00000  122712.000000   \n",
       "mean     2016.499136       6.523372      15.72834      11.500000   \n",
       "std         4.030828       3.448596       8.79958       6.922215   \n",
       "min      2009.000000       1.000000       1.00000       0.000000   \n",
       "25%      2013.000000       4.000000       8.00000       5.750000   \n",
       "50%      2016.000000       7.000000      16.00000      11.500000   \n",
       "75%      2020.000000      10.000000      23.00000      17.250000   \n",
       "max      2023.000000      12.000000      31.00000      23.000000   \n",
       "\n",
       "         PRECTOTCORR          Time2  \n",
       "count  122712.000000  122712.000000  \n",
       "mean        0.143851  245422.000000  \n",
       "std         0.533112  141696.189815  \n",
       "min         0.000000       0.000000  \n",
       "25%         0.000000  122711.000000  \n",
       "50%         0.000000  245422.000000  \n",
       "75%         0.030000  368133.000000  \n",
       "max        19.180000  490844.000000  "
      ]
     },
     "execution_count": 11,
     "metadata": {},
     "output_type": "execute_result"
    }
   ],
   "source": [
    "dataset1.describe()"
   ]
  },
  {
   "cell_type": "code",
   "execution_count": 12,
   "id": "bba20539-17f6-4a4f-9415-c527d455c481",
   "metadata": {},
   "outputs": [
    {
     "data": {
      "text/html": [
       "<div>\n",
       "<style scoped>\n",
       "    .dataframe tbody tr th:only-of-type {\n",
       "        vertical-align: middle;\n",
       "    }\n",
       "\n",
       "    .dataframe tbody tr th {\n",
       "        vertical-align: top;\n",
       "    }\n",
       "\n",
       "    .dataframe thead th {\n",
       "        text-align: right;\n",
       "    }\n",
       "</style>\n",
       "<table border=\"1\" class=\"dataframe\">\n",
       "  <thead>\n",
       "    <tr style=\"text-align: right;\">\n",
       "      <th></th>\n",
       "      <th>site_no</th>\n",
       "      <th>106410_00060</th>\n",
       "      <th>Time</th>\n",
       "      <th>Time2</th>\n",
       "    </tr>\n",
       "  </thead>\n",
       "  <tbody>\n",
       "    <tr>\n",
       "      <th>count</th>\n",
       "      <td>489977.0</td>\n",
       "      <td>489977.00000</td>\n",
       "      <td>489977.000000</td>\n",
       "      <td>489977.000000</td>\n",
       "    </tr>\n",
       "    <tr>\n",
       "      <th>mean</th>\n",
       "      <td>1302020.0</td>\n",
       "      <td>76.70612</td>\n",
       "      <td>42732.821357</td>\n",
       "      <td>245166.850337</td>\n",
       "    </tr>\n",
       "    <tr>\n",
       "      <th>std</th>\n",
       "      <td>0.0</td>\n",
       "      <td>128.36378</td>\n",
       "      <td>1475.420189</td>\n",
       "      <td>141640.338186</td>\n",
       "    </tr>\n",
       "    <tr>\n",
       "      <th>min</th>\n",
       "      <td>1302020.0</td>\n",
       "      <td>7.10000</td>\n",
       "      <td>40179.000000</td>\n",
       "      <td>0.000000</td>\n",
       "    </tr>\n",
       "    <tr>\n",
       "      <th>25%</th>\n",
       "      <td>1302020.0</td>\n",
       "      <td>28.90000</td>\n",
       "      <td>41455.479166</td>\n",
       "      <td>122542.000000</td>\n",
       "    </tr>\n",
       "    <tr>\n",
       "      <th>50%</th>\n",
       "      <td>1302020.0</td>\n",
       "      <td>45.80000</td>\n",
       "      <td>42731.750000</td>\n",
       "      <td>245064.000000</td>\n",
       "    </tr>\n",
       "    <tr>\n",
       "      <th>75%</th>\n",
       "      <td>1302020.0</td>\n",
       "      <td>76.60000</td>\n",
       "      <td>44008.822916</td>\n",
       "      <td>367663.000000</td>\n",
       "    </tr>\n",
       "    <tr>\n",
       "      <th>max</th>\n",
       "      <td>1302020.0</td>\n",
       "      <td>3000.00000</td>\n",
       "      <td>45291.989583</td>\n",
       "      <td>490847.000000</td>\n",
       "    </tr>\n",
       "  </tbody>\n",
       "</table>\n",
       "</div>"
      ],
      "text/plain": [
       "         site_no  106410_00060           Time          Time2\n",
       "count   489977.0  489977.00000  489977.000000  489977.000000\n",
       "mean   1302020.0      76.70612   42732.821357  245166.850337\n",
       "std          0.0     128.36378    1475.420189  141640.338186\n",
       "min    1302020.0       7.10000   40179.000000       0.000000\n",
       "25%    1302020.0      28.90000   41455.479166  122542.000000\n",
       "50%    1302020.0      45.80000   42731.750000  245064.000000\n",
       "75%    1302020.0      76.60000   44008.822916  367663.000000\n",
       "max    1302020.0    3000.00000   45291.989583  490847.000000"
      ]
     },
     "execution_count": 12,
     "metadata": {},
     "output_type": "execute_result"
    }
   ],
   "source": [
    "datasettwo1.describe()"
   ]
  },
  {
   "cell_type": "code",
   "execution_count": 13,
   "id": "7f681a92-244c-44b6-9b0c-b78aadafac2e",
   "metadata": {},
   "outputs": [
    {
     "data": {
      "text/plain": [
       "[<matplotlib.lines.Line2D at 0x7f4ec34e5540>]"
      ]
     },
     "execution_count": 13,
     "metadata": {},
     "output_type": "execute_result"
    },
    {
     "data": {
      "image/png": "[encoded data removed]",
      "text/plain": [
       "<Figure size 640x480 with 1 Axes>"
      ]
     },
     "metadata": {},
     "output_type": "display_data"
    }
   ],
   "source": [
    "plt.plot(range(122712), dataset1[\"PRECTOTCORR\"])"
   ]
  },
  {
   "cell_type": "code",
   "execution_count": 14,
   "id": "fca77d64-3146-4a7f-91ac-37e25e83c4a5",
   "metadata": {},
   "outputs": [
    {
     "data": {
      "text/plain": [
       "[<matplotlib.lines.Line2D at 0x7f4ec33c2d70>]"
      ]
     },
     "execution_count": 14,
     "metadata": {},
     "output_type": "execute_result"
    },
    {
     "data": {
      "image/png": "[encoded data removed]",
      "text/plain": [
       "<Figure size 640x480 with 1 Axes>"
      ]
     },
     "metadata": {},
     "output_type": "display_data"
    }
   ],
   "source": [
    "plt.plot(range(489977), datasettwo1[\"106410_00060\"])"
   ]
  },
  {
   "cell_type": "code",
   "execution_count": 15,
   "id": "e217d717-44f7-40e1-90f1-502249fb1df3",
   "metadata": {},
   "outputs": [
    {
     "data": {
      "text/plain": [
       "[<matplotlib.lines.Line2D at 0x7f4ec2458760>]"
      ]
     },
     "execution_count": 15,
     "metadata": {},
     "output_type": "execute_result"
    },
    {
     "data": {
      "image/png": "[encoded data removed]",
      "text/plain": [
       "<Figure size 640x480 with 1 Axes>"
      ]
     },
     "metadata": {},
     "output_type": "display_data"
    }
   ],
   "source": [
    "plt.plot(range(490184), datasetthree1[\"106409_00065\"])"
   ]
  },
  {
   "cell_type": "code",
   "execution_count": 16,
   "id": "ec79da90-c449-448d-bc60-6ead1f9bfbad",
   "metadata": {},
   "outputs": [
    {
     "name": "stdout",
     "output_type": "stream",
     "text": [
      "122395\n"
     ]
    }
   ],
   "source": [
    "k = 0\n",
    "n = 0\n",
    "train = []\n",
    "target = []\n",
    "for x in dataset1[\"Time2\"]:\n",
    "  check = []\n",
    "  try:\n",
    "    check.append([dataset1[\"PRECTOTCORR\"][np.where(dataset1[\"Time2\"]==x)[0][0]], datasettwo1[\"106410_00060\"][np.where(datasettwo1[\"Time2\"]==x)[0][0]], datasetthree1[\"106409_00065\"][np.where(datasetthree1[\"Time2\"]==x)[0][0]], 40.8623, -73.8744])\n",
    "    check.append([dataset1[\"PRECTOTCORR\"][np.where(dataset1[\"Time2\"]==x)[0][0]], datasettwo1[\"106410_00060\"][np.where(datasettwo1[\"Time2\"]==x+1)[0][0]], datasetthree1[\"106409_00065\"][np.where(datasetthree1[\"Time2\"]==x+1)[0][0]], 40.8623, -73.8744])\n",
    "    check.append([dataset1[\"PRECTOTCORR\"][np.where(dataset1[\"Time2\"]==x)[0][0]], datasettwo1[\"106410_00060\"][np.where(datasettwo1[\"Time2\"]==x+2)[0][0]], datasetthree1[\"106409_00065\"][np.where(datasetthree1[\"Time2\"]==x+2)[0][0]], 40.8623, -73.8744])\n",
    "    check.append([dataset1[\"PRECTOTCORR\"][np.where(dataset1[\"Time2\"]==x)[0][0]], datasettwo1[\"106410_00060\"][np.where(datasettwo1[\"Time2\"]==x+3)[0][0]], datasetthree1[\"106409_00065\"][np.where(datasetthree1[\"Time2\"]==x+3)[0][0]], 40.8623, -73.8744])\n",
    "    check.append(datasetthree1[\"106409_00065\"][np.where(datasetthree1[\"Time2\"]==x+5)[0][0]])\n",
    "    train.append(check[0:4])\n",
    "    target.append(check[4])\n",
    "    k = k+1\n",
    "  except:\n",
    "    n = n+1\n",
    "print(k)"
   ]
  },
  {
   "cell_type": "code",
   "execution_count": 17,
   "id": "8815f6e7-7bb5-4f66-8aa5-0b40418aecc7",
   "metadata": {},
   "outputs": [
    {
     "name": "stdout",
     "output_type": "stream",
     "text": [
      "30027\n"
     ]
    }
   ],
   "source": [
    "k = 0\n",
    "n = 0\n",
    "train2 = []\n",
    "target2 = []\n",
    "for x in dataset2[\"Time2\"]:\n",
    "  check = []\n",
    "  try:\n",
    "    check.append([dataset2[\"PRECTOTCORR\"][np.where(dataset2[\"Time2\"]==x)[0][0]], datasettwo2[\"201840_0060\"][np.where(datasettwo2[\"Time2\"]==x)[0][0]], datasetthree2[\"201841_00065\"][np.where(datasetthree2[\"Time2\"]==x)[0][0]], 40.8874, -73.5632])\n",
    "    check.append([dataset2[\"PRECTOTCORR\"][np.where(dataset2[\"Time2\"]==x)[0][0]], datasettwo2[\"201840_0060\"][np.where(datasettwo2[\"Time2\"]==x+1)[0][0]], datasetthree2[\"201841_00065\"][np.where(datasetthree2[\"Time2\"]==x+1)[0][0]], 40.8874, -73.5632])\n",
    "    check.append([dataset2[\"PRECTOTCORR\"][np.where(dataset2[\"Time2\"]==x)[0][0]], datasettwo2[\"201840_0060\"][np.where(datasettwo2[\"Time2\"]==x+2)[0][0]], datasetthree2[\"201841_00065\"][np.where(datasetthree2[\"Time2\"]==x+2)[0][0]], 40.8874, -73.5632])\n",
    "    check.append([dataset2[\"PRECTOTCORR\"][np.where(dataset2[\"Time2\"]==x)[0][0]], datasettwo2[\"201840_0060\"][np.where(datasettwo2[\"Time2\"]==x+3)[0][0]], datasetthree2[\"201841_00065\"][np.where(datasetthree2[\"Time2\"]==x+3)[0][0]], 40.8874, -73.5632])\n",
    "    check.append(datasetthree2[\"201841_00065\"][np.where(datasetthree2[\"Time2\"]==x+5)[0][0]])\n",
    "    train2.append(check[0:4])\n",
    "    target2.append(check[4])\n",
    "    k = k+1\n",
    "  except:\n",
    "    n = n+1\n",
    "print(k)"
   ]
  },
  {
   "cell_type": "code",
   "execution_count": 18,
   "id": "33e43e16-1f16-4f49-b8d7-cb6d94f7ddc0",
   "metadata": {},
   "outputs": [
    {
     "name": "stdout",
     "output_type": "stream",
     "text": [
      "105000\n"
     ]
    }
   ],
   "source": [
    "k = 0\n",
    "n = 0\n",
    "train3 = []\n",
    "target3 = []\n",
    "for x in dataset3[\"Time2\"]:\n",
    "  check = []\n",
    "  try:\n",
    "    check.append([dataset3[\"PRECTOTCORR\"][np.where(dataset3[\"Time2\"]==x)[0][0]], datasettwo3[\"106444_00060\"][np.where(datasettwo3[\"Time2\"]==x)[0][0]], datasetthree3[\"241896_00065\"][np.where(datasetthree3[\"Time2\"]==x)[0][0]], 40.8572, -73.4636])\n",
    "    check.append([dataset3[\"PRECTOTCORR\"][np.where(dataset3[\"Time2\"]==x)[0][0]], datasettwo3[\"106444_00060\"][np.where(datasettwo3[\"Time2\"]==x+1)[0][0]], datasetthree3[\"241896_00065\"][np.where(datasetthree3[\"Time2\"]==x+1)[0][0]], 40.8572, -73.4636])\n",
    "    check.append([dataset3[\"PRECTOTCORR\"][np.where(dataset3[\"Time2\"]==x)[0][0]], datasettwo3[\"106444_00060\"][np.where(datasettwo3[\"Time2\"]==x+2)[0][0]], datasetthree3[\"241896_00065\"][np.where(datasetthree3[\"Time2\"]==x+2)[0][0]], 40.8572, -73.4636])\n",
    "    check.append([dataset3[\"PRECTOTCORR\"][np.where(dataset3[\"Time2\"]==x)[0][0]], datasettwo3[\"106444_00060\"][np.where(datasettwo3[\"Time2\"]==x+3)[0][0]], datasetthree3[\"241896_00065\"][np.where(datasetthree3[\"Time2\"]==x+3)[0][0]], 40.8572, -73.4636])\n",
    "    check.append(datasetthree3[\"241896_00065\"][np.where(datasetthree3[\"Time2\"]==x+5)[0][0]])\n",
    "    train3.append(check[0:4])\n",
    "    target3.append(check[4])\n",
    "    k = k+1\n",
    "  except:\n",
    "    n = n+1\n",
    "print(k)"
   ]
  },
  {
   "cell_type": "code",
   "execution_count": 19,
   "id": "7d22ae0c-349c-46ec-9508-7f5d149a97eb",
   "metadata": {},
   "outputs": [
    {
     "name": "stdout",
     "output_type": "stream",
     "text": [
      "107449\n"
     ]
    }
   ],
   "source": [
    "k = 0\n",
    "n = 0\n",
    "train4 = []\n",
    "target4 = []\n",
    "for x in dataset4[\"Time2\"]:\n",
    "  check = []\n",
    "  try:\n",
    "    check.append([dataset4[\"PRECTOTCORR\"][np.where(dataset4[\"Time2\"]==x)[0][0]], datasettwo4[\"172577_00060\"][np.where(datasettwo4[\"Time2\"]==x)[0][0]], datasetthree4[\"250916_00065\"][np.where(datasetthree4[\"Time2\"]==x)[0][0]], 40.7672, -72.9938])\n",
    "    check.append([dataset4[\"PRECTOTCORR\"][np.where(dataset4[\"Time2\"]==x)[0][0]], datasettwo4[\"172577_00060\"][np.where(datasettwo4[\"Time2\"]==x+1)[0][0]], datasetthree4[\"250916_00065\"][np.where(datasetthree4[\"Time2\"]==x+1)[0][0]], 40.7672, -72.9938])\n",
    "    check.append([dataset4[\"PRECTOTCORR\"][np.where(dataset4[\"Time2\"]==x)[0][0]], datasettwo4[\"172577_00060\"][np.where(datasettwo4[\"Time2\"]==x+2)[0][0]], datasetthree4[\"250916_00065\"][np.where(datasetthree4[\"Time2\"]==x+2)[0][0]], 40.7672, -72.9938])\n",
    "    check.append([dataset4[\"PRECTOTCORR\"][np.where(dataset4[\"Time2\"]==x)[0][0]], datasettwo4[\"172577_00060\"][np.where(datasettwo4[\"Time2\"]==x+3)[0][0]], datasetthree4[\"250916_00065\"][np.where(datasetthree4[\"Time2\"]==x+3)[0][0]], 40.7672, -72.9938])\n",
    "    check.append(datasetthree4[\"250916_00065\"][np.where(datasetthree4[\"Time2\"]==x+5)[0][0]])\n",
    "    train4.append(check[0:4])\n",
    "    target4.append(check[4])\n",
    "    k = k+1\n",
    "  except:\n",
    "    n = n+1\n",
    "print(k)"
   ]
  },
  {
   "cell_type": "code",
   "execution_count": 20,
   "id": "5c98dcec-ae72-4323-8ec9-deea6a0a0e2e",
   "metadata": {},
   "outputs": [
    {
     "name": "stdout",
     "output_type": "stream",
     "text": [
      "121945\n"
     ]
    }
   ],
   "source": [
    "k = 0\n",
    "n = 0\n",
    "train5 = []\n",
    "target5 = []\n",
    "for x in dataset5[\"Time2\"]:\n",
    "  check = []\n",
    "  try:\n",
    "    check.append([dataset5[\"PRECTOTCORR\"][np.where(dataset5[\"Time2\"]==x)[0][0]], datasettwo5[\"106542_00060\"][np.where(datasettwo5[\"Time2\"]==x)[0][0]], datasetthree5[\"106543_00065\"][np.where(datasetthree5[\"Time2\"]==x)[0][0]], 40.7723, -73.1587])\n",
    "    check.append([dataset5[\"PRECTOTCORR\"][np.where(dataset5[\"Time2\"]==x)[0][0]], datasettwo5[\"106542_00060\"][np.where(datasettwo5[\"Time2\"]==x+1)[0][0]], datasetthree5[\"106543_00065\"][np.where(datasetthree5[\"Time2\"]==x+1)[0][0]], 40.7723, -73.1587])\n",
    "    check.append([dataset5[\"PRECTOTCORR\"][np.where(dataset5[\"Time2\"]==x)[0][0]], datasettwo5[\"106542_00060\"][np.where(datasettwo5[\"Time2\"]==x+2)[0][0]], datasetthree5[\"106543_00065\"][np.where(datasetthree5[\"Time2\"]==x+2)[0][0]], 40.7723, -73.1587])\n",
    "    check.append([dataset5[\"PRECTOTCORR\"][np.where(dataset5[\"Time2\"]==x)[0][0]], datasettwo5[\"106542_00060\"][np.where(datasettwo5[\"Time2\"]==x+3)[0][0]], datasetthree5[\"106543_00065\"][np.where(datasetthree5[\"Time2\"]==x+3)[0][0]], 40.7723, -73.1587])\n",
    "    check.append(datasetthree5[\"106543_00065\"][np.where(datasetthree5[\"Time2\"]==x+5)[0][0]])\n",
    "    train5.append(check[0:4])\n",
    "    target5.append(check[4])\n",
    "    k = k+1\n",
    "  except:\n",
    "    n = n+1\n",
    "print(k)"
   ]
  },
  {
   "cell_type": "code",
   "execution_count": 21,
   "id": "caa5f73b-2651-4ad4-b284-fa1b906cf151",
   "metadata": {},
   "outputs": [
    {
     "name": "stdout",
     "output_type": "stream",
     "text": [
      "86955\n"
     ]
    }
   ],
   "source": [
    "k = 0\n",
    "n = 0\n",
    "train6 = []\n",
    "target6 = []\n",
    "for x in dataset6[\"Time2\"]:\n",
    "  check = []\n",
    "  try:\n",
    "    check.append([dataset6[\"PRECTOTCORR\"][np.where(dataset6[\"Time2\"]==x)[0][0]], datasettwo6[\"106546_00060\"][np.where(datasettwo6[\"Time2\"]==x)[0][0]], datasetthree6[\"106547_00065\"][np.where(datasetthree6[\"Time2\"]==x)[0][0]], 40.709, -73.3288])\n",
    "    check.append([dataset6[\"PRECTOTCORR\"][np.where(dataset6[\"Time2\"]==x)[0][0]], datasettwo6[\"106546_00060\"][np.where(datasettwo6[\"Time2\"]==x+1)[0][0]], datasetthree6[\"106547_00065\"][np.where(datasetthree6[\"Time2\"]==x+1)[0][0]], 40.709, -73.3288])\n",
    "    check.append([dataset6[\"PRECTOTCORR\"][np.where(dataset6[\"Time2\"]==x)[0][0]], datasettwo6[\"106546_00060\"][np.where(datasettwo6[\"Time2\"]==x+2)[0][0]], datasetthree6[\"106547_00065\"][np.where(datasetthree6[\"Time2\"]==x+2)[0][0]], 40.709, -73.3288])\n",
    "    check.append([dataset6[\"PRECTOTCORR\"][np.where(dataset6[\"Time2\"]==x)[0][0]], datasettwo6[\"106546_00060\"][np.where(datasettwo6[\"Time2\"]==x+3)[0][0]], datasetthree6[\"106547_00065\"][np.where(datasetthree6[\"Time2\"]==x+3)[0][0]], 40.709, -73.3288])\n",
    "    check.append(datasetthree6[\"106547_00065\"][np.where(datasetthree6[\"Time2\"]==x+5)[0][0]])\n",
    "    train6.append(check[0:4])\n",
    "    target6.append(check[4])\n",
    "    k = k+1\n",
    "  except:\n",
    "    n = n+1\n",
    "print(k)"
   ]
  },
  {
   "cell_type": "code",
   "execution_count": 22,
   "id": "e3210e55-190a-468f-a0fc-d5a0f70b00b4",
   "metadata": {},
   "outputs": [
    {
     "name": "stdout",
     "output_type": "stream",
     "text": [
      "102967\n"
     ]
    }
   ],
   "source": [
    "k = 0\n",
    "n = 0\n",
    "train7 = []\n",
    "target7 = []\n",
    "for x in dataset7[\"Time2\"]:\n",
    "  check = []\n",
    "  try:\n",
    "    check.append([dataset7[\"PRECTOTCORR\"][np.where(dataset7[\"Time2\"]==x)[0][0]], datasettwo7[\"106556_00060\"][np.where(datasettwo7[\"Time2\"]==x)[0][0]], datasetthree7[\"106557_00065\"][np.where(datasetthree7[\"Time2\"]==x)[0][0]], 40.689, -73.4554])\n",
    "    check.append([dataset7[\"PRECTOTCORR\"][np.where(dataset7[\"Time2\"]==x)[0][0]], datasettwo7[\"106556_00060\"][np.where(datasettwo7[\"Time2\"]==x+1)[0][0]], datasetthree7[\"106557_00065\"][np.where(datasetthree7[\"Time2\"]==x+1)[0][0]], 40.689, -73.4554])\n",
    "    check.append([dataset7[\"PRECTOTCORR\"][np.where(dataset7[\"Time2\"]==x)[0][0]], datasettwo7[\"106556_00060\"][np.where(datasettwo7[\"Time2\"]==x+2)[0][0]], datasetthree7[\"106557_00065\"][np.where(datasetthree7[\"Time2\"]==x+2)[0][0]], 40.689, -73.4554])\n",
    "    check.append([dataset7[\"PRECTOTCORR\"][np.where(dataset7[\"Time2\"]==x)[0][0]], datasettwo7[\"106556_00060\"][np.where(datasettwo7[\"Time2\"]==x+3)[0][0]], datasetthree7[\"106557_00065\"][np.where(datasetthree7[\"Time2\"]==x+3)[0][0]], 40.689, -73.4554])\n",
    "    check.append(datasetthree7[\"106557_00065\"][np.where(datasetthree7[\"Time2\"]==x+5)[0][0]])\n",
    "    train7.append(check[0:4])\n",
    "    target7.append(check[4])\n",
    "    k = k+1\n",
    "  except:\n",
    "    n = n+1\n",
    "print(k)"
   ]
  },
  {
   "cell_type": "code",
   "execution_count": 23,
   "id": "fb16c9d5-99f4-4015-a35d-a639b87a02d2",
   "metadata": {},
   "outputs": [
    {
     "name": "stdout",
     "output_type": "stream",
     "text": [
      "86678\n"
     ]
    }
   ],
   "source": [
    "k = 0\n",
    "n = 0\n",
    "train8 = []\n",
    "target8 = []\n",
    "for x in dataset8[\"Time2\"]:\n",
    "  check = []\n",
    "  try:\n",
    "    check.append([dataset8[\"PRECTOTCORR\"][np.where(dataset8[\"Time2\"]==x)[0][0]], datasettwo8[\"106560_00060\"][np.where(datasettwo8[\"Time2\"]==x)[0][0]], datasetthree8[\"106561_00065\"][np.where(datasetthree8[\"Time2\"]==x)[0][0]], 40.6787, -73.5159])\n",
    "    check.append([dataset8[\"PRECTOTCORR\"][np.where(dataset8[\"Time2\"]==x)[0][0]], datasettwo8[\"106560_00060\"][np.where(datasettwo8[\"Time2\"]==x+1)[0][0]], datasetthree8[\"106561_00065\"][np.where(datasetthree8[\"Time2\"]==x+1)[0][0]], 40.6787, -73.5159])\n",
    "    check.append([dataset8[\"PRECTOTCORR\"][np.where(dataset8[\"Time2\"]==x)[0][0]], datasettwo8[\"106560_00060\"][np.where(datasettwo8[\"Time2\"]==x+2)[0][0]], datasetthree8[\"106561_00065\"][np.where(datasetthree8[\"Time2\"]==x+2)[0][0]], 40.6787, -73.5159])\n",
    "    check.append([dataset8[\"PRECTOTCORR\"][np.where(dataset8[\"Time2\"]==x)[0][0]], datasettwo8[\"106560_00060\"][np.where(datasettwo8[\"Time2\"]==x+3)[0][0]], datasetthree8[\"106561_00065\"][np.where(datasetthree8[\"Time2\"]==x+3)[0][0]], 40.6787, -73.5159])\n",
    "    check.append(datasetthree8[\"106561_00065\"][np.where(datasetthree8[\"Time2\"]==x+5)[0][0]])\n",
    "    train8.append(check[0:4])\n",
    "    target8.append(check[4])\n",
    "    k = k+1\n",
    "  except:\n",
    "    n = n+1\n",
    "print(k)"
   ]
  },
  {
   "cell_type": "code",
   "execution_count": 24,
   "id": "40557e75-e2b1-4325-92e2-964a6197d078",
   "metadata": {},
   "outputs": [
    {
     "name": "stdout",
     "output_type": "stream",
     "text": [
      "64119\n"
     ]
    }
   ],
   "source": [
    "k = 0\n",
    "n = 0\n",
    "train9 = []\n",
    "target9 = []\n",
    "for x in dataset9[\"Time2\"]:\n",
    "  check = []\n",
    "  try:\n",
    "    check.append([dataset9[\"PRECTOTCORR\"][np.where(dataset9[\"Time2\"]==x)[0][0]], datasettwo9[\"172625_00060\"][np.where(datasettwo9[\"Time2\"]==x)[0][0]], datasetthree9[\"172626_00065\"][np.where(datasetthree9[\"Time2\"]==x)[0][0]], 40.680, -73.513])\n",
    "    check.append([dataset9[\"PRECTOTCORR\"][np.where(dataset9[\"Time2\"]==x)[0][0]], datasettwo9[\"172625_00060\"][np.where(datasettwo9[\"Time2\"]==x+1)[0][0]], datasetthree9[\"172626_00065\"][np.where(datasetthree9[\"Time2\"]==x+1)[0][0]], 40.680, -73.513])\n",
    "    check.append([dataset9[\"PRECTOTCORR\"][np.where(dataset9[\"Time2\"]==x)[0][0]], datasettwo9[\"172625_00060\"][np.where(datasettwo9[\"Time2\"]==x+2)[0][0]], datasetthree9[\"172626_00065\"][np.where(datasetthree9[\"Time2\"]==x+2)[0][0]], 40.680, -73.513])\n",
    "    check.append([dataset9[\"PRECTOTCORR\"][np.where(dataset9[\"Time2\"]==x)[0][0]], datasettwo9[\"172625_00060\"][np.where(datasettwo9[\"Time2\"]==x+3)[0][0]], datasetthree9[\"172626_00065\"][np.where(datasetthree9[\"Time2\"]==x+3)[0][0]], 40.680, -73.513])\n",
    "    check.append(datasetthree9[\"172626_00065\"][np.where(datasetthree9[\"Time2\"]==x+5)[0][0]])\n",
    "    train9.append(check[0:4])\n",
    "    target9.append(check[4])\n",
    "    k = k+1\n",
    "  except:\n",
    "    n = n+1\n",
    "print(k)"
   ]
  },
  {
   "cell_type": "code",
   "execution_count": 25,
   "id": "4fe9abd9-e48d-4426-b17a-993ad284132f",
   "metadata": {},
   "outputs": [
    {
     "name": "stdout",
     "output_type": "stream",
     "text": [
      "53287\n"
     ]
    }
   ],
   "source": [
    "k = 0\n",
    "n = 0\n",
    "train10 = []\n",
    "target10 = []\n",
    "for x in dataset10[\"Time2\"]:\n",
    "  check = []\n",
    "  try:\n",
    "    check.append([dataset10[\"PRECTOTCORR\"][np.where(dataset10[\"Time2\"]==x)[0][0]], datasettwo10[\"172627_00060\"][np.where(datasettwo10[\"Time2\"]==x)[0][0]], datasetthree10[\"251639_00065\"][np.where(datasetthree10[\"Time2\"]==x)[0][0]], 40.6656, -73.5701])\n",
    "    check.append([dataset10[\"PRECTOTCORR\"][np.where(dataset10[\"Time2\"]==x)[0][0]], datasettwo10[\"172627_00060\"][np.where(datasettwo10[\"Time2\"]==x+1)[0][0]], datasetthree10[\"251639_00065\"][np.where(datasetthree10[\"Time2\"]==x+1)[0][0]], 40.6656, -73.5701])\n",
    "    check.append([dataset10[\"PRECTOTCORR\"][np.where(dataset10[\"Time2\"]==x)[0][0]], datasettwo10[\"172627_00060\"][np.where(datasettwo10[\"Time2\"]==x+2)[0][0]], datasetthree10[\"251639_00065\"][np.where(datasetthree10[\"Time2\"]==x+2)[0][0]], 40.6656, -73.5701])\n",
    "    check.append([dataset10[\"PRECTOTCORR\"][np.where(dataset10[\"Time2\"]==x)[0][0]], datasettwo10[\"172627_00060\"][np.where(datasettwo10[\"Time2\"]==x+3)[0][0]], datasetthree10[\"251639_00065\"][np.where(datasetthree10[\"Time2\"]==x+3)[0][0]], 40.6656, -73.5701])\n",
    "    check.append(datasetthree10[\"251639_00065\"][np.where(datasetthree10[\"Time2\"]==x+5)[0][0]])\n",
    "    train10.append(check[0:4])\n",
    "    target10.append(check[4])\n",
    "    k = k+1\n",
    "  except:\n",
    "    n = n+1\n",
    "print(k)"
   ]
  },
  {
   "cell_type": "code",
   "execution_count": 26,
   "id": "ce1397f4-3ff2-4dbe-b924-ef76d1d2798e",
   "metadata": {},
   "outputs": [
    {
     "name": "stdout",
     "output_type": "stream",
     "text": [
      "119267\n"
     ]
    }
   ],
   "source": [
    "k = 0\n",
    "n = 0\n",
    "train11 = []\n",
    "target11 = []\n",
    "for x in dataset11[\"Time2\"]:\n",
    "  check = []\n",
    "  try:\n",
    "    check.append([dataset11[\"PRECTOTCORR\"][np.where(dataset11[\"Time2\"]==x)[0][0]], datasettwo11[\"106624_00060\"][np.where(datasettwo11[\"Time2\"]==x)[0][0]], datasetthree11[\"106625_00065\"][np.where(datasetthree11[\"Time2\"]==x)[0][0]], 40.6638, -73.7045])\n",
    "    check.append([dataset11[\"PRECTOTCORR\"][np.where(dataset11[\"Time2\"]==x)[0][0]], datasettwo11[\"106624_00060\"][np.where(datasettwo11[\"Time2\"]==x+1)[0][0]], datasetthree11[\"106625_00065\"][np.where(datasetthree11[\"Time2\"]==x+1)[0][0]], 40.6638, -73.7045])\n",
    "    check.append([dataset11[\"PRECTOTCORR\"][np.where(dataset11[\"Time2\"]==x)[0][0]], datasettwo11[\"106624_00060\"][np.where(datasettwo11[\"Time2\"]==x+2)[0][0]], datasetthree11[\"106625_00065\"][np.where(datasetthree11[\"Time2\"]==x+2)[0][0]], 40.6638, -73.7045])\n",
    "    check.append([dataset11[\"PRECTOTCORR\"][np.where(dataset11[\"Time2\"]==x)[0][0]], datasettwo11[\"106624_00060\"][np.where(datasettwo11[\"Time2\"]==x+3)[0][0]], datasetthree11[\"106625_00065\"][np.where(datasetthree11[\"Time2\"]==x+3)[0][0]], 40.6638, -73.7045])\n",
    "    check.append(datasetthree11[\"106625_00065\"][np.where(datasetthree11[\"Time2\"]==x+5)[0][0]])\n",
    "    train11.append(check[0:4])\n",
    "    target11.append(check[4])\n",
    "    k = k+1\n",
    "  except:\n",
    "    n = n+1\n",
    "print(k)"
   ]
  },
  {
   "cell_type": "code",
   "execution_count": 27,
   "id": "9c9792a7-60b9-4f54-bb6b-67e96edc93e4",
   "metadata": {},
   "outputs": [
    {
     "data": {
      "text/plain": [
       "'1.16'"
      ]
     },
     "execution_count": 27,
     "metadata": {},
     "output_type": "execute_result"
    }
   ],
   "source": [
    "datasetthree11[\"106625_00065\"][np.where(datasetthree11[\"Time2\"]==490000)[0][0]]"
   ]
  },
  {
   "cell_type": "code",
   "execution_count": 28,
   "id": "ffbf5fc3-5380-430b-b589-db2d1f5bfe18",
   "metadata": {},
   "outputs": [
    {
     "data": {
      "text/plain": [
       "8.7"
      ]
     },
     "execution_count": 28,
     "metadata": {},
     "output_type": "execute_result"
    }
   ],
   "source": [
    "datasettwo10[\"172627_00060\"][np.where(datasettwo10[\"Time2\"]==490000)[0][0]]"
   ]
  },
  {
   "cell_type": "code",
   "execution_count": 29,
   "id": "f8a61094-a06b-4ab9-aede-1b9a9b97b1f0",
   "metadata": {},
   "outputs": [
    {
     "data": {
      "text/plain": [
       "0.95"
      ]
     },
     "execution_count": 29,
     "metadata": {},
     "output_type": "execute_result"
    }
   ],
   "source": [
    "datasetthree1[\"106409_00065\"][np.where(datasetthree1[\"Time2\"]==490000)[0][0]]"
   ]
  },
  {
   "cell_type": "code",
   "execution_count": 30,
   "id": "4ae68426-bffc-46d8-af9c-019733cae8a7",
   "metadata": {},
   "outputs": [],
   "source": [
    "#free up memory\n",
    "del dataset1\n",
    "del datasettwo1\n",
    "del datasetthree1\n",
    "del dataset2\n",
    "del datasettwo2\n",
    "del datasetthree2\n",
    "del dataset3\n",
    "del datasettwo3\n",
    "del datasetthree3\n",
    "del dataset4\n",
    "del datasettwo4\n",
    "del datasetthree4\n",
    "del dataset5\n",
    "del datasettwo5\n",
    "del datasetthree5\n",
    "del dataset6\n",
    "del datasettwo6\n",
    "del datasetthree6\n",
    "del dataset7\n",
    "del datasettwo7\n",
    "del datasetthree7\n",
    "del dataset8\n",
    "del datasettwo8\n",
    "del datasetthree8\n",
    "del dataset9\n",
    "del datasettwo9\n",
    "del datasetthree9\n",
    "del dataset10\n",
    "del datasettwo10\n",
    "del datasetthree10\n",
    "del dataset11\n",
    "del datasettwo11\n",
    "del datasetthree11"
   ]
  },
  {
   "cell_type": "code",
   "execution_count": 31,
   "id": "1dfb020b-2d01-463b-bb12-2f85611426ee",
   "metadata": {},
   "outputs": [
    {
     "data": {
      "text/plain": [
       "122395"
      ]
     },
     "execution_count": 31,
     "metadata": {},
     "output_type": "execute_result"
    }
   ],
   "source": [
    "len(train)"
   ]
  },
  {
   "cell_type": "code",
   "execution_count": 32,
   "id": "26a03029-6043-4270-8b2f-9fe67273ecc9",
   "metadata": {},
   "outputs": [
    {
     "data": {
      "text/plain": [
       "30027"
      ]
     },
     "execution_count": 32,
     "metadata": {},
     "output_type": "execute_result"
    }
   ],
   "source": [
    "len(train2)"
   ]
  },
  {
   "cell_type": "code",
   "execution_count": 33,
   "id": "b728ec11-0b2c-4571-af0b-83e84420d3b1",
   "metadata": {},
   "outputs": [
    {
     "data": {
      "text/plain": [
       "122395"
      ]
     },
     "execution_count": 33,
     "metadata": {},
     "output_type": "execute_result"
    }
   ],
   "source": [
    "len(target)"
   ]
  },
  {
   "cell_type": "code",
   "execution_count": 34,
   "id": "9d6fdfc1-63cd-4826-8447-8613f37a15ef",
   "metadata": {},
   "outputs": [
    {
     "data": {
      "text/plain": [
       "30027"
      ]
     },
     "execution_count": 34,
     "metadata": {},
     "output_type": "execute_result"
    }
   ],
   "source": [
    "len(target2)"
   ]
  },
  {
   "cell_type": "code",
   "execution_count": 35,
   "id": "9dde38a3-5cf5-4acd-813c-a127df016c73",
   "metadata": {},
   "outputs": [],
   "source": [
    "# train test split by years\n",
    "trainds = train[0:math.ceil(0.75*len(train))]\n",
    "traintargetds = target[0:math.ceil(0.75*len(target))]\n",
    "testds = train[math.ceil(0.75*len(train)):]\n",
    "testtargetds = target[math.ceil(0.75*len(target)):]\n",
    "trainds2 = train2[0:math.ceil(0.75*len(train2))]\n",
    "traintargetds2 = target2[0:math.ceil(0.75*len(target2))]\n",
    "testds2 = train2[math.ceil(0.75*len(train2)):]\n",
    "testtargetds2 = target2[math.ceil(0.75*len(target2)):]\n",
    "trainds3 = train3[0:math.ceil(0.75*len(train3))]\n",
    "traintargetds3 = target3[0:math.ceil(0.75*len(target3))]\n",
    "testds3 = train3[math.ceil(0.75*len(train3)):]\n",
    "testtargetds3 = target3[math.ceil(0.75*len(target3)):]\n",
    "trainds4 = train4[0:math.ceil(0.75*len(train4))]\n",
    "traintargetds4 = target4[0:math.ceil(0.75*len(target4))]\n",
    "testds4 = train4[math.ceil(0.75*len(train4)):]\n",
    "testtargetds4 = target4[math.ceil(0.75*len(target4)):]\n",
    "trainds5 = train5[0:math.ceil(0.75*len(train5))]\n",
    "traintargetds5 = target5[0:math.ceil(0.75*len(target5))]\n",
    "testds5 = train5[math.ceil(0.75*len(train5)):]\n",
    "testtargetds5 = target5[math.ceil(0.75*len(target5)):]\n",
    "trainds6 = train6[0:math.ceil(0.75*len(train6))]\n",
    "traintargetds6 = target6[0:math.ceil(0.75*len(target6))]\n",
    "testds6 = train6[math.ceil(0.75*len(train6)):]\n",
    "testtargetds6 = target6[math.ceil(0.75*len(target6)):]\n",
    "trainds7 = train7[0:math.ceil(0.75*len(train7))]\n",
    "traintargetds7 = target7[0:math.ceil(0.75*len(target7))]\n",
    "testds7 = train7[math.ceil(0.75*len(train7)):]\n",
    "testtargetds7 = target7[math.ceil(0.75*len(target7)):]\n",
    "trainds8 = train8[0:math.ceil(0.75*len(train8))]\n",
    "traintargetds8 = target8[0:math.ceil(0.75*len(target8))]\n",
    "testds8 = train8[math.ceil(0.75*len(train8)):]\n",
    "testtargetds8 = target8[math.ceil(0.75*len(target8)):]\n",
    "trainds9 = train9[0:math.ceil(0.75*len(train9))]\n",
    "traintargetds9 = target9[0:math.ceil(0.75*len(target9))]\n",
    "testds9 = train9[math.ceil(0.75*len(train9)):]\n",
    "testtargetds9 = target9[math.ceil(0.75*len(target9)):]\n",
    "trainds10 = train10[0:math.ceil(0.75*len(train10))]\n",
    "traintargetds10 = target10[0:math.ceil(0.75*len(target10))]\n",
    "testds10 = train10[math.ceil(0.75*len(train10)):]\n",
    "testtargetds10 = target10[math.ceil(0.75*len(target10)):]\n",
    "trainds11 = train11[0:math.ceil(0.75*len(train11))]\n",
    "traintargetds11 = target11[0:math.ceil(0.75*len(target11))]\n",
    "testds11 = train11[math.ceil(0.75*len(train11)):]\n",
    "testtargetds11 = target11[math.ceil(0.75*len(target11)):]\n",
    "for n in range(len(trainds2)):\n",
    "  trainds.append(trainds2[n])\n",
    "for n in range(len(trainds3)):\n",
    "  trainds.append(trainds3[n])\n",
    "for n in range(len(trainds4)):\n",
    "  trainds.append(trainds4[n])\n",
    "for n in range(len(trainds5)):\n",
    "  trainds.append(trainds5[n])\n",
    "for n in range(len(trainds6)):\n",
    "  trainds.append(trainds6[n])\n",
    "for n in range(len(trainds7)):\n",
    "  trainds.append(trainds7[n])\n",
    "for n in range(len(trainds8)):\n",
    "  trainds.append(trainds8[n])\n",
    "for n in range(len(trainds9)):\n",
    "  trainds.append(trainds9[n])\n",
    "for n in range(len(trainds10)):\n",
    "  trainds.append(trainds10[n])\n",
    "for n in range(len(trainds11)):\n",
    "  trainds.append(trainds11[n])\n",
    "for n in range(len(traintargetds2)):\n",
    "  traintargetds.append(traintargetds2[n])\n",
    "for n in range(len(traintargetds3)):\n",
    "  traintargetds.append(traintargetds3[n])\n",
    "for n in range(len(traintargetds4)):\n",
    "  traintargetds.append(traintargetds4[n])\n",
    "for n in range(len(traintargetds5)):\n",
    "  traintargetds.append(traintargetds5[n])\n",
    "for n in range(len(traintargetds6)):\n",
    "  traintargetds.append(traintargetds6[n])\n",
    "for n in range(len(traintargetds7)):\n",
    "  traintargetds.append(traintargetds7[n])\n",
    "for n in range(len(traintargetds8)):\n",
    "  traintargetds.append(traintargetds8[n])\n",
    "for n in range(len(traintargetds9)):\n",
    "  traintargetds.append(traintargetds9[n])\n",
    "for n in range(len(traintargetds10)):\n",
    "  traintargetds.append(traintargetds10[n])\n",
    "for n in range(len(traintargetds11)):\n",
    "  traintargetds.append(traintargetds11[n])\n",
    "traintargetds = [traintargetds]\n",
    "for n in range(len(testds2)):\n",
    "  testds.append(testds2[n])\n",
    "for n in range(len(testds3)):\n",
    "  testds.append(testds3[n])\n",
    "for n in range(len(testds4)):\n",
    "  testds.append(testds4[n])\n",
    "for n in range(len(testds5)):\n",
    "  testds.append(testds5[n])\n",
    "for n in range(len(testds6)):\n",
    "  testds.append(testds6[n])\n",
    "for n in range(len(testds7)):\n",
    "  testds.append(testds7[n])\n",
    "for n in range(len(testds8)):\n",
    "  testds.append(testds8[n])\n",
    "for n in range(len(testds9)):\n",
    "  testds.append(testds9[n])\n",
    "for n in range(len(testds10)):\n",
    "  testds.append(testds10[n])\n",
    "for n in range(len(testds11)):\n",
    "  testds.append(testds11[n])\n",
    "for n in range(len(testtargetds2)):\n",
    "  testtargetds.append(testtargetds2[n])\n",
    "for n in range(len(testtargetds3)):\n",
    "  testtargetds.append(testtargetds3[n])\n",
    "for n in range(len(testtargetds4)):\n",
    "  testtargetds.append(testtargetds4[n])\n",
    "for n in range(len(testtargetds5)):\n",
    "  testtargetds.append(testtargetds5[n])\n",
    "for n in range(len(testtargetds6)):\n",
    "  testtargetds.append(testtargetds6[n])\n",
    "for n in range(len(testtargetds7)):\n",
    "  testtargetds.append(testtargetds7[n])\n",
    "for n in range(len(testtargetds8)):\n",
    "  testtargetds.append(testtargetds8[n])\n",
    "for n in range(len(testtargetds9)):\n",
    "  testtargetds.append(testtargetds9[n])\n",
    "for n in range(len(testtargetds10)):\n",
    "  testtargetds.append(testtargetds10[n])\n",
    "for n in range(len(testtargetds11)):\n",
    "  testtargetds.append(testtargetds11[n])\n",
    "#testtargetds = [testtargetds]"
   ]
  },
  {
   "cell_type": "code",
   "execution_count": 36,
   "id": "1d23f289-c15a-4464-bfc2-f18be9d95bb7",
   "metadata": {},
   "outputs": [
    {
     "data": {
      "text/plain": [
       "250016"
      ]
     },
     "execution_count": 36,
     "metadata": {},
     "output_type": "execute_result"
    }
   ],
   "source": [
    "len(testds)"
   ]
  },
  {
   "cell_type": "code",
   "execution_count": 37,
   "id": "347f82ca-72d6-49bc-9bb3-3e153dd47eee",
   "metadata": {},
   "outputs": [],
   "source": [
    "testds=testds[0:245000]"
   ]
  },
  {
   "cell_type": "code",
   "execution_count": 38,
   "id": "462204a1-acb6-4672-b9ac-0e0fe13df418",
   "metadata": {},
   "outputs": [],
   "source": [
    "testtargetds=testtargetds[0:245000]\n",
    "testtargetds = [testtargetds]"
   ]
  },
  {
   "cell_type": "code",
   "execution_count": 39,
   "id": "3485d4c7-19ff-48b3-b0f3-cbb08f8114c8",
   "metadata": {},
   "outputs": [],
   "source": [
    "for m in range(len(trainds)):\n",
    "  for n in range(4):\n",
    "    trainds[m][n][1] = (trainds[m][n][1])/3000\n",
    "\n",
    "for m in range(len(testds)):\n",
    "  for n in range(4):\n",
    "    testds[m][n][1] = (testds[m][n][1])/3000\n",
    "\n",
    "for m in range(len(trainds)):\n",
    "  for n in range(4):\n",
    "    trainds[m][n][3] = (trainds[m][n][3] - 40.6638)/(40.8874-40.6638)\n",
    "\n",
    "for m in range(len(testds)):\n",
    "  for n in range(4):\n",
    "    testds[m][n][3] = (testds[m][n][3] - 40.6638)/(40.8874-40.6638)\n",
    "\n",
    "for m in range(len(trainds)):\n",
    "  for n in range(4):\n",
    "    trainds[m][n][4] = (trainds[m][n][4] + 73.8744)/(-72.9938+73.8744)\n",
    "\n",
    "for m in range(len(testds)):\n",
    "  for n in range(4):\n",
    "    testds[m][n][4] = (testds[m][n][4] + 73.8744)/(-72.9938+73.8744)"
   ]
  },
  {
   "cell_type": "code",
   "execution_count": 40,
   "id": "dbfbc45b-7f5f-4111-ab55-7df336bcedf3",
   "metadata": {},
   "outputs": [],
   "source": [
    "# train test split by years\n",
    "#trainds = train[0:90000]\n",
    "#traintargetds = [target[0:90000]]\n",
    "#testds = train[90000:]\n",
    "#testtargetds = [target[90000:]]"
   ]
  },
  {
   "cell_type": "code",
   "execution_count": 41,
   "id": "e08dcffb-21a1-4604-b459-20f497b8fba5",
   "metadata": {},
   "outputs": [],
   "source": [
    "trainds = np.array(trainds)\n",
    "traintargetds = np.array(traintargetds).T\n",
    "testds = np.array(testds)\n",
    "testtargetds = np.array(testtargetds).T"
   ]
  },
  {
   "cell_type": "code",
   "execution_count": 42,
   "id": "e7613638-49fe-4be6-b45a-a85763009a92",
   "metadata": {},
   "outputs": [
    {
     "data": {
      "text/plain": [
       "array([[0.00000000e+00, 1.83333333e-04, 2.12000000e+00, 7.24508050e-02,\n",
       "        4.10401999e-01],\n",
       "       [0.00000000e+00, 1.83333333e-04, 2.12000000e+00, 7.24508050e-02,\n",
       "        4.10401999e-01],\n",
       "       [0.00000000e+00, 1.83333333e-04, 2.12000000e+00, 7.24508050e-02,\n",
       "        4.10401999e-01],\n",
       "       [0.00000000e+00, 1.83333333e-04, 2.12000000e+00, 7.24508050e-02,\n",
       "        4.10401999e-01]])"
      ]
     },
     "execution_count": 42,
     "metadata": {},
     "output_type": "execute_result"
    }
   ],
   "source": [
    "testds[200000]"
   ]
  },
  {
   "cell_type": "code",
   "execution_count": 43,
   "id": "b88e2b4d-6687-42b0-8077-103a6c983635",
   "metadata": {},
   "outputs": [
    {
     "data": {
      "text/plain": [
       "(750073, 4, 5)"
      ]
     },
     "execution_count": 43,
     "metadata": {},
     "output_type": "execute_result"
    }
   ],
   "source": [
    "trainds.shape"
   ]
  },
  {
   "cell_type": "code",
   "execution_count": 44,
   "id": "d6ae5547-d5e6-469e-ad2c-0c27021f1866",
   "metadata": {},
   "outputs": [
    {
     "data": {
      "text/plain": [
       "(750073, 1)"
      ]
     },
     "execution_count": 44,
     "metadata": {},
     "output_type": "execute_result"
    }
   ],
   "source": [
    "traintargetds.shape"
   ]
  },
  {
   "cell_type": "code",
   "execution_count": 45,
   "id": "de7f9e18-96d7-4178-8261-43fe4b545a70",
   "metadata": {},
   "outputs": [
    {
     "data": {
      "text/plain": [
       "[[0.16, 0.0308, 0.96, 0.8877459749552675, 0.0],\n",
       " [0.16, 0.0308, 0.96, 0.8877459749552675, 0.0],\n",
       " [0.16, 0.0308, 0.96, 0.8877459749552675, 0.0],\n",
       " [0.16, 0.0308, 0.96, 0.8877459749552675, 0.0]]"
      ]
     },
     "execution_count": 45,
     "metadata": {},
     "output_type": "execute_result"
    }
   ],
   "source": [
    "train[5]"
   ]
  },
  {
   "cell_type": "code",
   "execution_count": 46,
   "id": "c949bbd0-9729-4566-8143-bbd35a07bf02",
   "metadata": {},
   "outputs": [
    {
     "data": {
      "text/plain": [
       "0.95"
      ]
     },
     "execution_count": 46,
     "metadata": {},
     "output_type": "execute_result"
    }
   ],
   "source": [
    "target[5]"
   ]
  },
  {
   "cell_type": "code",
   "execution_count": 47,
   "id": "f7fca6d0-b21f-454e-8ade-037b85d47ef1",
   "metadata": {},
   "outputs": [
    {
     "data": {
      "text/plain": [
       "(245000, 4, 5)"
      ]
     },
     "execution_count": 47,
     "metadata": {},
     "output_type": "execute_result"
    }
   ],
   "source": [
    "testds.shape"
   ]
  },
  {
   "cell_type": "code",
   "execution_count": 48,
   "id": "3ad2513c-4136-4941-ac5f-cd42931939a9",
   "metadata": {},
   "outputs": [
    {
     "name": "stdout",
     "output_type": "stream",
     "text": [
      "(750073, 4, 5) (245000, 4, 5)\n"
     ]
    }
   ],
   "source": [
    "print(trainds.shape, testds.shape)"
   ]
  },
  {
   "cell_type": "code",
   "execution_count": 49,
   "id": "4f4470dc-e7ec-4b6b-bc6d-975227377b52",
   "metadata": {},
   "outputs": [],
   "source": [
    "# for help with data manipulation for time series rnn training; we can use the time series generator from keras\n",
    "\n",
    "# dummy input for understanding\n",
    "# data = np.array([[i] for i in range(50)])\n",
    "\n",
    "# here goes our training data\n",
    "data = trainds\n",
    "\n",
    "# the shape of your target is your prediction shape (e.g., here we make it 1)\n",
    "#target = data\n",
    "\n",
    "# the length of the input feature\n",
    "n_input=4 # you can change this! doesn't HAVE to be 4 months input\n",
    "n_features=data.shape[1]*data.shape[2]\n",
    "\n",
    "# this is the generator that will go into our rnn for training\n",
    "#data_gen = TimeseriesGenerator(data,\n",
    "#                               traintargetds,\n",
    "#                               length=n_input,\n",
    "#                               sampling_rate=1,\n",
    "#                               batch_size=1000, # you can try different batch sizes\n",
    "#                               shuffle=True)"
   ]
  },
  {
   "cell_type": "code",
   "execution_count": 50,
   "id": "b41c6800-f8ca-4392-b10a-a07332c2c0a5",
   "metadata": {},
   "outputs": [
    {
     "name": "stdout",
     "output_type": "stream",
     "text": [
      "(750073, 4, 5) (750073, 1) 20\n"
     ]
    }
   ],
   "source": [
    "# check shapes\n",
    "print(data.shape, traintargetds.shape, n_features)"
   ]
  },
  {
   "cell_type": "code",
   "execution_count": 51,
   "id": "91c36532-31c5-44d4-8998-30db55d76767",
   "metadata": {},
   "outputs": [
    {
     "data": {
      "text/html": [
       "<pre style=\"white-space:pre;overflow-x:auto;line-height:normal;font-family:Menlo,'DejaVu Sans Mono',consolas,'Courier New',monospace\"><span style=\"font-weight: bold\">Model: \"sequential\"</span>\n",
       "</pre>\n"
      ],
      "text/plain": [
       "\u001b[1mModel: \"sequential\"\u001b[0m\n"
      ]
     },
     "metadata": {},
     "output_type": "display_data"
    },
    {
     "data": {
      "text/html": [
       "<pre style=\"white-space:pre;overflow-x:auto;line-height:normal;font-family:Menlo,'DejaVu Sans Mono',consolas,'Courier New',monospace\">┏━━━━━━━━━━━━━━━━━━━━━━━━━━━━━━━━━┳━━━━━━━━━━━━━━━━━━━━━━━━┳━━━━━━━━━━━━━━━┓\n",
       "┃<span style=\"font-weight: bold\"> Layer (type)                    </span>┃<span style=\"font-weight: bold\"> Output Shape           </span>┃<span style=\"font-weight: bold\">       Param # </span>┃\n",
       "┡━━━━━━━━━━━━━━━━━━━━━━━━━━━━━━━━━╇━━━━━━━━━━━━━━━━━━━━━━━━╇━━━━━━━━━━━━━━━┩\n",
       "│ lstm (<span style=\"color: #0087ff; text-decoration-color: #0087ff\">LSTM</span>)                     │ (<span style=\"color: #00d7ff; text-decoration-color: #00d7ff\">None</span>, <span style=\"color: #00af00; text-decoration-color: #00af00\">128</span>)            │        <span style=\"color: #00af00; text-decoration-color: #00af00\">68,608</span> │\n",
       "├─────────────────────────────────┼────────────────────────┼───────────────┤\n",
       "│ dense (<span style=\"color: #0087ff; text-decoration-color: #0087ff\">Dense</span>)                   │ (<span style=\"color: #00d7ff; text-decoration-color: #00d7ff\">None</span>, <span style=\"color: #00af00; text-decoration-color: #00af00\">64</span>)             │         <span style=\"color: #00af00; text-decoration-color: #00af00\">8,256</span> │\n",
       "├─────────────────────────────────┼────────────────────────┼───────────────┤\n",
       "│ activation (<span style=\"color: #0087ff; text-decoration-color: #0087ff\">Activation</span>)         │ (<span style=\"color: #00d7ff; text-decoration-color: #00d7ff\">None</span>, <span style=\"color: #00af00; text-decoration-color: #00af00\">64</span>)             │             <span style=\"color: #00af00; text-decoration-color: #00af00\">0</span> │\n",
       "├─────────────────────────────────┼────────────────────────┼───────────────┤\n",
       "│ dense_1 (<span style=\"color: #0087ff; text-decoration-color: #0087ff\">Dense</span>)                 │ (<span style=\"color: #00d7ff; text-decoration-color: #00d7ff\">None</span>, <span style=\"color: #00af00; text-decoration-color: #00af00\">8</span>)              │           <span style=\"color: #00af00; text-decoration-color: #00af00\">520</span> │\n",
       "├─────────────────────────────────┼────────────────────────┼───────────────┤\n",
       "│ activation_1 (<span style=\"color: #0087ff; text-decoration-color: #0087ff\">Activation</span>)       │ (<span style=\"color: #00d7ff; text-decoration-color: #00d7ff\">None</span>, <span style=\"color: #00af00; text-decoration-color: #00af00\">8</span>)              │             <span style=\"color: #00af00; text-decoration-color: #00af00\">0</span> │\n",
       "├─────────────────────────────────┼────────────────────────┼───────────────┤\n",
       "│ dense_2 (<span style=\"color: #0087ff; text-decoration-color: #0087ff\">Dense</span>)                 │ (<span style=\"color: #00d7ff; text-decoration-color: #00d7ff\">None</span>, <span style=\"color: #00af00; text-decoration-color: #00af00\">1</span>)              │             <span style=\"color: #00af00; text-decoration-color: #00af00\">9</span> │\n",
       "├─────────────────────────────────┼────────────────────────┼───────────────┤\n",
       "│ activation_2 (<span style=\"color: #0087ff; text-decoration-color: #0087ff\">Activation</span>)       │ (<span style=\"color: #00d7ff; text-decoration-color: #00d7ff\">None</span>, <span style=\"color: #00af00; text-decoration-color: #00af00\">1</span>)              │             <span style=\"color: #00af00; text-decoration-color: #00af00\">0</span> │\n",
       "└─────────────────────────────────┴────────────────────────┴───────────────┘\n",
       "</pre>\n"
      ],
      "text/plain": [
       "┏━━━━━━━━━━━━━━━━━━━━━━━━━━━━━━━━━┳━━━━━━━━━━━━━━━━━━━━━━━━┳━━━━━━━━━━━━━━━┓\n",
       "┃\u001b[1m \u001b[0m\u001b[1mLayer (type)                   \u001b[0m\u001b[1m \u001b[0m┃\u001b[1m \u001b[0m\u001b[1mOutput Shape          \u001b[0m\u001b[1m \u001b[0m┃\u001b[1m \u001b[0m\u001b[1m      Param #\u001b[0m\u001b[1m \u001b[0m┃\n",
       "┡━━━━━━━━━━━━━━━━━━━━━━━━━━━━━━━━━╇━━━━━━━━━━━━━━━━━━━━━━━━╇━━━━━━━━━━━━━━━┩\n",
       "│ lstm (\u001b[38;5;33mLSTM\u001b[0m)                     │ (\u001b[38;5;45mNone\u001b[0m, \u001b[38;5;34m128\u001b[0m)            │        \u001b[38;5;34m68,608\u001b[0m │\n",
       "├─────────────────────────────────┼────────────────────────┼───────────────┤\n",
       "│ dense (\u001b[38;5;33mDense\u001b[0m)                   │ (\u001b[38;5;45mNone\u001b[0m, \u001b[38;5;34m64\u001b[0m)             │         \u001b[38;5;34m8,256\u001b[0m │\n",
       "├─────────────────────────────────┼────────────────────────┼───────────────┤\n",
       "│ activation (\u001b[38;5;33mActivation\u001b[0m)         │ (\u001b[38;5;45mNone\u001b[0m, \u001b[38;5;34m64\u001b[0m)             │             \u001b[38;5;34m0\u001b[0m │\n",
       "├─────────────────────────────────┼────────────────────────┼───────────────┤\n",
       "│ dense_1 (\u001b[38;5;33mDense\u001b[0m)                 │ (\u001b[38;5;45mNone\u001b[0m, \u001b[38;5;34m8\u001b[0m)              │           \u001b[38;5;34m520\u001b[0m │\n",
       "├─────────────────────────────────┼────────────────────────┼───────────────┤\n",
       "│ activation_1 (\u001b[38;5;33mActivation\u001b[0m)       │ (\u001b[38;5;45mNone\u001b[0m, \u001b[38;5;34m8\u001b[0m)              │             \u001b[38;5;34m0\u001b[0m │\n",
       "├─────────────────────────────────┼────────────────────────┼───────────────┤\n",
       "│ dense_2 (\u001b[38;5;33mDense\u001b[0m)                 │ (\u001b[38;5;45mNone\u001b[0m, \u001b[38;5;34m1\u001b[0m)              │             \u001b[38;5;34m9\u001b[0m │\n",
       "├─────────────────────────────────┼────────────────────────┼───────────────┤\n",
       "│ activation_2 (\u001b[38;5;33mActivation\u001b[0m)       │ (\u001b[38;5;45mNone\u001b[0m, \u001b[38;5;34m1\u001b[0m)              │             \u001b[38;5;34m0\u001b[0m │\n",
       "└─────────────────────────────────┴────────────────────────┴───────────────┘\n"
      ]
     },
     "metadata": {},
     "output_type": "display_data"
    },
    {
     "data": {
      "text/html": [
       "<pre style=\"white-space:pre;overflow-x:auto;line-height:normal;font-family:Menlo,'DejaVu Sans Mono',consolas,'Courier New',monospace\"><span style=\"font-weight: bold\"> Total params: </span><span style=\"color: #00af00; text-decoration-color: #00af00\">77,393</span> (302.32 KB)\n",
       "</pre>\n"
      ],
      "text/plain": [
       "\u001b[1m Total params: \u001b[0m\u001b[38;5;34m77,393\u001b[0m (302.32 KB)\n"
      ]
     },
     "metadata": {},
     "output_type": "display_data"
    },
    {
     "data": {
      "text/html": [
       "<pre style=\"white-space:pre;overflow-x:auto;line-height:normal;font-family:Menlo,'DejaVu Sans Mono',consolas,'Courier New',monospace\"><span style=\"font-weight: bold\"> Trainable params: </span><span style=\"color: #00af00; text-decoration-color: #00af00\">77,393</span> (302.32 KB)\n",
       "</pre>\n"
      ],
      "text/plain": [
       "\u001b[1m Trainable params: \u001b[0m\u001b[38;5;34m77,393\u001b[0m (302.32 KB)\n"
      ]
     },
     "metadata": {},
     "output_type": "display_data"
    },
    {
     "data": {
      "text/html": [
       "<pre style=\"white-space:pre;overflow-x:auto;line-height:normal;font-family:Menlo,'DejaVu Sans Mono',consolas,'Courier New',monospace\"><span style=\"font-weight: bold\"> Non-trainable params: </span><span style=\"color: #00af00; text-decoration-color: #00af00\">0</span> (0.00 B)\n",
       "</pre>\n"
      ],
      "text/plain": [
       "\u001b[1m Non-trainable params: \u001b[0m\u001b[38;5;34m0\u001b[0m (0.00 B)\n"
      ]
     },
     "metadata": {},
     "output_type": "display_data"
    }
   ],
   "source": [
    "# many-to-one example\n",
    "# lets make our rnn!\n",
    "regressor = Sequential()\n",
    "\n",
    "# LSTM; input shape is 1 (for one time step at a time) and n_features which is also 1 for our toy example\n",
    "regressor.add(keras.layers.Input(shape=(1, 5)))\n",
    "\n",
    "# don't return sequence; just the last output of the input sequence\n",
    "regressor.add(LSTM(units=128, return_sequences=False))\n",
    "\n",
    "regressor.add(Dense(64))\n",
    "regressor.add(Activation('linear'))\n",
    "\n",
    "regressor.add(Dense(8))\n",
    "regressor.add(Activation('linear'))\n",
    "\n",
    "# one neuron for output prediction\n",
    "regressor.add(Dense(1))\n",
    "regressor.add(Activation('linear'))\n",
    "\n",
    "METRICS = [\n",
    "    keras.metrics.MeanSquaredError(name='mean_squared_error'),\n",
    "    keras.metrics.RootMeanSquaredError(name='root_mean_squared_error'),\n",
    "]\n",
    "\n",
    "# compile model\n",
    "regressor.compile(keras.optimizers.Adam(learning_rate=0.002), loss='mean_squared_error', metrics=METRICS)\n",
    "\n",
    "keras.utils.set_random_seed(1010)\n",
    "\n",
    "# what does graph look like?\n",
    "regressor.summary()"
   ]
  },
  {
   "cell_type": "code",
   "execution_count": 52,
   "id": "3b0599a6-102a-4e5f-a9e4-e7f8b1a9c1a2",
   "metadata": {},
   "outputs": [
    {
     "name": "stdout",
     "output_type": "stream",
     "text": [
      "Epoch 1/80\n",
      "\u001b[1m301/301\u001b[0m \u001b[32m━━━━━━━━━━━━━━━━━━━━\u001b[0m\u001b[37m\u001b[0m \u001b[1m42s\u001b[0m 135ms/step - loss: 0.1184 - mean_squared_error: 0.1184 - root_mean_squared_error: 0.2892 - val_loss: 0.0010 - val_mean_squared_error: 0.0011 - val_root_mean_squared_error: 0.0325\n",
      "Epoch 2/80\n",
      "\u001b[1m301/301\u001b[0m \u001b[32m━━━━━━━━━━━━━━━━━━━━\u001b[0m\u001b[37m\u001b[0m \u001b[1m40s\u001b[0m 131ms/step - loss: 5.8311e-04 - mean_squared_error: 5.8311e-04 - root_mean_squared_error: 0.0241 - val_loss: 9.6981e-04 - val_mean_squared_error: 9.8246e-04 - val_root_mean_squared_error: 0.0313\n",
      "Epoch 3/80\n",
      "\u001b[1m301/301\u001b[0m \u001b[32m━━━━━━━━━━━━━━━━━━━━\u001b[0m\u001b[37m\u001b[0m \u001b[1m37s\u001b[0m 124ms/step - loss: 5.4139e-04 - mean_squared_error: 5.4139e-04 - root_mean_squared_error: 0.0233 - val_loss: 9.3382e-04 - val_mean_squared_error: 9.4593e-04 - val_root_mean_squared_error: 0.0308\n",
      "Epoch 4/80\n",
      "\u001b[1m301/301\u001b[0m \u001b[32m━━━━━━━━━━━━━━━━━━━━\u001b[0m\u001b[37m\u001b[0m \u001b[1m47s\u001b[0m 144ms/step - loss: 5.1837e-04 - mean_squared_error: 5.1837e-04 - root_mean_squared_error: 0.0228 - val_loss: 8.9319e-04 - val_mean_squared_error: 9.0475e-04 - val_root_mean_squared_error: 0.0301\n",
      "Epoch 5/80\n",
      "\u001b[1m301/301\u001b[0m \u001b[32m━━━━━━━━━━━━━━━━━━━━\u001b[0m\u001b[37m\u001b[0m \u001b[1m79s\u001b[0m 133ms/step - loss: 4.9711e-04 - mean_squared_error: 4.9712e-04 - root_mean_squared_error: 0.0223 - val_loss: 8.4659e-04 - val_mean_squared_error: 8.5753e-04 - val_root_mean_squared_error: 0.0293\n",
      "Epoch 6/80\n",
      "\u001b[1m301/301\u001b[0m \u001b[32m━━━━━━━━━━━━━━━━━━━━\u001b[0m\u001b[37m\u001b[0m \u001b[1m41s\u001b[0m 136ms/step - loss: 4.6586e-04 - mean_squared_error: 4.6587e-04 - root_mean_squared_error: 0.0216 - val_loss: 7.8101e-04 - val_mean_squared_error: 7.9093e-04 - val_root_mean_squared_error: 0.0281\n",
      "Epoch 7/80\n",
      "\u001b[1m301/301\u001b[0m \u001b[32m━━━━━━━━━━━━━━━━━━━━\u001b[0m\u001b[37m\u001b[0m \u001b[1m40s\u001b[0m 131ms/step - loss: 4.2476e-04 - mean_squared_error: 4.2476e-04 - root_mean_squared_error: 0.0206 - val_loss: 6.8716e-04 - val_mean_squared_error: 6.9592e-04 - val_root_mean_squared_error: 0.0264\n",
      "Epoch 8/80\n",
      "\u001b[1m301/301\u001b[0m \u001b[32m━━━━━━━━━━━━━━━━━━━━\u001b[0m\u001b[37m\u001b[0m \u001b[1m39s\u001b[0m 131ms/step - loss: 3.7505e-04 - mean_squared_error: 3.7506e-04 - root_mean_squared_error: 0.0194 - val_loss: 5.8953e-04 - val_mean_squared_error: 5.9698e-04 - val_root_mean_squared_error: 0.0244\n",
      "Epoch 9/80\n",
      "\u001b[1m301/301\u001b[0m \u001b[32m━━━━━━━━━━━━━━━━━━━━\u001b[0m\u001b[37m\u001b[0m \u001b[1m39s\u001b[0m 128ms/step - loss: 3.4130e-04 - mean_squared_error: 3.4130e-04 - root_mean_squared_error: 0.0185 - val_loss: 5.3036e-04 - val_mean_squared_error: 5.3691e-04 - val_root_mean_squared_error: 0.0232\n",
      "Epoch 10/80\n",
      "\u001b[1m301/301\u001b[0m \u001b[32m━━━━━━━━━━━━━━━━━━━━\u001b[0m\u001b[37m\u001b[0m \u001b[1m37s\u001b[0m 124ms/step - loss: 3.2104e-04 - mean_squared_error: 3.2104e-04 - root_mean_squared_error: 0.0179 - val_loss: 4.8638e-04 - val_mean_squared_error: 4.9238e-04 - val_root_mean_squared_error: 0.0222\n",
      "Epoch 11/80\n",
      "\u001b[1m301/301\u001b[0m \u001b[32m━━━━━━━━━━━━━━━━━━━━\u001b[0m\u001b[37m\u001b[0m \u001b[1m46s\u001b[0m 140ms/step - loss: 2.7918e-04 - mean_squared_error: 2.7918e-04 - root_mean_squared_error: 0.0167 - val_loss: 4.5887e-04 - val_mean_squared_error: 4.6457e-04 - val_root_mean_squared_error: 0.0216\n",
      "Epoch 12/80\n",
      "\u001b[1m301/301\u001b[0m \u001b[32m━━━━━━━━━━━━━━━━━━━━\u001b[0m\u001b[37m\u001b[0m \u001b[1m79s\u001b[0m 130ms/step - loss: 2.7040e-04 - mean_squared_error: 2.7040e-04 - root_mean_squared_error: 0.0164 - val_loss: 4.3650e-04 - val_mean_squared_error: 4.4190e-04 - val_root_mean_squared_error: 0.0210\n",
      "Epoch 13/80\n",
      "\u001b[1m301/301\u001b[0m \u001b[32m━━━━━━━━━━━━━━━━━━━━\u001b[0m\u001b[37m\u001b[0m \u001b[1m40s\u001b[0m 132ms/step - loss: 2.5206e-04 - mean_squared_error: 2.5207e-04 - root_mean_squared_error: 0.0158 - val_loss: 4.2391e-04 - val_mean_squared_error: 4.2907e-04 - val_root_mean_squared_error: 0.0207\n",
      "Epoch 14/80\n",
      "\u001b[1m301/301\u001b[0m \u001b[32m━━━━━━━━━━━━━━━━━━━━\u001b[0m\u001b[37m\u001b[0m \u001b[1m46s\u001b[0m 148ms/step - loss: 2.3844e-04 - mean_squared_error: 2.3845e-04 - root_mean_squared_error: 0.0154 - val_loss: 4.1287e-04 - val_mean_squared_error: 4.1806e-04 - val_root_mean_squared_error: 0.0204\n",
      "Epoch 15/80\n",
      "\u001b[1m301/301\u001b[0m \u001b[32m━━━━━━━━━━━━━━━━━━━━\u001b[0m\u001b[37m\u001b[0m \u001b[1m37s\u001b[0m 124ms/step - loss: 2.2697e-04 - mean_squared_error: 2.2698e-04 - root_mean_squared_error: 0.0150 - val_loss: 4.0421e-04 - val_mean_squared_error: 4.0934e-04 - val_root_mean_squared_error: 0.0202\n",
      "Epoch 16/80\n",
      "\u001b[1m301/301\u001b[0m \u001b[32m━━━━━━━━━━━━━━━━━━━━\u001b[0m\u001b[37m\u001b[0m \u001b[1m41s\u001b[0m 135ms/step - loss: 2.3703e-04 - mean_squared_error: 2.3703e-04 - root_mean_squared_error: 0.0154 - val_loss: 3.9790e-04 - val_mean_squared_error: 4.0297e-04 - val_root_mean_squared_error: 0.0201\n",
      "Epoch 17/80\n",
      "\u001b[1m301/301\u001b[0m \u001b[32m━━━━━━━━━━━━━━━━━━━━\u001b[0m\u001b[37m\u001b[0m \u001b[1m40s\u001b[0m 133ms/step - loss: 2.2880e-04 - mean_squared_error: 2.2880e-04 - root_mean_squared_error: 0.0151 - val_loss: 4.0066e-04 - val_mean_squared_error: 4.0580e-04 - val_root_mean_squared_error: 0.0201\n",
      "Epoch 18/80\n",
      "\u001b[1m301/301\u001b[0m \u001b[32m━━━━━━━━━━━━━━━━━━━━\u001b[0m\u001b[37m\u001b[0m \u001b[1m41s\u001b[0m 133ms/step - loss: 2.0819e-04 - mean_squared_error: 2.0819e-04 - root_mean_squared_error: 0.0144 - val_loss: 3.9396e-04 - val_mean_squared_error: 3.9902e-04 - val_root_mean_squared_error: 0.0200\n",
      "Epoch 19/80\n",
      "\u001b[1m301/301\u001b[0m \u001b[32m━━━━━━━━━━━━━━━━━━━━\u001b[0m\u001b[37m\u001b[0m \u001b[1m40s\u001b[0m 134ms/step - loss: 2.0322e-04 - mean_squared_error: 2.0323e-04 - root_mean_squared_error: 0.0142 - val_loss: 3.8360e-04 - val_mean_squared_error: 3.8851e-04 - val_root_mean_squared_error: 0.0197\n",
      "Epoch 20/80\n",
      "\u001b[1m301/301\u001b[0m \u001b[32m━━━━━━━━━━━━━━━━━━━━\u001b[0m\u001b[37m\u001b[0m \u001b[1m44s\u001b[0m 143ms/step - loss: 2.0833e-04 - mean_squared_error: 2.0833e-04 - root_mean_squared_error: 0.0144 - val_loss: 3.6794e-04 - val_mean_squared_error: 3.7251e-04 - val_root_mean_squared_error: 0.0193\n",
      "Epoch 21/80\n",
      "\u001b[1m301/301\u001b[0m \u001b[32m━━━━━━━━━━━━━━━━━━━━\u001b[0m\u001b[37m\u001b[0m \u001b[1m47s\u001b[0m 158ms/step - loss: 2.2092e-04 - mean_squared_error: 2.2093e-04 - root_mean_squared_error: 0.0149 - val_loss: 3.6790e-04 - val_mean_squared_error: 3.7257e-04 - val_root_mean_squared_error: 0.0193\n",
      "Epoch 22/80\n",
      "\u001b[1m301/301\u001b[0m \u001b[32m━━━━━━━━━━━━━━━━━━━━\u001b[0m\u001b[37m\u001b[0m \u001b[1m48s\u001b[0m 161ms/step - loss: 1.9496e-04 - mean_squared_error: 1.9496e-04 - root_mean_squared_error: 0.0139 - val_loss: 3.6231e-04 - val_mean_squared_error: 3.6686e-04 - val_root_mean_squared_error: 0.0192\n",
      "Epoch 23/80\n",
      "\u001b[1m301/301\u001b[0m \u001b[32m━━━━━━━━━━━━━━━━━━━━\u001b[0m\u001b[37m\u001b[0m \u001b[1m49s\u001b[0m 161ms/step - loss: 1.9281e-04 - mean_squared_error: 1.9281e-04 - root_mean_squared_error: 0.0139 - val_loss: 3.5918e-04 - val_mean_squared_error: 3.6358e-04 - val_root_mean_squared_error: 0.0191\n",
      "Epoch 24/80\n",
      "\u001b[1m301/301\u001b[0m \u001b[32m━━━━━━━━━━━━━━━━━━━━\u001b[0m\u001b[37m\u001b[0m \u001b[1m48s\u001b[0m 161ms/step - loss: 1.9074e-04 - mean_squared_error: 1.9074e-04 - root_mean_squared_error: 0.0138 - val_loss: 3.5738e-04 - val_mean_squared_error: 3.6171e-04 - val_root_mean_squared_error: 0.0190\n",
      "Epoch 25/80\n",
      "\u001b[1m301/301\u001b[0m \u001b[32m━━━━━━━━━━━━━━━━━━━━\u001b[0m\u001b[37m\u001b[0m \u001b[1m46s\u001b[0m 152ms/step - loss: 1.8896e-04 - mean_squared_error: 1.8896e-04 - root_mean_squared_error: 0.0137 - val_loss: 3.5500e-04 - val_mean_squared_error: 3.5927e-04 - val_root_mean_squared_error: 0.0190\n",
      "Epoch 26/80\n",
      "\u001b[1m301/301\u001b[0m \u001b[32m━━━━━━━━━━━━━━━━━━━━\u001b[0m\u001b[37m\u001b[0m \u001b[1m50s\u001b[0m 166ms/step - loss: 1.8744e-04 - mean_squared_error: 1.8744e-04 - root_mean_squared_error: 0.0137 - val_loss: 3.5210e-04 - val_mean_squared_error: 3.5634e-04 - val_root_mean_squared_error: 0.0189\n",
      "Epoch 27/80\n",
      "\u001b[1m301/301\u001b[0m \u001b[32m━━━━━━━━━━━━━━━━━━━━\u001b[0m\u001b[37m\u001b[0m \u001b[1m49s\u001b[0m 163ms/step - loss: 1.8642e-04 - mean_squared_error: 1.8642e-04 - root_mean_squared_error: 0.0136 - val_loss: 3.4977e-04 - val_mean_squared_error: 3.5403e-04 - val_root_mean_squared_error: 0.0188\n",
      "Epoch 28/80\n",
      "\u001b[1m301/301\u001b[0m \u001b[32m━━━━━━━━━━━━━━━━━━━━\u001b[0m\u001b[37m\u001b[0m \u001b[1m46s\u001b[0m 154ms/step - loss: 1.8570e-04 - mean_squared_error: 1.8570e-04 - root_mean_squared_error: 0.0136 - val_loss: 3.4980e-04 - val_mean_squared_error: 3.5411e-04 - val_root_mean_squared_error: 0.0188\n",
      "Epoch 29/80\n",
      "\u001b[1m301/301\u001b[0m \u001b[32m━━━━━━━━━━━━━━━━━━━━\u001b[0m\u001b[37m\u001b[0m \u001b[1m42s\u001b[0m 140ms/step - loss: 1.8564e-04 - mean_squared_error: 1.8564e-04 - root_mean_squared_error: 0.0136 - val_loss: 3.5249e-04 - val_mean_squared_error: 3.5688e-04 - val_root_mean_squared_error: 0.0189\n",
      "Epoch 30/80\n",
      "\u001b[1m301/301\u001b[0m \u001b[32m━━━━━━━━━━━━━━━━━━━━\u001b[0m\u001b[37m\u001b[0m \u001b[1m78s\u001b[0m 127ms/step - loss: 1.8696e-04 - mean_squared_error: 1.8696e-04 - root_mean_squared_error: 0.0137 - val_loss: 3.5680e-04 - val_mean_squared_error: 3.6126e-04 - val_root_mean_squared_error: 0.0190\n",
      "Epoch 31/80\n",
      "\u001b[1m301/301\u001b[0m \u001b[32m━━━━━━━━━━━━━━━━━━━━\u001b[0m\u001b[37m\u001b[0m \u001b[1m43s\u001b[0m 143ms/step - loss: 1.9167e-04 - mean_squared_error: 1.9167e-04 - root_mean_squared_error: 0.0138 - val_loss: 3.5631e-04 - val_mean_squared_error: 3.6077e-04 - val_root_mean_squared_error: 0.0190\n",
      "Epoch 32/80\n",
      "\u001b[1m301/301\u001b[0m \u001b[32m━━━━━━━━━━━━━━━━━━━━\u001b[0m\u001b[37m\u001b[0m \u001b[1m44s\u001b[0m 145ms/step - loss: 1.9406e-04 - mean_squared_error: 1.9407e-04 - root_mean_squared_error: 0.0139 - val_loss: 3.4752e-04 - val_mean_squared_error: 3.5189e-04 - val_root_mean_squared_error: 0.0188\n",
      "Epoch 33/80\n",
      "\u001b[1m301/301\u001b[0m \u001b[32m━━━━━━━━━━━━━━━━━━━━\u001b[0m\u001b[37m\u001b[0m \u001b[1m42s\u001b[0m 140ms/step - loss: 1.8584e-04 - mean_squared_error: 1.8584e-04 - root_mean_squared_error: 0.0136 - val_loss: 3.4622e-04 - val_mean_squared_error: 3.5058e-04 - val_root_mean_squared_error: 0.0187\n",
      "Epoch 34/80\n",
      "\u001b[1m301/301\u001b[0m \u001b[32m━━━━━━━━━━━━━━━━━━━━\u001b[0m\u001b[37m\u001b[0m \u001b[1m80s\u001b[0m 134ms/step - loss: 1.8350e-04 - mean_squared_error: 1.8350e-04 - root_mean_squared_error: 0.0135 - val_loss: 3.4634e-04 - val_mean_squared_error: 3.5071e-04 - val_root_mean_squared_error: 0.0187\n",
      "Epoch 35/80\n",
      "\u001b[1m301/301\u001b[0m \u001b[32m━━━━━━━━━━━━━━━━━━━━\u001b[0m\u001b[37m\u001b[0m \u001b[1m41s\u001b[0m 135ms/step - loss: 1.8188e-04 - mean_squared_error: 1.8188e-04 - root_mean_squared_error: 0.0135 - val_loss: 3.4664e-04 - val_mean_squared_error: 3.5101e-04 - val_root_mean_squared_error: 0.0187\n",
      "Epoch 36/80\n",
      "\u001b[1m301/301\u001b[0m \u001b[32m━━━━━━━━━━━━━━━━━━━━\u001b[0m\u001b[37m\u001b[0m \u001b[1m40s\u001b[0m 132ms/step - loss: 1.8070e-04 - mean_squared_error: 1.8070e-04 - root_mean_squared_error: 0.0134 - val_loss: 3.4686e-04 - val_mean_squared_error: 3.5123e-04 - val_root_mean_squared_error: 0.0187\n",
      "Epoch 37/80\n",
      "\u001b[1m301/301\u001b[0m \u001b[32m━━━━━━━━━━━━━━━━━━━━\u001b[0m\u001b[37m\u001b[0m \u001b[1m39s\u001b[0m 130ms/step - loss: 1.7975e-04 - mean_squared_error: 1.7975e-04 - root_mean_squared_error: 0.0134 - val_loss: 3.4708e-04 - val_mean_squared_error: 3.5145e-04 - val_root_mean_squared_error: 0.0187\n",
      "Epoch 38/80\n",
      "\u001b[1m301/301\u001b[0m \u001b[32m━━━━━━━━━━━━━━━━━━━━\u001b[0m\u001b[37m\u001b[0m \u001b[1m42s\u001b[0m 134ms/step - loss: 1.7902e-04 - mean_squared_error: 1.7902e-04 - root_mean_squared_error: 0.0134 - val_loss: 3.4762e-04 - val_mean_squared_error: 3.5199e-04 - val_root_mean_squared_error: 0.0188\n",
      "Epoch 39/80\n",
      "\u001b[1m301/301\u001b[0m \u001b[32m━━━━━━━━━━━━━━━━━━━━\u001b[0m\u001b[37m\u001b[0m \u001b[1m40s\u001b[0m 133ms/step - loss: 1.7862e-04 - mean_squared_error: 1.7862e-04 - root_mean_squared_error: 0.0134 - val_loss: 3.4850e-04 - val_mean_squared_error: 3.5288e-04 - val_root_mean_squared_error: 0.0188\n",
      "Epoch 40/80\n",
      "\u001b[1m301/301\u001b[0m \u001b[32m━━━━━━━━━━━━━━━━━━━━\u001b[0m\u001b[37m\u001b[0m \u001b[1m40s\u001b[0m 128ms/step - loss: 1.7856e-04 - mean_squared_error: 1.7856e-04 - root_mean_squared_error: 0.0133 - val_loss: 3.4902e-04 - val_mean_squared_error: 3.5341e-04 - val_root_mean_squared_error: 0.0188\n",
      "Epoch 41/80\n",
      "\u001b[1m301/301\u001b[0m \u001b[32m━━━━━━━━━━━━━━━━━━━━\u001b[0m\u001b[37m\u001b[0m \u001b[1m40s\u001b[0m 134ms/step - loss: 1.7856e-04 - mean_squared_error: 1.7857e-04 - root_mean_squared_error: 0.0134 - val_loss: 3.4840e-04 - val_mean_squared_error: 3.5277e-04 - val_root_mean_squared_error: 0.0188\n",
      "Epoch 42/80\n",
      "\u001b[1m301/301\u001b[0m \u001b[32m━━━━━━━━━━━━━━━━━━━━\u001b[0m\u001b[37m\u001b[0m \u001b[1m43s\u001b[0m 144ms/step - loss: 1.7800e-04 - mean_squared_error: 1.7800e-04 - root_mean_squared_error: 0.0133 - val_loss: 3.4669e-04 - val_mean_squared_error: 3.5103e-04 - val_root_mean_squared_error: 0.0187\n",
      "Epoch 43/80\n",
      "\u001b[1m301/301\u001b[0m \u001b[32m━━━━━━━━━━━━━━━━━━━━\u001b[0m\u001b[37m\u001b[0m \u001b[1m40s\u001b[0m 132ms/step - loss: 1.7699e-04 - mean_squared_error: 1.7699e-04 - root_mean_squared_error: 0.0133 - val_loss: 3.4417e-04 - val_mean_squared_error: 3.4845e-04 - val_root_mean_squared_error: 0.0187\n",
      "Epoch 44/80\n",
      "\u001b[1m301/301\u001b[0m \u001b[32m━━━━━━━━━━━━━━━━━━━━\u001b[0m\u001b[37m\u001b[0m \u001b[1m43s\u001b[0m 143ms/step - loss: 1.7575e-04 - mean_squared_error: 1.7575e-04 - root_mean_squared_error: 0.0132 - val_loss: 3.4359e-04 - val_mean_squared_error: 3.4782e-04 - val_root_mean_squared_error: 0.0186\n",
      "Epoch 45/80\n",
      "\u001b[1m301/301\u001b[0m \u001b[32m━━━━━━━━━━━━━━━━━━━━\u001b[0m\u001b[37m\u001b[0m \u001b[1m41s\u001b[0m 137ms/step - loss: 1.7440e-04 - mean_squared_error: 1.7440e-04 - root_mean_squared_error: 0.0132 - val_loss: 3.4368e-04 - val_mean_squared_error: 3.4789e-04 - val_root_mean_squared_error: 0.0187\n",
      "Epoch 46/80\n",
      "\u001b[1m301/301\u001b[0m \u001b[32m━━━━━━━━━━━━━━━━━━━━\u001b[0m\u001b[37m\u001b[0m \u001b[1m39s\u001b[0m 129ms/step - loss: 1.7382e-04 - mean_squared_error: 1.7382e-04 - root_mean_squared_error: 0.0132 - val_loss: 3.4371e-04 - val_mean_squared_error: 3.4792e-04 - val_root_mean_squared_error: 0.0187\n",
      "Epoch 47/80\n",
      "\u001b[1m301/301\u001b[0m \u001b[32m━━━━━━━━━━━━━━━━━━━━\u001b[0m\u001b[37m\u001b[0m \u001b[1m38s\u001b[0m 125ms/step - loss: 1.7352e-04 - mean_squared_error: 1.7352e-04 - root_mean_squared_error: 0.0132 - val_loss: 3.4369e-04 - val_mean_squared_error: 3.4789e-04 - val_root_mean_squared_error: 0.0187\n",
      "Epoch 48/80\n",
      "\u001b[1m301/301\u001b[0m \u001b[32m━━━━━━━━━━━━━━━━━━━━\u001b[0m\u001b[37m\u001b[0m \u001b[1m40s\u001b[0m 133ms/step - loss: 1.7326e-04 - mean_squared_error: 1.7327e-04 - root_mean_squared_error: 0.0132 - val_loss: 3.4359e-04 - val_mean_squared_error: 3.4778e-04 - val_root_mean_squared_error: 0.0186\n",
      "Epoch 49/80\n",
      "\u001b[1m301/301\u001b[0m \u001b[32m━━━━━━━━━━━━━━━━━━━━\u001b[0m\u001b[37m\u001b[0m \u001b[1m47s\u001b[0m 155ms/step - loss: 1.7304e-04 - mean_squared_error: 1.7304e-04 - root_mean_squared_error: 0.0131 - val_loss: 3.4338e-04 - val_mean_squared_error: 3.4756e-04 - val_root_mean_squared_error: 0.0186\n",
      "Epoch 50/80\n",
      "\u001b[1m301/301\u001b[0m \u001b[32m━━━━━━━━━━━━━━━━━━━━\u001b[0m\u001b[37m\u001b[0m \u001b[1m46s\u001b[0m 153ms/step - loss: 1.7284e-04 - mean_squared_error: 1.7284e-04 - root_mean_squared_error: 0.0131 - val_loss: 3.4309e-04 - val_mean_squared_error: 3.4726e-04 - val_root_mean_squared_error: 0.0186\n",
      "Epoch 51/80\n",
      "\u001b[1m301/301\u001b[0m \u001b[32m━━━━━━━━━━━━━━━━━━━━\u001b[0m\u001b[37m\u001b[0m \u001b[1m47s\u001b[0m 155ms/step - loss: 1.7266e-04 - mean_squared_error: 1.7266e-04 - root_mean_squared_error: 0.0131 - val_loss: 3.4277e-04 - val_mean_squared_error: 3.4694e-04 - val_root_mean_squared_error: 0.0186\n",
      "Epoch 52/80\n",
      "\u001b[1m301/301\u001b[0m \u001b[32m━━━━━━━━━━━━━━━━━━━━\u001b[0m\u001b[37m\u001b[0m \u001b[1m44s\u001b[0m 146ms/step - loss: 1.7254e-04 - mean_squared_error: 1.7255e-04 - root_mean_squared_error: 0.0131 - val_loss: 3.4248e-04 - val_mean_squared_error: 3.4664e-04 - val_root_mean_squared_error: 0.0186\n",
      "Epoch 53/80\n",
      "\u001b[1m301/301\u001b[0m \u001b[32m━━━━━━━━━━━━━━━━━━━━\u001b[0m\u001b[37m\u001b[0m \u001b[1m39s\u001b[0m 130ms/step - loss: 1.7251e-04 - mean_squared_error: 1.7252e-04 - root_mean_squared_error: 0.0131 - val_loss: 3.4220e-04 - val_mean_squared_error: 3.4637e-04 - val_root_mean_squared_error: 0.0186\n",
      "Epoch 54/80\n",
      "\u001b[1m301/301\u001b[0m \u001b[32m━━━━━━━━━━━━━━━━━━━━\u001b[0m\u001b[37m\u001b[0m \u001b[1m39s\u001b[0m 131ms/step - loss: 1.7252e-04 - mean_squared_error: 1.7252e-04 - root_mean_squared_error: 0.0131 - val_loss: 3.4194e-04 - val_mean_squared_error: 3.4610e-04 - val_root_mean_squared_error: 0.0186\n",
      "Epoch 55/80\n",
      "\u001b[1m301/301\u001b[0m \u001b[32m━━━━━━━━━━━━━━━━━━━━\u001b[0m\u001b[37m\u001b[0m \u001b[1m41s\u001b[0m 132ms/step - loss: 1.7238e-04 - mean_squared_error: 1.7239e-04 - root_mean_squared_error: 0.0131 - val_loss: 3.4168e-04 - val_mean_squared_error: 3.4584e-04 - val_root_mean_squared_error: 0.0186\n",
      "Epoch 56/80\n",
      "\u001b[1m301/301\u001b[0m \u001b[32m━━━━━━━━━━━━━━━━━━━━\u001b[0m\u001b[37m\u001b[0m \u001b[1m41s\u001b[0m 136ms/step - loss: 1.7211e-04 - mean_squared_error: 1.7211e-04 - root_mean_squared_error: 0.0131 - val_loss: 3.4141e-04 - val_mean_squared_error: 3.4558e-04 - val_root_mean_squared_error: 0.0186\n",
      "Epoch 57/80\n",
      "\u001b[1m301/301\u001b[0m \u001b[32m━━━━━━━━━━━━━━━━━━━━\u001b[0m\u001b[37m\u001b[0m \u001b[1m38s\u001b[0m 126ms/step - loss: 1.7182e-04 - mean_squared_error: 1.7182e-04 - root_mean_squared_error: 0.0131 - val_loss: 3.4116e-04 - val_mean_squared_error: 3.4534e-04 - val_root_mean_squared_error: 0.0186\n",
      "Epoch 58/80\n",
      "\u001b[1m301/301\u001b[0m \u001b[32m━━━━━━━━━━━━━━━━━━━━\u001b[0m\u001b[37m\u001b[0m \u001b[1m37s\u001b[0m 124ms/step - loss: 1.7155e-04 - mean_squared_error: 1.7156e-04 - root_mean_squared_error: 0.0131 - val_loss: 3.4094e-04 - val_mean_squared_error: 3.4512e-04 - val_root_mean_squared_error: 0.0186\n",
      "Epoch 59/80\n",
      "\u001b[1m301/301\u001b[0m \u001b[32m━━━━━━━━━━━━━━━━━━━━\u001b[0m\u001b[37m\u001b[0m \u001b[1m41s\u001b[0m 136ms/step - loss: 1.7131e-04 - mean_squared_error: 1.7131e-04 - root_mean_squared_error: 0.0131 - val_loss: 3.4075e-04 - val_mean_squared_error: 3.4493e-04 - val_root_mean_squared_error: 0.0186\n",
      "Epoch 60/80\n",
      "\u001b[1m301/301\u001b[0m \u001b[32m━━━━━━━━━━━━━━━━━━━━\u001b[0m\u001b[37m\u001b[0m \u001b[1m83s\u001b[0m 140ms/step - loss: 1.7108e-04 - mean_squared_error: 1.7108e-04 - root_mean_squared_error: 0.0131 - val_loss: 3.4060e-04 - val_mean_squared_error: 3.4479e-04 - val_root_mean_squared_error: 0.0186\n",
      "Epoch 61/80\n",
      "\u001b[1m301/301\u001b[0m \u001b[32m━━━━━━━━━━━━━━━━━━━━\u001b[0m\u001b[37m\u001b[0m \u001b[1m43s\u001b[0m 144ms/step - loss: 1.7085e-04 - mean_squared_error: 1.7085e-04 - root_mean_squared_error: 0.0131 - val_loss: 3.4049e-04 - val_mean_squared_error: 3.4468e-04 - val_root_mean_squared_error: 0.0186\n",
      "Epoch 62/80\n",
      "\u001b[1m301/301\u001b[0m \u001b[32m━━━━━━━━━━━━━━━━━━━━\u001b[0m\u001b[37m\u001b[0m \u001b[1m42s\u001b[0m 140ms/step - loss: 1.7062e-04 - mean_squared_error: 1.7062e-04 - root_mean_squared_error: 0.0131 - val_loss: 3.4042e-04 - val_mean_squared_error: 3.4462e-04 - val_root_mean_squared_error: 0.0186\n",
      "Epoch 63/80\n",
      "\u001b[1m301/301\u001b[0m \u001b[32m━━━━━━━━━━━━━━━━━━━━\u001b[0m\u001b[37m\u001b[0m \u001b[1m42s\u001b[0m 140ms/step - loss: 1.7038e-04 - mean_squared_error: 1.7039e-04 - root_mean_squared_error: 0.0130 - val_loss: 3.4040e-04 - val_mean_squared_error: 3.4461e-04 - val_root_mean_squared_error: 0.0186\n",
      "Epoch 64/80\n",
      "\u001b[1m301/301\u001b[0m \u001b[32m━━━━━━━━━━━━━━━━━━━━\u001b[0m\u001b[37m\u001b[0m \u001b[1m46s\u001b[0m 153ms/step - loss: 1.7014e-04 - mean_squared_error: 1.7014e-04 - root_mean_squared_error: 0.0130 - val_loss: 3.4042e-04 - val_mean_squared_error: 3.4464e-04 - val_root_mean_squared_error: 0.0186\n",
      "Epoch 65/80\n",
      "\u001b[1m301/301\u001b[0m \u001b[32m━━━━━━━━━━━━━━━━━━━━\u001b[0m\u001b[37m\u001b[0m \u001b[1m78s\u001b[0m 139ms/step - loss: 1.6989e-04 - mean_squared_error: 1.6990e-04 - root_mean_squared_error: 0.0130 - val_loss: 3.4047e-04 - val_mean_squared_error: 3.4470e-04 - val_root_mean_squared_error: 0.0186\n",
      "Epoch 66/80\n",
      "\u001b[1m301/301\u001b[0m \u001b[32m━━━━━━━━━━━━━━━━━━━━\u001b[0m\u001b[37m\u001b[0m \u001b[1m39s\u001b[0m 128ms/step - loss: 1.6965e-04 - mean_squared_error: 1.6965e-04 - root_mean_squared_error: 0.0130 - val_loss: 3.4056e-04 - val_mean_squared_error: 3.4480e-04 - val_root_mean_squared_error: 0.0186\n",
      "Epoch 67/80\n",
      "\u001b[1m301/301\u001b[0m \u001b[32m━━━━━━━━━━━━━━━━━━━━\u001b[0m\u001b[37m\u001b[0m \u001b[1m39s\u001b[0m 131ms/step - loss: 1.6940e-04 - mean_squared_error: 1.6941e-04 - root_mean_squared_error: 0.0130 - val_loss: 3.4070e-04 - val_mean_squared_error: 3.4494e-04 - val_root_mean_squared_error: 0.0186\n",
      "Epoch 68/80\n",
      "\u001b[1m301/301\u001b[0m \u001b[32m━━━━━━━━━━━━━━━━━━━━\u001b[0m\u001b[37m\u001b[0m \u001b[1m38s\u001b[0m 127ms/step - loss: 1.6916e-04 - mean_squared_error: 1.6916e-04 - root_mean_squared_error: 0.0130 - val_loss: 3.4090e-04 - val_mean_squared_error: 3.4515e-04 - val_root_mean_squared_error: 0.0186\n",
      "Epoch 69/80\n",
      "\u001b[1m301/301\u001b[0m \u001b[32m━━━━━━━━━━━━━━━━━━━━\u001b[0m\u001b[37m\u001b[0m \u001b[1m42s\u001b[0m 129ms/step - loss: 1.6892e-04 - mean_squared_error: 1.6892e-04 - root_mean_squared_error: 0.0130 - val_loss: 3.4116e-04 - val_mean_squared_error: 3.4542e-04 - val_root_mean_squared_error: 0.0186\n",
      "Epoch 70/80\n",
      "\u001b[1m301/301\u001b[0m \u001b[32m━━━━━━━━━━━━━━━━━━━━\u001b[0m\u001b[37m\u001b[0m \u001b[1m40s\u001b[0m 132ms/step - loss: 1.6865e-04 - mean_squared_error: 1.6865e-04 - root_mean_squared_error: 0.0130 - val_loss: 3.4149e-04 - val_mean_squared_error: 3.4576e-04 - val_root_mean_squared_error: 0.0186\n",
      "Epoch 71/80\n",
      "\u001b[1m301/301\u001b[0m \u001b[32m━━━━━━━━━━━━━━━━━━━━\u001b[0m\u001b[37m\u001b[0m \u001b[1m42s\u001b[0m 140ms/step - loss: 1.6835e-04 - mean_squared_error: 1.6835e-04 - root_mean_squared_error: 0.0130 - val_loss: 3.4189e-04 - val_mean_squared_error: 3.4617e-04 - val_root_mean_squared_error: 0.0186\n",
      "Epoch 72/80\n",
      "\u001b[1m301/301\u001b[0m \u001b[32m━━━━━━━━━━━━━━━━━━━━\u001b[0m\u001b[37m\u001b[0m \u001b[1m38s\u001b[0m 125ms/step - loss: 1.6803e-04 - mean_squared_error: 1.6803e-04 - root_mean_squared_error: 0.0130 - val_loss: 3.4238e-04 - val_mean_squared_error: 3.4667e-04 - val_root_mean_squared_error: 0.0186\n",
      "Epoch 73/80\n",
      "\u001b[1m301/301\u001b[0m \u001b[32m━━━━━━━━━━━━━━━━━━━━\u001b[0m\u001b[37m\u001b[0m \u001b[1m40s\u001b[0m 132ms/step - loss: 1.6767e-04 - mean_squared_error: 1.6767e-04 - root_mean_squared_error: 0.0129 - val_loss: 3.4297e-04 - val_mean_squared_error: 3.4726e-04 - val_root_mean_squared_error: 0.0186\n",
      "Epoch 74/80\n",
      "\u001b[1m301/301\u001b[0m \u001b[32m━━━━━━━━━━━━━━━━━━━━\u001b[0m\u001b[37m\u001b[0m \u001b[1m43s\u001b[0m 144ms/step - loss: 1.6728e-04 - mean_squared_error: 1.6728e-04 - root_mean_squared_error: 0.0129 - val_loss: 3.4363e-04 - val_mean_squared_error: 3.4794e-04 - val_root_mean_squared_error: 0.0187\n",
      "Epoch 75/80\n",
      "\u001b[1m301/301\u001b[0m \u001b[32m━━━━━━━━━━━━━━━━━━━━\u001b[0m\u001b[37m\u001b[0m \u001b[1m40s\u001b[0m 134ms/step - loss: 1.6688e-04 - mean_squared_error: 1.6689e-04 - root_mean_squared_error: 0.0129 - val_loss: 3.4438e-04 - val_mean_squared_error: 3.4870e-04 - val_root_mean_squared_error: 0.0187\n",
      "Epoch 76/80\n",
      "\u001b[1m301/301\u001b[0m \u001b[32m━━━━━━━━━━━━━━━━━━━━\u001b[0m\u001b[37m\u001b[0m \u001b[1m37s\u001b[0m 122ms/step - loss: 1.6651e-04 - mean_squared_error: 1.6651e-04 - root_mean_squared_error: 0.0129 - val_loss: 3.4517e-04 - val_mean_squared_error: 3.4950e-04 - val_root_mean_squared_error: 0.0187\n",
      "Epoch 77/80\n",
      "\u001b[1m301/301\u001b[0m \u001b[32m━━━━━━━━━━━━━━━━━━━━\u001b[0m\u001b[37m\u001b[0m \u001b[1m45s\u001b[0m 134ms/step - loss: 1.6615e-04 - mean_squared_error: 1.6615e-04 - root_mean_squared_error: 0.0129 - val_loss: 3.4597e-04 - val_mean_squared_error: 3.5031e-04 - val_root_mean_squared_error: 0.0187\n",
      "Epoch 78/80\n",
      "\u001b[1m301/301\u001b[0m \u001b[32m━━━━━━━━━━━━━━━━━━━━\u001b[0m\u001b[37m\u001b[0m \u001b[1m41s\u001b[0m 135ms/step - loss: 1.6578e-04 - mean_squared_error: 1.6578e-04 - root_mean_squared_error: 0.0129 - val_loss: 3.4677e-04 - val_mean_squared_error: 3.5113e-04 - val_root_mean_squared_error: 0.0187\n",
      "Epoch 79/80\n",
      "\u001b[1m301/301\u001b[0m \u001b[32m━━━━━━━━━━━━━━━━━━━━\u001b[0m\u001b[37m\u001b[0m \u001b[1m43s\u001b[0m 144ms/step - loss: 1.6540e-04 - mean_squared_error: 1.6540e-04 - root_mean_squared_error: 0.0129 - val_loss: 3.4759e-04 - val_mean_squared_error: 3.5196e-04 - val_root_mean_squared_error: 0.0188\n",
      "Epoch 80/80\n",
      "\u001b[1m301/301\u001b[0m \u001b[32m━━━━━━━━━━━━━━━━━━━━\u001b[0m\u001b[37m\u001b[0m \u001b[1m40s\u001b[0m 132ms/step - loss: 1.6502e-04 - mean_squared_error: 1.6502e-04 - root_mean_squared_error: 0.0128 - val_loss: 3.4843e-04 - val_mean_squared_error: 3.5281e-04 - val_root_mean_squared_error: 0.0188\n"
     ]
    }
   ],
   "source": [
    "# train the lstm!\n",
    "history = regressor.fit(x = trainds, y = traintargetds, validation_split=0.2, epochs=80, batch_size = 2000, shuffle=True)"
   ]
  },
  {
   "cell_type": "code",
   "execution_count": 53,
   "id": "0ca0fb04-1f4a-440b-a2d0-16311be86820",
   "metadata": {},
   "outputs": [
    {
     "data": {
      "image/png": "[encoded data removed]",
      "text/plain": [
       "<Figure size 640x480 with 1 Axes>"
      ]
     },
     "metadata": {},
     "output_type": "display_data"
    }
   ],
   "source": [
    "plt.plot(history.history[\"mean_squared_error\"], c='k', label='training')\n",
    "plt.plot(history.history[\"val_mean_squared_error\"], c='r', label='validation')\n",
    "plt.legend(['training', 'validation'])\n",
    "plt.show()"
   ]
  },
  {
   "cell_type": "code",
   "execution_count": 54,
   "id": "04a2d03e-e7fa-4aea-9c32-9bbd22f71aea",
   "metadata": {},
   "outputs": [
    {
     "data": {
      "text/plain": [
       "(750073, 1)"
      ]
     },
     "execution_count": 54,
     "metadata": {},
     "output_type": "execute_result"
    }
   ],
   "source": [
    "traintargetds.shape"
   ]
  },
  {
   "cell_type": "code",
   "execution_count": 55,
   "id": "95465197-d170-49f8-9fa4-65307abd52a0",
   "metadata": {},
   "outputs": [
    {
     "data": {
      "text/plain": [
       "(245000, 1)"
      ]
     },
     "execution_count": 55,
     "metadata": {},
     "output_type": "execute_result"
    }
   ],
   "source": [
    "testtargetds.shape"
   ]
  },
  {
   "cell_type": "code",
   "execution_count": 56,
   "id": "f301d265-ed15-442f-a428-2d2b6017bd0c",
   "metadata": {},
   "outputs": [
    {
     "data": {
      "text/plain": [
       "(750073, 4, 5)"
      ]
     },
     "execution_count": 56,
     "metadata": {},
     "output_type": "execute_result"
    }
   ],
   "source": [
    "trainds.shape"
   ]
  },
  {
   "cell_type": "code",
   "execution_count": 57,
   "id": "c6d44436-9279-4ea9-bb06-432f4eef8d81",
   "metadata": {},
   "outputs": [
    {
     "data": {
      "text/plain": [
       "(245000, 4, 5)"
      ]
     },
     "execution_count": 57,
     "metadata": {},
     "output_type": "execute_result"
    }
   ],
   "source": [
    "testds.shape"
   ]
  },
  {
   "cell_type": "code",
   "execution_count": 58,
   "id": "2a413595-b0ee-4be2-8189-e0dc9b18907b",
   "metadata": {},
   "outputs": [
    {
     "data": {
      "text/plain": [
       "array([[0.03      , 0.00723333, 0.57      , 0.88774597, 0.        ],\n",
       "       [0.03      , 0.00723333, 0.57      , 0.88774597, 0.        ],\n",
       "       [0.03      , 0.00763333, 0.58      , 0.88774597, 0.        ],\n",
       "       [0.03      , 0.00763333, 0.58      , 0.88774597, 0.        ]])"
      ]
     },
     "execution_count": 58,
     "metadata": {},
     "output_type": "execute_result"
    }
   ],
   "source": [
    "testds[0]"
   ]
  },
  {
   "cell_type": "code",
   "execution_count": 59,
   "id": "4e0bb588-0649-44f8-a72b-f05475fbc3ec",
   "metadata": {},
   "outputs": [
    {
     "data": {
      "text/plain": [
       "array([[0.14      , 0.03163333, 0.97      , 0.88774597, 0.        ],\n",
       "       [0.14      , 0.03163333, 0.97      , 0.88774597, 0.        ],\n",
       "       [0.14      , 0.03163333, 0.97      , 0.88774597, 0.        ],\n",
       "       [0.14      , 0.03163333, 0.97      , 0.88774597, 0.        ]])"
      ]
     },
     "execution_count": 59,
     "metadata": {},
     "output_type": "execute_result"
    }
   ],
   "source": [
    "trainds[0]"
   ]
  },
  {
   "cell_type": "code",
   "execution_count": 60,
   "id": "42aa400b-4d12-4391-8dd3-a4d0547e7779",
   "metadata": {},
   "outputs": [
    {
     "name": "stdout",
     "output_type": "stream",
     "text": [
      "\u001b[1m7657/7657\u001b[0m \u001b[32m━━━━━━━━━━━━━━━━━━━━\u001b[0m\u001b[37m\u001b[0m \u001b[1m17s\u001b[0m 2ms/step\n"
     ]
    }
   ],
   "source": [
    "# predict using test data\n",
    "oni_predictions = regressor.predict(testds)"
   ]
  },
  {
   "cell_type": "code",
   "execution_count": 61,
   "id": "bb09565f-41ca-4391-b20a-df5fe3dd8822",
   "metadata": {},
   "outputs": [
    {
     "data": {
      "text/plain": [
       "(245000, 1)"
      ]
     },
     "execution_count": 61,
     "metadata": {},
     "output_type": "execute_result"
    }
   ],
   "source": [
    "oni_predictions.shape"
   ]
  },
  {
   "cell_type": "code",
   "execution_count": 62,
   "id": "85d10107-5873-47c9-96e2-c8d21a4913ac",
   "metadata": {},
   "outputs": [
    {
     "name": "stdout",
     "output_type": "stream",
     "text": [
      "(245000, 1) (245000, 1)\n"
     ]
    }
   ],
   "source": [
    "# quick check that we have a match of shapes\n",
    "print(oni_predictions.shape, testtargetds.shape)"
   ]
  },
  {
   "cell_type": "code",
   "execution_count": 63,
   "id": "7bb3f58c-a074-4941-b29e-0fd64cbd1786",
   "metadata": {},
   "outputs": [
    {
     "data": {
      "image/png": "[encoded data removed]",
      "text/plain": [
       "<Figure size 640x480 with 1 Axes>"
      ]
     },
     "metadata": {},
     "output_type": "display_data"
    }
   ],
   "source": [
    "# how did we do!?\n",
    "plt.scatter(\n",
    "    testtargetds,\n",
    "    oni_predictions\n",
    "    )\n",
    "plt.xlim([0,5])\n",
    "plt.ylim([0,5])\n",
    "plt.show()"
   ]
  },
  {
   "cell_type": "code",
   "execution_count": 64,
   "id": "db24d34f-56c1-4f50-9fe9-6537822b81d8",
   "metadata": {},
   "outputs": [],
   "source": [
    "samevaltest = []\n",
    "for m in range(len(testds)):\n",
    " samevaltest.append(testds[m][3][2])"
   ]
  },
  {
   "cell_type": "code",
   "execution_count": 65,
   "id": "47ff237a-74db-4a2b-bac7-624750e04302",
   "metadata": {},
   "outputs": [
    {
     "data": {
      "text/plain": [
       "[0.58,\n",
       " 0.57,\n",
       " 0.56,\n",
       " 0.57,\n",
       " 0.56,\n",
       " 0.56,\n",
       " 0.56,\n",
       " 0.56,\n",
       " 0.56,\n",
       " 0.56,\n",
       " 0.56,\n",
       " 0.55,\n",
       " 0.56,\n",
       " 0.54,\n",
       " 0.55,\n",
       " 0.56,\n",
       " 0.55,\n",
       " 0.55,\n",
       " 0.55,\n",
       " 0.55]"
      ]
     },
     "execution_count": 65,
     "metadata": {},
     "output_type": "execute_result"
    }
   ],
   "source": [
    "samevaltest[0:20]"
   ]
  },
  {
   "cell_type": "code",
   "execution_count": 66,
   "id": "4ce7aa63-7b8e-4ca5-a19e-176510c5ec00",
   "metadata": {},
   "outputs": [
    {
     "data": {
      "image/png": "[encoded data removed]",
      "text/plain": [
       "<Figure size 640x480 with 1 Axes>"
      ]
     },
     "metadata": {},
     "output_type": "display_data"
    }
   ],
   "source": [
    "# how did we do!?\n",
    "plt.scatter(\n",
    "    testtargetds,\n",
    "    samevaltest\n",
    "    )\n",
    "plt.xlim([0,5])\n",
    "plt.ylim([0,5])\n",
    "plt.show()"
   ]
  },
  {
   "cell_type": "code",
   "execution_count": 67,
   "id": "18ea106a-c125-46db-bc4c-890fef3989a2",
   "metadata": {},
   "outputs": [],
   "source": [
    "from sklearn.metrics import mean_squared_error"
   ]
  },
  {
   "cell_type": "code",
   "execution_count": 68,
   "id": "190cb4d7-91c7-4714-a504-63544b668003",
   "metadata": {},
   "outputs": [
    {
     "data": {
      "text/plain": [
       "0.0002962616326530613"
      ]
     },
     "execution_count": 68,
     "metadata": {},
     "output_type": "execute_result"
    }
   ],
   "source": [
    "mean_squared_error(testtargetds, samevaltest)"
   ]
  },
  {
   "cell_type": "code",
   "execution_count": 69,
   "id": "0a191ec8-0cbd-4e64-80af-aa8985412e6b",
   "metadata": {},
   "outputs": [
    {
     "data": {
      "text/plain": [
       "0.00022434674759908368"
      ]
     },
     "execution_count": 69,
     "metadata": {},
     "output_type": "execute_result"
    }
   ],
   "source": [
    "mean_squared_error(testtargetds, oni_predictions)"
   ]
  },
  {
   "cell_type": "code",
   "execution_count": 70,
   "id": "b6a773e1-4af4-4475-a177-423014980502",
   "metadata": {},
   "outputs": [],
   "source": [
    "# reading datasets\n",
    "dataset1 = pd.read_csv(\n",
    "    '01302020PowerPrecipitation2010-2023.csv',\n",
    "    delimiter=',')\n",
    "datasettwo1 = pd.read_csv(\n",
    "    '01302020Discharge2010-2023.csv',\n",
    "    delimiter=',')\n",
    "datasetthree1 = pd.read_csv(\n",
    "    '01302020GageHeight2010-2023.csv',\n",
    "    delimiter=',')"
   ]
  },
  {
   "cell_type": "code",
   "execution_count": 71,
   "id": "d88c113e-bf84-42bf-a108-7445d210db62",
   "metadata": {},
   "outputs": [],
   "source": [
    "# drop any nans\n",
    "dataset1 = dataset1.dropna(subset=[\"PRECTOTCORR\"])"
   ]
  },
  {
   "cell_type": "code",
   "execution_count": 72,
   "id": "332fe70f-f0d7-432b-a2ba-688112ac3dbc",
   "metadata": {},
   "outputs": [
    {
     "name": "stdout",
     "output_type": "stream",
     "text": [
      "122395\n"
     ]
    }
   ],
   "source": [
    "k = 0\n",
    "n = 0\n",
    "train = []\n",
    "target = []\n",
    "for x in dataset1[\"Time2\"]:\n",
    "  check = []\n",
    "  try:\n",
    "    check.append([dataset1[\"PRECTOTCORR\"][np.where(dataset1[\"Time2\"]==x)[0][0]], datasettwo1[\"106410_00060\"][np.where(datasettwo1[\"Time2\"]==x)[0][0]], datasetthree1[\"106409_00065\"][np.where(datasetthree1[\"Time2\"]==x)[0][0]]])\n",
    "    check.append([dataset1[\"PRECTOTCORR\"][np.where(dataset1[\"Time2\"]==x)[0][0]], datasettwo1[\"106410_00060\"][np.where(datasettwo1[\"Time2\"]==x+1)[0][0]], datasetthree1[\"106409_00065\"][np.where(datasetthree1[\"Time2\"]==x+1)[0][0]]])\n",
    "    check.append([dataset1[\"PRECTOTCORR\"][np.where(dataset1[\"Time2\"]==x)[0][0]], datasettwo1[\"106410_00060\"][np.where(datasettwo1[\"Time2\"]==x+2)[0][0]], datasetthree1[\"106409_00065\"][np.where(datasetthree1[\"Time2\"]==x+2)[0][0]]])\n",
    "    check.append([dataset1[\"PRECTOTCORR\"][np.where(dataset1[\"Time2\"]==x)[0][0]], datasettwo1[\"106410_00060\"][np.where(datasettwo1[\"Time2\"]==x+3)[0][0]], datasetthree1[\"106409_00065\"][np.where(datasetthree1[\"Time2\"]==x+3)[0][0]]])\n",
    "    check.append(datasetthree1[\"106409_00065\"][np.where(datasetthree1[\"Time2\"]==x+5)[0][0]])\n",
    "    train.append(check[0:4])\n",
    "    target.append(check[4])\n",
    "    k = k+1\n",
    "  except:\n",
    "    n = n+1\n",
    "print(k)"
   ]
  },
  {
   "cell_type": "code",
   "execution_count": 73,
   "id": "fe0453dc-7d4e-48af-aab4-e6e71ea97d0a",
   "metadata": {},
   "outputs": [],
   "source": [
    "for m in range(len(train)):\n",
    "  for n in range(4):\n",
    "    train[m][n][1] = (train[m][n][1])/3000"
   ]
  },
  {
   "cell_type": "code",
   "execution_count": 74,
   "id": "a4dc0e78-1652-45b9-a933-59c33e84faa7",
   "metadata": {},
   "outputs": [
    {
     "data": {
      "text/plain": [
       "[[[0.14, 0.03163333333333333, 0.97],\n",
       "  [0.14, 0.03163333333333333, 0.97],\n",
       "  [0.14, 0.03163333333333333, 0.97],\n",
       "  [0.14, 0.03163333333333333, 0.97]],\n",
       " [[0.28, 0.03163333333333333, 0.97],\n",
       "  [0.28, 0.03163333333333333, 0.97],\n",
       "  [0.28, 0.03163333333333333, 0.97],\n",
       "  [0.28, 0.03163333333333333, 0.97]],\n",
       " [[0.33, 0.03163333333333333, 0.97],\n",
       "  [0.33, 0.03163333333333333, 0.97],\n",
       "  [0.33, 0.03163333333333333, 0.97],\n",
       "  [0.33, 0.0308, 0.96]],\n",
       " [[0.28, 0.0308, 0.96],\n",
       "  [0.28, 0.0308, 0.96],\n",
       "  [0.28, 0.0308, 0.96],\n",
       "  [0.28, 0.0308, 0.96]],\n",
       " [[0.22, 0.0308, 0.96],\n",
       "  [0.22, 0.0308, 0.96],\n",
       "  [0.22, 0.0308, 0.96],\n",
       "  [0.22, 0.0308, 0.96]]]"
      ]
     },
     "execution_count": 74,
     "metadata": {},
     "output_type": "execute_result"
    }
   ],
   "source": [
    "train[0:5][:][:]"
   ]
  },
  {
   "cell_type": "code",
   "execution_count": 75,
   "id": "ff9ceae2-3540-469e-9452-55fa6c34be58",
   "metadata": {},
   "outputs": [],
   "source": [
    "trainds = train[0:math.ceil(0.75*len(train))]\n",
    "traintargetds = target[0:math.ceil(0.75*len(target))]\n",
    "testds = train[math.ceil(0.75*len(train)):]\n",
    "testtargetds = target[math.ceil(0.75*len(target)):]"
   ]
  },
  {
   "cell_type": "code",
   "execution_count": 76,
   "id": "8d336eb5-6f7e-4e5c-a981-2a2a48756bd8",
   "metadata": {},
   "outputs": [],
   "source": [
    "trainds = np.array(trainds)\n",
    "traintargetds = np.array(traintargetds).T\n",
    "testds = np.array(testds)\n",
    "testtargetds = np.array(testtargetds).T"
   ]
  },
  {
   "cell_type": "code",
   "execution_count": 77,
   "id": "e3337851-97a7-44b0-a214-803c710a0f4d",
   "metadata": {},
   "outputs": [],
   "source": [
    "# for help with data manipulation for time series rnn training; we can use the time series generator from keras\n",
    "\n",
    "# dummy input for understanding\n",
    "# data = np.array([[i] for i in range(50)])\n",
    "\n",
    "# here goes our training data\n",
    "data = trainds\n",
    "\n",
    "# the shape of your target is your prediction shape (e.g., here we make it 1)\n",
    "#target = data\n",
    "\n",
    "# the length of the input feature\n",
    "n_input=4 # you can change this! doesn't HAVE to be 4 months input\n",
    "n_features=data.shape[1]*data.shape[2]\n",
    "\n",
    "# this is the generator that will go into our rnn for training\n",
    "#data_gen = TimeseriesGenerator(data,\n",
    "#                               traintargetds,\n",
    "#                               length=n_input,\n",
    "#                               sampling_rate=1,\n",
    "#                               batch_size=1000, # you can try different batch sizes\n",
    "#                               shuffle=True)"
   ]
  },
  {
   "cell_type": "code",
   "execution_count": 78,
   "id": "18c3b221-f346-41f1-a68b-2cdcc03f0997",
   "metadata": {},
   "outputs": [
    {
     "data": {
      "text/html": [
       "<pre style=\"white-space:pre;overflow-x:auto;line-height:normal;font-family:Menlo,'DejaVu Sans Mono',consolas,'Courier New',monospace\"><span style=\"font-weight: bold\">Model: \"sequential_1\"</span>\n",
       "</pre>\n"
      ],
      "text/plain": [
       "\u001b[1mModel: \"sequential_1\"\u001b[0m\n"
      ]
     },
     "metadata": {},
     "output_type": "display_data"
    },
    {
     "data": {
      "text/html": [
       "<pre style=\"white-space:pre;overflow-x:auto;line-height:normal;font-family:Menlo,'DejaVu Sans Mono',consolas,'Courier New',monospace\">┏━━━━━━━━━━━━━━━━━━━━━━━━━━━━━━━━━┳━━━━━━━━━━━━━━━━━━━━━━━━┳━━━━━━━━━━━━━━━┓\n",
       "┃<span style=\"font-weight: bold\"> Layer (type)                    </span>┃<span style=\"font-weight: bold\"> Output Shape           </span>┃<span style=\"font-weight: bold\">       Param # </span>┃\n",
       "┡━━━━━━━━━━━━━━━━━━━━━━━━━━━━━━━━━╇━━━━━━━━━━━━━━━━━━━━━━━━╇━━━━━━━━━━━━━━━┩\n",
       "│ lstm_1 (<span style=\"color: #0087ff; text-decoration-color: #0087ff\">LSTM</span>)                   │ (<span style=\"color: #00d7ff; text-decoration-color: #00d7ff\">None</span>, <span style=\"color: #00af00; text-decoration-color: #00af00\">128</span>)            │        <span style=\"color: #00af00; text-decoration-color: #00af00\">67,584</span> │\n",
       "├─────────────────────────────────┼────────────────────────┼───────────────┤\n",
       "│ dense_3 (<span style=\"color: #0087ff; text-decoration-color: #0087ff\">Dense</span>)                 │ (<span style=\"color: #00d7ff; text-decoration-color: #00d7ff\">None</span>, <span style=\"color: #00af00; text-decoration-color: #00af00\">64</span>)             │         <span style=\"color: #00af00; text-decoration-color: #00af00\">8,256</span> │\n",
       "├─────────────────────────────────┼────────────────────────┼───────────────┤\n",
       "│ activation_3 (<span style=\"color: #0087ff; text-decoration-color: #0087ff\">Activation</span>)       │ (<span style=\"color: #00d7ff; text-decoration-color: #00d7ff\">None</span>, <span style=\"color: #00af00; text-decoration-color: #00af00\">64</span>)             │             <span style=\"color: #00af00; text-decoration-color: #00af00\">0</span> │\n",
       "├─────────────────────────────────┼────────────────────────┼───────────────┤\n",
       "│ dense_4 (<span style=\"color: #0087ff; text-decoration-color: #0087ff\">Dense</span>)                 │ (<span style=\"color: #00d7ff; text-decoration-color: #00d7ff\">None</span>, <span style=\"color: #00af00; text-decoration-color: #00af00\">8</span>)              │           <span style=\"color: #00af00; text-decoration-color: #00af00\">520</span> │\n",
       "├─────────────────────────────────┼────────────────────────┼───────────────┤\n",
       "│ activation_4 (<span style=\"color: #0087ff; text-decoration-color: #0087ff\">Activation</span>)       │ (<span style=\"color: #00d7ff; text-decoration-color: #00d7ff\">None</span>, <span style=\"color: #00af00; text-decoration-color: #00af00\">8</span>)              │             <span style=\"color: #00af00; text-decoration-color: #00af00\">0</span> │\n",
       "├─────────────────────────────────┼────────────────────────┼───────────────┤\n",
       "│ dense_5 (<span style=\"color: #0087ff; text-decoration-color: #0087ff\">Dense</span>)                 │ (<span style=\"color: #00d7ff; text-decoration-color: #00d7ff\">None</span>, <span style=\"color: #00af00; text-decoration-color: #00af00\">1</span>)              │             <span style=\"color: #00af00; text-decoration-color: #00af00\">9</span> │\n",
       "├─────────────────────────────────┼────────────────────────┼───────────────┤\n",
       "│ activation_5 (<span style=\"color: #0087ff; text-decoration-color: #0087ff\">Activation</span>)       │ (<span style=\"color: #00d7ff; text-decoration-color: #00d7ff\">None</span>, <span style=\"color: #00af00; text-decoration-color: #00af00\">1</span>)              │             <span style=\"color: #00af00; text-decoration-color: #00af00\">0</span> │\n",
       "└─────────────────────────────────┴────────────────────────┴───────────────┘\n",
       "</pre>\n"
      ],
      "text/plain": [
       "┏━━━━━━━━━━━━━━━━━━━━━━━━━━━━━━━━━┳━━━━━━━━━━━━━━━━━━━━━━━━┳━━━━━━━━━━━━━━━┓\n",
       "┃\u001b[1m \u001b[0m\u001b[1mLayer (type)                   \u001b[0m\u001b[1m \u001b[0m┃\u001b[1m \u001b[0m\u001b[1mOutput Shape          \u001b[0m\u001b[1m \u001b[0m┃\u001b[1m \u001b[0m\u001b[1m      Param #\u001b[0m\u001b[1m \u001b[0m┃\n",
       "┡━━━━━━━━━━━━━━━━━━━━━━━━━━━━━━━━━╇━━━━━━━━━━━━━━━━━━━━━━━━╇━━━━━━━━━━━━━━━┩\n",
       "│ lstm_1 (\u001b[38;5;33mLSTM\u001b[0m)                   │ (\u001b[38;5;45mNone\u001b[0m, \u001b[38;5;34m128\u001b[0m)            │        \u001b[38;5;34m67,584\u001b[0m │\n",
       "├─────────────────────────────────┼────────────────────────┼───────────────┤\n",
       "│ dense_3 (\u001b[38;5;33mDense\u001b[0m)                 │ (\u001b[38;5;45mNone\u001b[0m, \u001b[38;5;34m64\u001b[0m)             │         \u001b[38;5;34m8,256\u001b[0m │\n",
       "├─────────────────────────────────┼────────────────────────┼───────────────┤\n",
       "│ activation_3 (\u001b[38;5;33mActivation\u001b[0m)       │ (\u001b[38;5;45mNone\u001b[0m, \u001b[38;5;34m64\u001b[0m)             │             \u001b[38;5;34m0\u001b[0m │\n",
       "├─────────────────────────────────┼────────────────────────┼───────────────┤\n",
       "│ dense_4 (\u001b[38;5;33mDense\u001b[0m)                 │ (\u001b[38;5;45mNone\u001b[0m, \u001b[38;5;34m8\u001b[0m)              │           \u001b[38;5;34m520\u001b[0m │\n",
       "├─────────────────────────────────┼────────────────────────┼───────────────┤\n",
       "│ activation_4 (\u001b[38;5;33mActivation\u001b[0m)       │ (\u001b[38;5;45mNone\u001b[0m, \u001b[38;5;34m8\u001b[0m)              │             \u001b[38;5;34m0\u001b[0m │\n",
       "├─────────────────────────────────┼────────────────────────┼───────────────┤\n",
       "│ dense_5 (\u001b[38;5;33mDense\u001b[0m)                 │ (\u001b[38;5;45mNone\u001b[0m, \u001b[38;5;34m1\u001b[0m)              │             \u001b[38;5;34m9\u001b[0m │\n",
       "├─────────────────────────────────┼────────────────────────┼───────────────┤\n",
       "│ activation_5 (\u001b[38;5;33mActivation\u001b[0m)       │ (\u001b[38;5;45mNone\u001b[0m, \u001b[38;5;34m1\u001b[0m)              │             \u001b[38;5;34m0\u001b[0m │\n",
       "└─────────────────────────────────┴────────────────────────┴───────────────┘\n"
      ]
     },
     "metadata": {},
     "output_type": "display_data"
    },
    {
     "data": {
      "text/html": [
       "<pre style=\"white-space:pre;overflow-x:auto;line-height:normal;font-family:Menlo,'DejaVu Sans Mono',consolas,'Courier New',monospace\"><span style=\"font-weight: bold\"> Total params: </span><span style=\"color: #00af00; text-decoration-color: #00af00\">76,369</span> (298.32 KB)\n",
       "</pre>\n"
      ],
      "text/plain": [
       "\u001b[1m Total params: \u001b[0m\u001b[38;5;34m76,369\u001b[0m (298.32 KB)\n"
      ]
     },
     "metadata": {},
     "output_type": "display_data"
    },
    {
     "data": {
      "text/html": [
       "<pre style=\"white-space:pre;overflow-x:auto;line-height:normal;font-family:Menlo,'DejaVu Sans Mono',consolas,'Courier New',monospace\"><span style=\"font-weight: bold\"> Trainable params: </span><span style=\"color: #00af00; text-decoration-color: #00af00\">76,369</span> (298.32 KB)\n",
       "</pre>\n"
      ],
      "text/plain": [
       "\u001b[1m Trainable params: \u001b[0m\u001b[38;5;34m76,369\u001b[0m (298.32 KB)\n"
      ]
     },
     "metadata": {},
     "output_type": "display_data"
    },
    {
     "data": {
      "text/html": [
       "<pre style=\"white-space:pre;overflow-x:auto;line-height:normal;font-family:Menlo,'DejaVu Sans Mono',consolas,'Courier New',monospace\"><span style=\"font-weight: bold\"> Non-trainable params: </span><span style=\"color: #00af00; text-decoration-color: #00af00\">0</span> (0.00 B)\n",
       "</pre>\n"
      ],
      "text/plain": [
       "\u001b[1m Non-trainable params: \u001b[0m\u001b[38;5;34m0\u001b[0m (0.00 B)\n"
      ]
     },
     "metadata": {},
     "output_type": "display_data"
    }
   ],
   "source": [
    "# many-to-one example\n",
    "# lets make our rnn!\n",
    "regressor = Sequential()\n",
    "\n",
    "# LSTM; input shape is 1 (for one time step at a time) and n_features which is also 1 for our toy example\n",
    "regressor.add(keras.layers.Input(shape=(1, 3)))\n",
    "\n",
    "# don't return sequence; just the last output of the input sequence\n",
    "regressor.add(LSTM(units=128, return_sequences=False))\n",
    "\n",
    "regressor.add(Dense(64))\n",
    "regressor.add(Activation('linear'))\n",
    "\n",
    "regressor.add(Dense(8))\n",
    "regressor.add(Activation('linear'))\n",
    "\n",
    "# one neuron for output prediction\n",
    "regressor.add(Dense(1))\n",
    "regressor.add(Activation('linear'))\n",
    "\n",
    "METRICS = [\n",
    "    keras.metrics.MeanSquaredError(name='mean_squared_error'),\n",
    "    keras.metrics.RootMeanSquaredError(name='root_mean_squared_error'),\n",
    "]\n",
    "\n",
    "# compile model\n",
    "regressor.compile(keras.optimizers.Adam(learning_rate=0.002), loss='mean_squared_error', metrics=METRICS)\n",
    "\n",
    "keras.utils.set_random_seed(1010)\n",
    "\n",
    "# what does graph look like?\n",
    "regressor.summary()"
   ]
  },
  {
   "cell_type": "code",
   "execution_count": 79,
   "id": "c2a26630-f1a0-4bf9-b4d8-f9b6595ec956",
   "metadata": {},
   "outputs": [
    {
     "name": "stdout",
     "output_type": "stream",
     "text": [
      "Epoch 1/80\n",
      "\u001b[1m37/37\u001b[0m \u001b[32m━━━━━━━━━━━━━━━━━━━━\u001b[0m\u001b[37m\u001b[0m \u001b[1m5s\u001b[0m 114ms/step - loss: 0.1457 - mean_squared_error: 0.1457 - root_mean_squared_error: 0.3564 - val_loss: 0.0050 - val_mean_squared_error: 0.0054 - val_root_mean_squared_error: 0.0735\n",
      "Epoch 2/80\n",
      "\u001b[1m37/37\u001b[0m \u001b[32m━━━━━━━━━━━━━━━━━━━━\u001b[0m\u001b[37m\u001b[0m \u001b[1m4s\u001b[0m 120ms/step - loss: 0.0029 - mean_squared_error: 0.0029 - root_mean_squared_error: 0.0532 - val_loss: 0.0017 - val_mean_squared_error: 0.0018 - val_root_mean_squared_error: 0.0429\n",
      "Epoch 3/80\n",
      "\u001b[1m37/37\u001b[0m \u001b[32m━━━━━━━━━━━━━━━━━━━━\u001b[0m\u001b[37m\u001b[0m \u001b[1m5s\u001b[0m 139ms/step - loss: 0.0014 - mean_squared_error: 0.0014 - root_mean_squared_error: 0.0370 - val_loss: 0.0016 - val_mean_squared_error: 0.0017 - val_root_mean_squared_error: 0.0417\n",
      "Epoch 4/80\n",
      "\u001b[1m37/37\u001b[0m \u001b[32m━━━━━━━━━━━━━━━━━━━━\u001b[0m\u001b[37m\u001b[0m \u001b[1m5s\u001b[0m 131ms/step - loss: 0.0013 - mean_squared_error: 0.0013 - root_mean_squared_error: 0.0357 - val_loss: 0.0016 - val_mean_squared_error: 0.0017 - val_root_mean_squared_error: 0.0413\n",
      "Epoch 5/80\n",
      "\u001b[1m37/37\u001b[0m \u001b[32m━━━━━━━━━━━━━━━━━━━━\u001b[0m\u001b[37m\u001b[0m \u001b[1m5s\u001b[0m 126ms/step - loss: 0.0012 - mean_squared_error: 0.0012 - root_mean_squared_error: 0.0352 - val_loss: 0.0016 - val_mean_squared_error: 0.0017 - val_root_mean_squared_error: 0.0412\n",
      "Epoch 6/80\n",
      "\u001b[1m37/37\u001b[0m \u001b[32m━━━━━━━━━━━━━━━━━━━━\u001b[0m\u001b[37m\u001b[0m \u001b[1m4s\u001b[0m 122ms/step - loss: 0.0012 - mean_squared_error: 0.0012 - root_mean_squared_error: 0.0348 - val_loss: 0.0015 - val_mean_squared_error: 0.0017 - val_root_mean_squared_error: 0.0410\n",
      "Epoch 7/80\n",
      "\u001b[1m37/37\u001b[0m \u001b[32m━━━━━━━━━━━━━━━━━━━━\u001b[0m\u001b[37m\u001b[0m \u001b[1m5s\u001b[0m 142ms/step - loss: 0.0012 - mean_squared_error: 0.0012 - root_mean_squared_error: 0.0344 - val_loss: 0.0015 - val_mean_squared_error: 0.0016 - val_root_mean_squared_error: 0.0405\n",
      "Epoch 8/80\n",
      "\u001b[1m37/37\u001b[0m \u001b[32m━━━━━━━━━━━━━━━━━━━━\u001b[0m\u001b[37m\u001b[0m \u001b[1m5s\u001b[0m 131ms/step - loss: 0.0012 - mean_squared_error: 0.0012 - root_mean_squared_error: 0.0340 - val_loss: 0.0015 - val_mean_squared_error: 0.0016 - val_root_mean_squared_error: 0.0401\n",
      "Epoch 9/80\n",
      "\u001b[1m37/37\u001b[0m \u001b[32m━━━━━━━━━━━━━━━━━━━━\u001b[0m\u001b[37m\u001b[0m \u001b[1m5s\u001b[0m 125ms/step - loss: 0.0011 - mean_squared_error: 0.0011 - root_mean_squared_error: 0.0337 - val_loss: 0.0015 - val_mean_squared_error: 0.0016 - val_root_mean_squared_error: 0.0398\n",
      "Epoch 10/80\n",
      "\u001b[1m37/37\u001b[0m \u001b[32m━━━━━━━━━━━━━━━━━━━━\u001b[0m\u001b[37m\u001b[0m \u001b[1m5s\u001b[0m 131ms/step - loss: 0.0011 - mean_squared_error: 0.0011 - root_mean_squared_error: 0.0333 - val_loss: 0.0014 - val_mean_squared_error: 0.0016 - val_root_mean_squared_error: 0.0395\n",
      "Epoch 11/80\n",
      "\u001b[1m37/37\u001b[0m \u001b[32m━━━━━━━━━━━━━━━━━━━━\u001b[0m\u001b[37m\u001b[0m \u001b[1m5s\u001b[0m 134ms/step - loss: 0.0011 - mean_squared_error: 0.0011 - root_mean_squared_error: 0.0330 - val_loss: 0.0014 - val_mean_squared_error: 0.0015 - val_root_mean_squared_error: 0.0390\n",
      "Epoch 12/80\n",
      "\u001b[1m37/37\u001b[0m \u001b[32m━━━━━━━━━━━━━━━━━━━━\u001b[0m\u001b[37m\u001b[0m \u001b[1m5s\u001b[0m 137ms/step - loss: 0.0011 - mean_squared_error: 0.0011 - root_mean_squared_error: 0.0326 - val_loss: 0.0014 - val_mean_squared_error: 0.0015 - val_root_mean_squared_error: 0.0383\n",
      "Epoch 13/80\n",
      "\u001b[1m37/37\u001b[0m \u001b[32m━━━━━━━━━━━━━━━━━━━━\u001b[0m\u001b[37m\u001b[0m \u001b[1m5s\u001b[0m 145ms/step - loss: 0.0010 - mean_squared_error: 0.0010 - root_mean_squared_error: 0.0322 - val_loss: 0.0013 - val_mean_squared_error: 0.0014 - val_root_mean_squared_error: 0.0378\n",
      "Epoch 14/80\n",
      "\u001b[1m37/37\u001b[0m \u001b[32m━━━━━━━━━━━━━━━━━━━━\u001b[0m\u001b[37m\u001b[0m \u001b[1m5s\u001b[0m 143ms/step - loss: 0.0010 - mean_squared_error: 0.0010 - root_mean_squared_error: 0.0318 - val_loss: 0.0013 - val_mean_squared_error: 0.0014 - val_root_mean_squared_error: 0.0374\n",
      "Epoch 15/80\n",
      "\u001b[1m37/37\u001b[0m \u001b[32m━━━━━━━━━━━━━━━━━━━━\u001b[0m\u001b[37m\u001b[0m \u001b[1m5s\u001b[0m 147ms/step - loss: 9.8793e-04 - mean_squared_error: 9.8791e-04 - root_mean_squared_error: 0.0314 - val_loss: 0.0013 - val_mean_squared_error: 0.0014 - val_root_mean_squared_error: 0.0370\n",
      "Epoch 16/80\n",
      "\u001b[1m37/37\u001b[0m \u001b[32m━━━━━━━━━━━━━━━━━━━━\u001b[0m\u001b[37m\u001b[0m \u001b[1m5s\u001b[0m 147ms/step - loss: 9.6050e-04 - mean_squared_error: 9.6048e-04 - root_mean_squared_error: 0.0310 - val_loss: 0.0012 - val_mean_squared_error: 0.0013 - val_root_mean_squared_error: 0.0366\n",
      "Epoch 17/80\n",
      "\u001b[1m37/37\u001b[0m \u001b[32m━━━━━━━━━━━━━━━━━━━━\u001b[0m\u001b[37m\u001b[0m \u001b[1m6s\u001b[0m 150ms/step - loss: 9.2254e-04 - mean_squared_error: 9.2253e-04 - root_mean_squared_error: 0.0304 - val_loss: 0.0012 - val_mean_squared_error: 0.0013 - val_root_mean_squared_error: 0.0357\n",
      "Epoch 18/80\n",
      "\u001b[1m37/37\u001b[0m \u001b[32m━━━━━━━━━━━━━━━━━━━━\u001b[0m\u001b[37m\u001b[0m \u001b[1m5s\u001b[0m 145ms/step - loss: 8.7674e-04 - mean_squared_error: 8.7674e-04 - root_mean_squared_error: 0.0296 - val_loss: 0.0011 - val_mean_squared_error: 0.0012 - val_root_mean_squared_error: 0.0349\n",
      "Epoch 19/80\n",
      "\u001b[1m37/37\u001b[0m \u001b[32m━━━━━━━━━━━━━━━━━━━━\u001b[0m\u001b[37m\u001b[0m \u001b[1m6s\u001b[0m 152ms/step - loss: 8.3430e-04 - mean_squared_error: 8.3430e-04 - root_mean_squared_error: 0.0289 - val_loss: 0.0011 - val_mean_squared_error: 0.0012 - val_root_mean_squared_error: 0.0344\n",
      "Epoch 20/80\n",
      "\u001b[1m37/37\u001b[0m \u001b[32m━━━━━━━━━━━━━━━━━━━━\u001b[0m\u001b[37m\u001b[0m \u001b[1m6s\u001b[0m 152ms/step - loss: 7.9427e-04 - mean_squared_error: 7.9428e-04 - root_mean_squared_error: 0.0282 - val_loss: 0.0010 - val_mean_squared_error: 0.0011 - val_root_mean_squared_error: 0.0337\n",
      "Epoch 21/80\n",
      "\u001b[1m37/37\u001b[0m \u001b[32m━━━━━━━━━━━━━━━━━━━━\u001b[0m\u001b[37m\u001b[0m \u001b[1m6s\u001b[0m 156ms/step - loss: 7.5202e-04 - mean_squared_error: 7.5204e-04 - root_mean_squared_error: 0.0274 - val_loss: 9.5839e-04 - val_mean_squared_error: 0.0010 - val_root_mean_squared_error: 0.0323\n",
      "Epoch 22/80\n",
      "\u001b[1m37/37\u001b[0m \u001b[32m━━━━━━━━━━━━━━━━━━━━\u001b[0m\u001b[37m\u001b[0m \u001b[1m10s\u001b[0m 158ms/step - loss: 6.9325e-04 - mean_squared_error: 6.9326e-04 - root_mean_squared_error: 0.0263 - val_loss: 8.9867e-04 - val_mean_squared_error: 9.7444e-04 - val_root_mean_squared_error: 0.0312\n",
      "Epoch 23/80\n",
      "\u001b[1m37/37\u001b[0m \u001b[32m━━━━━━━━━━━━━━━━━━━━\u001b[0m\u001b[37m\u001b[0m \u001b[1m6s\u001b[0m 158ms/step - loss: 6.3124e-04 - mean_squared_error: 6.3126e-04 - root_mean_squared_error: 0.0251 - val_loss: 8.1999e-04 - val_mean_squared_error: 8.8969e-04 - val_root_mean_squared_error: 0.0298\n",
      "Epoch 24/80\n",
      "\u001b[1m37/37\u001b[0m \u001b[32m━━━━━━━━━━━━━━━━━━━━\u001b[0m\u001b[37m\u001b[0m \u001b[1m6s\u001b[0m 155ms/step - loss: 5.9717e-04 - mean_squared_error: 5.9722e-04 - root_mean_squared_error: 0.0244 - val_loss: 7.9998e-04 - val_mean_squared_error: 8.6796e-04 - val_root_mean_squared_error: 0.0295\n",
      "Epoch 25/80\n",
      "\u001b[1m37/37\u001b[0m \u001b[32m━━━━━━━━━━━━━━━━━━━━\u001b[0m\u001b[37m\u001b[0m \u001b[1m6s\u001b[0m 153ms/step - loss: 5.6333e-04 - mean_squared_error: 5.6338e-04 - root_mean_squared_error: 0.0237 - val_loss: 7.1332e-04 - val_mean_squared_error: 7.7242e-04 - val_root_mean_squared_error: 0.0278\n",
      "Epoch 26/80\n",
      "\u001b[1m37/37\u001b[0m \u001b[32m━━━━━━━━━━━━━━━━━━━━\u001b[0m\u001b[37m\u001b[0m \u001b[1m6s\u001b[0m 154ms/step - loss: 4.8014e-04 - mean_squared_error: 4.8018e-04 - root_mean_squared_error: 0.0219 - val_loss: 6.2296e-04 - val_mean_squared_error: 6.7440e-04 - val_root_mean_squared_error: 0.0260\n",
      "Epoch 27/80\n",
      "\u001b[1m37/37\u001b[0m \u001b[32m━━━━━━━━━━━━━━━━━━━━\u001b[0m\u001b[37m\u001b[0m \u001b[1m6s\u001b[0m 157ms/step - loss: 4.2426e-04 - mean_squared_error: 4.2431e-04 - root_mean_squared_error: 0.0206 - val_loss: 6.3242e-04 - val_mean_squared_error: 6.8263e-04 - val_root_mean_squared_error: 0.0261\n",
      "Epoch 28/80\n",
      "\u001b[1m37/37\u001b[0m \u001b[32m━━━━━━━━━━━━━━━━━━━━\u001b[0m\u001b[37m\u001b[0m \u001b[1m6s\u001b[0m 156ms/step - loss: 4.1252e-04 - mean_squared_error: 4.1252e-04 - root_mean_squared_error: 0.0203 - val_loss: 6.4593e-04 - val_mean_squared_error: 6.9868e-04 - val_root_mean_squared_error: 0.0264\n",
      "Epoch 29/80\n",
      "\u001b[1m37/37\u001b[0m \u001b[32m━━━━━━━━━━━━━━━━━━━━\u001b[0m\u001b[37m\u001b[0m \u001b[1m6s\u001b[0m 156ms/step - loss: 4.0670e-04 - mean_squared_error: 4.0660e-04 - root_mean_squared_error: 0.0202 - val_loss: 7.5505e-04 - val_mean_squared_error: 8.1524e-04 - val_root_mean_squared_error: 0.0286\n",
      "Epoch 30/80\n",
      "\u001b[1m37/37\u001b[0m \u001b[32m━━━━━━━━━━━━━━━━━━━━\u001b[0m\u001b[37m\u001b[0m \u001b[1m6s\u001b[0m 156ms/step - loss: 4.1697e-04 - mean_squared_error: 4.1701e-04 - root_mean_squared_error: 0.0204 - val_loss: 5.7423e-04 - val_mean_squared_error: 6.1946e-04 - val_root_mean_squared_error: 0.0249\n",
      "Epoch 31/80\n",
      "\u001b[1m37/37\u001b[0m \u001b[32m━━━━━━━━━━━━━━━━━━━━\u001b[0m\u001b[37m\u001b[0m \u001b[1m10s\u001b[0m 153ms/step - loss: 3.6181e-04 - mean_squared_error: 3.6172e-04 - root_mean_squared_error: 0.0190 - val_loss: 7.0852e-04 - val_mean_squared_error: 7.6404e-04 - val_root_mean_squared_error: 0.0276\n",
      "Epoch 32/80\n",
      "\u001b[1m37/37\u001b[0m \u001b[32m━━━━━━━━━━━━━━━━━━━━\u001b[0m\u001b[37m\u001b[0m \u001b[1m6s\u001b[0m 150ms/step - loss: 3.8131e-04 - mean_squared_error: 3.8134e-04 - root_mean_squared_error: 0.0195 - val_loss: 5.3826e-04 - val_mean_squared_error: 5.8044e-04 - val_root_mean_squared_error: 0.0241\n",
      "Epoch 33/80\n",
      "\u001b[1m37/37\u001b[0m \u001b[32m━━━━━━━━━━━━━━━━━━━━\u001b[0m\u001b[37m\u001b[0m \u001b[1m6s\u001b[0m 156ms/step - loss: 3.3322e-04 - mean_squared_error: 3.3318e-04 - root_mean_squared_error: 0.0182 - val_loss: 6.6407e-04 - val_mean_squared_error: 7.1551e-04 - val_root_mean_squared_error: 0.0267\n",
      "Epoch 34/80\n",
      "\u001b[1m37/37\u001b[0m \u001b[32m━━━━━━━━━━━━━━━━━━━━\u001b[0m\u001b[37m\u001b[0m \u001b[1m6s\u001b[0m 153ms/step - loss: 3.8135e-04 - mean_squared_error: 3.8136e-04 - root_mean_squared_error: 0.0195 - val_loss: 4.9271e-04 - val_mean_squared_error: 5.3186e-04 - val_root_mean_squared_error: 0.0231\n",
      "Epoch 35/80\n",
      "\u001b[1m37/37\u001b[0m \u001b[32m━━━━━━━━━━━━━━━━━━━━\u001b[0m\u001b[37m\u001b[0m \u001b[1m6s\u001b[0m 150ms/step - loss: 3.1948e-04 - mean_squared_error: 3.1946e-04 - root_mean_squared_error: 0.0179 - val_loss: 5.4212e-04 - val_mean_squared_error: 5.8474e-04 - val_root_mean_squared_error: 0.0242\n",
      "Epoch 36/80\n",
      "\u001b[1m37/37\u001b[0m \u001b[32m━━━━━━━━━━━━━━━━━━━━\u001b[0m\u001b[37m\u001b[0m \u001b[1m6s\u001b[0m 161ms/step - loss: 3.2976e-04 - mean_squared_error: 3.2974e-04 - root_mean_squared_error: 0.0181 - val_loss: 5.2532e-04 - val_mean_squared_error: 5.6649e-04 - val_root_mean_squared_error: 0.0238\n",
      "Epoch 37/80\n",
      "\u001b[1m37/37\u001b[0m \u001b[32m━━━━━━━━━━━━━━━━━━━━\u001b[0m\u001b[37m\u001b[0m \u001b[1m6s\u001b[0m 161ms/step - loss: 3.2363e-04 - mean_squared_error: 3.2361e-04 - root_mean_squared_error: 0.0180 - val_loss: 5.0704e-04 - val_mean_squared_error: 5.4680e-04 - val_root_mean_squared_error: 0.0234\n",
      "Epoch 38/80\n",
      "\u001b[1m37/37\u001b[0m \u001b[32m━━━━━━━━━━━━━━━━━━━━\u001b[0m\u001b[37m\u001b[0m \u001b[1m6s\u001b[0m 156ms/step - loss: 3.1695e-04 - mean_squared_error: 3.1693e-04 - root_mean_squared_error: 0.0178 - val_loss: 4.9976e-04 - val_mean_squared_error: 5.3891e-04 - val_root_mean_squared_error: 0.0232\n",
      "Epoch 39/80\n",
      "\u001b[1m37/37\u001b[0m \u001b[32m━━━━━━━━━━━━━━━━━━━━\u001b[0m\u001b[37m\u001b[0m \u001b[1m6s\u001b[0m 156ms/step - loss: 3.1407e-04 - mean_squared_error: 3.1405e-04 - root_mean_squared_error: 0.0177 - val_loss: 4.9248e-04 - val_mean_squared_error: 5.3101e-04 - val_root_mean_squared_error: 0.0230\n",
      "Epoch 40/80\n",
      "\u001b[1m37/37\u001b[0m \u001b[32m━━━━━━━━━━━━━━━━━━━━\u001b[0m\u001b[37m\u001b[0m \u001b[1m6s\u001b[0m 159ms/step - loss: 3.1140e-04 - mean_squared_error: 3.1137e-04 - root_mean_squared_error: 0.0176 - val_loss: 4.8404e-04 - val_mean_squared_error: 5.2188e-04 - val_root_mean_squared_error: 0.0228\n",
      "Epoch 41/80\n",
      "\u001b[1m37/37\u001b[0m \u001b[32m━━━━━━━━━━━━━━━━━━━━\u001b[0m\u001b[37m\u001b[0m \u001b[1m6s\u001b[0m 158ms/step - loss: 3.0824e-04 - mean_squared_error: 3.0822e-04 - root_mean_squared_error: 0.0175 - val_loss: 4.7657e-04 - val_mean_squared_error: 5.1380e-04 - val_root_mean_squared_error: 0.0227\n",
      "Epoch 42/80\n",
      "\u001b[1m37/37\u001b[0m \u001b[32m━━━━━━━━━━━━━━━━━━━━\u001b[0m\u001b[37m\u001b[0m \u001b[1m10s\u001b[0m 147ms/step - loss: 3.0562e-04 - mean_squared_error: 3.0559e-04 - root_mean_squared_error: 0.0175 - val_loss: 4.7025e-04 - val_mean_squared_error: 5.0695e-04 - val_root_mean_squared_error: 0.0225\n",
      "Epoch 43/80\n",
      "\u001b[1m37/37\u001b[0m \u001b[32m━━━━━━━━━━━━━━━━━━━━\u001b[0m\u001b[37m\u001b[0m \u001b[1m5s\u001b[0m 148ms/step - loss: 3.0352e-04 - mean_squared_error: 3.0349e-04 - root_mean_squared_error: 0.0174 - val_loss: 4.6435e-04 - val_mean_squared_error: 5.0055e-04 - val_root_mean_squared_error: 0.0224\n",
      "Epoch 44/80\n",
      "\u001b[1m37/37\u001b[0m \u001b[32m━━━━━━━━━━━━━━━━━━━━\u001b[0m\u001b[37m\u001b[0m \u001b[1m5s\u001b[0m 147ms/step - loss: 3.0151e-04 - mean_squared_error: 3.0148e-04 - root_mean_squared_error: 0.0173 - val_loss: 4.5880e-04 - val_mean_squared_error: 4.9452e-04 - val_root_mean_squared_error: 0.0222\n",
      "Epoch 45/80\n",
      "\u001b[1m37/37\u001b[0m \u001b[32m━━━━━━━━━━━━━━━━━━━━\u001b[0m\u001b[37m\u001b[0m \u001b[1m5s\u001b[0m 147ms/step - loss: 2.9959e-04 - mean_squared_error: 2.9955e-04 - root_mean_squared_error: 0.0173 - val_loss: 4.5381e-04 - val_mean_squared_error: 4.8908e-04 - val_root_mean_squared_error: 0.0221\n",
      "Epoch 46/80\n",
      "\u001b[1m37/37\u001b[0m \u001b[32m━━━━━━━━━━━━━━━━━━━━\u001b[0m\u001b[37m\u001b[0m \u001b[1m5s\u001b[0m 145ms/step - loss: 2.9783e-04 - mean_squared_error: 2.9780e-04 - root_mean_squared_error: 0.0172 - val_loss: 4.4942e-04 - val_mean_squared_error: 4.8429e-04 - val_root_mean_squared_error: 0.0220\n",
      "Epoch 47/80\n",
      "\u001b[1m37/37\u001b[0m \u001b[32m━━━━━━━━━━━━━━━━━━━━\u001b[0m\u001b[37m\u001b[0m \u001b[1m6s\u001b[0m 155ms/step - loss: 2.9623e-04 - mean_squared_error: 2.9619e-04 - root_mean_squared_error: 0.0172 - val_loss: 4.4560e-04 - val_mean_squared_error: 4.8010e-04 - val_root_mean_squared_error: 0.0219\n",
      "Epoch 48/80\n",
      "\u001b[1m37/37\u001b[0m \u001b[32m━━━━━━━━━━━━━━━━━━━━\u001b[0m\u001b[37m\u001b[0m \u001b[1m6s\u001b[0m 150ms/step - loss: 2.9474e-04 - mean_squared_error: 2.9470e-04 - root_mean_squared_error: 0.0171 - val_loss: 4.4241e-04 - val_mean_squared_error: 4.7658e-04 - val_root_mean_squared_error: 0.0218\n",
      "Epoch 49/80\n",
      "\u001b[1m37/37\u001b[0m \u001b[32m━━━━━━━━━━━━━━━━━━━━\u001b[0m\u001b[37m\u001b[0m \u001b[1m6s\u001b[0m 154ms/step - loss: 2.9336e-04 - mean_squared_error: 2.9332e-04 - root_mean_squared_error: 0.0171 - val_loss: 4.3991e-04 - val_mean_squared_error: 4.7382e-04 - val_root_mean_squared_error: 0.0218\n",
      "Epoch 50/80\n",
      "\u001b[1m37/37\u001b[0m \u001b[32m━━━━━━━━━━━━━━━━━━━━\u001b[0m\u001b[37m\u001b[0m \u001b[1m6s\u001b[0m 159ms/step - loss: 2.9208e-04 - mean_squared_error: 2.9203e-04 - root_mean_squared_error: 0.0171 - val_loss: 4.3817e-04 - val_mean_squared_error: 4.7185e-04 - val_root_mean_squared_error: 0.0217\n",
      "Epoch 51/80\n",
      "\u001b[1m37/37\u001b[0m \u001b[32m━━━━━━━━━━━━━━━━━━━━\u001b[0m\u001b[37m\u001b[0m \u001b[1m6s\u001b[0m 156ms/step - loss: 2.9081e-04 - mean_squared_error: 2.9076e-04 - root_mean_squared_error: 0.0170 - val_loss: 4.3713e-04 - val_mean_squared_error: 4.7065e-04 - val_root_mean_squared_error: 0.0217\n",
      "Epoch 52/80\n",
      "\u001b[1m37/37\u001b[0m \u001b[32m━━━━━━━━━━━━━━━━━━━━\u001b[0m\u001b[37m\u001b[0m \u001b[1m6s\u001b[0m 153ms/step - loss: 2.8941e-04 - mean_squared_error: 2.8935e-04 - root_mean_squared_error: 0.0170 - val_loss: 4.3651e-04 - val_mean_squared_error: 4.6992e-04 - val_root_mean_squared_error: 0.0217\n",
      "Epoch 53/80\n",
      "\u001b[1m37/37\u001b[0m \u001b[32m━━━━━━━━━━━━━━━━━━━━\u001b[0m\u001b[37m\u001b[0m \u001b[1m6s\u001b[0m 156ms/step - loss: 2.8764e-04 - mean_squared_error: 2.8758e-04 - root_mean_squared_error: 0.0169 - val_loss: 4.3576e-04 - val_mean_squared_error: 4.6906e-04 - val_root_mean_squared_error: 0.0217\n",
      "Epoch 54/80\n",
      "\u001b[1m37/37\u001b[0m \u001b[32m━━━━━━━━━━━━━━━━━━━━\u001b[0m\u001b[37m\u001b[0m \u001b[1m6s\u001b[0m 155ms/step - loss: 2.8529e-04 - mean_squared_error: 2.8523e-04 - root_mean_squared_error: 0.0169 - val_loss: 4.3435e-04 - val_mean_squared_error: 4.6752e-04 - val_root_mean_squared_error: 0.0216\n",
      "Epoch 55/80\n",
      "\u001b[1m37/37\u001b[0m \u001b[32m━━━━━━━━━━━━━━━━━━━━\u001b[0m\u001b[37m\u001b[0m \u001b[1m10s\u001b[0m 153ms/step - loss: 2.8243e-04 - mean_squared_error: 2.8237e-04 - root_mean_squared_error: 0.0168 - val_loss: 4.3239e-04 - val_mean_squared_error: 4.6536e-04 - val_root_mean_squared_error: 0.0216\n",
      "Epoch 56/80\n",
      "\u001b[1m37/37\u001b[0m \u001b[32m━━━━━━━━━━━━━━━━━━━━\u001b[0m\u001b[37m\u001b[0m \u001b[1m5s\u001b[0m 139ms/step - loss: 2.7949e-04 - mean_squared_error: 2.7943e-04 - root_mean_squared_error: 0.0167 - val_loss: 4.3046e-04 - val_mean_squared_error: 4.6323e-04 - val_root_mean_squared_error: 0.0215\n",
      "Epoch 57/80\n",
      "\u001b[1m37/37\u001b[0m \u001b[32m━━━━━━━━━━━━━━━━━━━━\u001b[0m\u001b[37m\u001b[0m \u001b[1m5s\u001b[0m 137ms/step - loss: 2.7694e-04 - mean_squared_error: 2.7689e-04 - root_mean_squared_error: 0.0166 - val_loss: 4.2888e-04 - val_mean_squared_error: 4.6144e-04 - val_root_mean_squared_error: 0.0215\n",
      "Epoch 58/80\n",
      "\u001b[1m37/37\u001b[0m \u001b[32m━━━━━━━━━━━━━━━━━━━━\u001b[0m\u001b[37m\u001b[0m \u001b[1m5s\u001b[0m 139ms/step - loss: 2.7486e-04 - mean_squared_error: 2.7480e-04 - root_mean_squared_error: 0.0166 - val_loss: 4.2742e-04 - val_mean_squared_error: 4.5979e-04 - val_root_mean_squared_error: 0.0214\n",
      "Epoch 59/80\n",
      "\u001b[1m37/37\u001b[0m \u001b[32m━━━━━━━━━━━━━━━━━━━━\u001b[0m\u001b[37m\u001b[0m \u001b[1m5s\u001b[0m 141ms/step - loss: 2.7301e-04 - mean_squared_error: 2.7295e-04 - root_mean_squared_error: 0.0165 - val_loss: 4.2587e-04 - val_mean_squared_error: 4.5806e-04 - val_root_mean_squared_error: 0.0214\n",
      "Epoch 60/80\n",
      "\u001b[1m37/37\u001b[0m \u001b[32m━━━━━━━━━━━━━━━━━━━━\u001b[0m\u001b[37m\u001b[0m \u001b[1m5s\u001b[0m 142ms/step - loss: 2.7124e-04 - mean_squared_error: 2.7118e-04 - root_mean_squared_error: 0.0164 - val_loss: 4.2426e-04 - val_mean_squared_error: 4.5628e-04 - val_root_mean_squared_error: 0.0214\n",
      "Epoch 61/80\n",
      "\u001b[1m37/37\u001b[0m \u001b[32m━━━━━━━━━━━━━━━━━━━━\u001b[0m\u001b[37m\u001b[0m \u001b[1m5s\u001b[0m 136ms/step - loss: 2.6956e-04 - mean_squared_error: 2.6950e-04 - root_mean_squared_error: 0.0164 - val_loss: 4.2267e-04 - val_mean_squared_error: 4.5453e-04 - val_root_mean_squared_error: 0.0213\n",
      "Epoch 62/80\n",
      "\u001b[1m37/37\u001b[0m \u001b[32m━━━━━━━━━━━━━━━━━━━━\u001b[0m\u001b[37m\u001b[0m \u001b[1m5s\u001b[0m 141ms/step - loss: 2.6799e-04 - mean_squared_error: 2.6793e-04 - root_mean_squared_error: 0.0163 - val_loss: 4.2112e-04 - val_mean_squared_error: 4.5282e-04 - val_root_mean_squared_error: 0.0213\n",
      "Epoch 63/80\n",
      "\u001b[1m37/37\u001b[0m \u001b[32m━━━━━━━━━━━━━━━━━━━━\u001b[0m\u001b[37m\u001b[0m \u001b[1m10s\u001b[0m 145ms/step - loss: 2.6650e-04 - mean_squared_error: 2.6645e-04 - root_mean_squared_error: 0.0163 - val_loss: 4.1956e-04 - val_mean_squared_error: 4.5111e-04 - val_root_mean_squared_error: 0.0212\n",
      "Epoch 64/80\n",
      "\u001b[1m37/37\u001b[0m \u001b[32m━━━━━━━━━━━━━━━━━━━━\u001b[0m\u001b[37m\u001b[0m \u001b[1m5s\u001b[0m 147ms/step - loss: 2.6508e-04 - mean_squared_error: 2.6503e-04 - root_mean_squared_error: 0.0163 - val_loss: 4.1798e-04 - val_mean_squared_error: 4.4937e-04 - val_root_mean_squared_error: 0.0212\n",
      "Epoch 65/80\n",
      "\u001b[1m37/37\u001b[0m \u001b[32m━━━━━━━━━━━━━━━━━━━━\u001b[0m\u001b[37m\u001b[0m \u001b[1m5s\u001b[0m 144ms/step - loss: 2.6371e-04 - mean_squared_error: 2.6365e-04 - root_mean_squared_error: 0.0162 - val_loss: 4.1637e-04 - val_mean_squared_error: 4.4762e-04 - val_root_mean_squared_error: 0.0212\n",
      "Epoch 66/80\n",
      "\u001b[1m37/37\u001b[0m \u001b[32m━━━━━━━━━━━━━━━━━━━━\u001b[0m\u001b[37m\u001b[0m \u001b[1m6s\u001b[0m 155ms/step - loss: 2.6238e-04 - mean_squared_error: 2.6233e-04 - root_mean_squared_error: 0.0162 - val_loss: 4.1474e-04 - val_mean_squared_error: 4.4584e-04 - val_root_mean_squared_error: 0.0211\n",
      "Epoch 67/80\n",
      "\u001b[1m37/37\u001b[0m \u001b[32m━━━━━━━━━━━━━━━━━━━━\u001b[0m\u001b[37m\u001b[0m \u001b[1m5s\u001b[0m 145ms/step - loss: 2.6109e-04 - mean_squared_error: 2.6104e-04 - root_mean_squared_error: 0.0161 - val_loss: 4.1306e-04 - val_mean_squared_error: 4.4401e-04 - val_root_mean_squared_error: 0.0211\n",
      "Epoch 68/80\n",
      "\u001b[1m37/37\u001b[0m \u001b[32m━━━━━━━━━━━━━━━━━━━━\u001b[0m\u001b[37m\u001b[0m \u001b[1m5s\u001b[0m 136ms/step - loss: 2.5984e-04 - mean_squared_error: 2.5978e-04 - root_mean_squared_error: 0.0161 - val_loss: 4.1129e-04 - val_mean_squared_error: 4.4210e-04 - val_root_mean_squared_error: 0.0210\n",
      "Epoch 69/80\n",
      "\u001b[1m37/37\u001b[0m \u001b[32m━━━━━━━━━━━━━━━━━━━━\u001b[0m\u001b[37m\u001b[0m \u001b[1m5s\u001b[0m 137ms/step - loss: 2.5859e-04 - mean_squared_error: 2.5854e-04 - root_mean_squared_error: 0.0161 - val_loss: 4.0940e-04 - val_mean_squared_error: 4.4006e-04 - val_root_mean_squared_error: 0.0210\n",
      "Epoch 70/80\n",
      "\u001b[1m37/37\u001b[0m \u001b[32m━━━━━━━━━━━━━━━━━━━━\u001b[0m\u001b[37m\u001b[0m \u001b[1m5s\u001b[0m 136ms/step - loss: 2.5736e-04 - mean_squared_error: 2.5731e-04 - root_mean_squared_error: 0.0160 - val_loss: 4.0732e-04 - val_mean_squared_error: 4.3782e-04 - val_root_mean_squared_error: 0.0209\n",
      "Epoch 71/80\n",
      "\u001b[1m37/37\u001b[0m \u001b[32m━━━━━━━━━━━━━━━━━━━━\u001b[0m\u001b[37m\u001b[0m \u001b[1m5s\u001b[0m 137ms/step - loss: 2.5611e-04 - mean_squared_error: 2.5606e-04 - root_mean_squared_error: 0.0160 - val_loss: 4.0494e-04 - val_mean_squared_error: 4.3528e-04 - val_root_mean_squared_error: 0.0209\n",
      "Epoch 72/80\n",
      "\u001b[1m37/37\u001b[0m \u001b[32m━━━━━━━━━━━━━━━━━━━━\u001b[0m\u001b[37m\u001b[0m \u001b[1m6s\u001b[0m 159ms/step - loss: 2.5481e-04 - mean_squared_error: 2.5476e-04 - root_mean_squared_error: 0.0159 - val_loss: 4.0208e-04 - val_mean_squared_error: 4.3224e-04 - val_root_mean_squared_error: 0.0208\n",
      "Epoch 73/80\n",
      "\u001b[1m37/37\u001b[0m \u001b[32m━━━━━━━━━━━━━━━━━━━━\u001b[0m\u001b[37m\u001b[0m \u001b[1m10s\u001b[0m 150ms/step - loss: 2.5340e-04 - mean_squared_error: 2.5335e-04 - root_mean_squared_error: 0.0159 - val_loss: 3.9845e-04 - val_mean_squared_error: 4.2841e-04 - val_root_mean_squared_error: 0.0207\n",
      "Epoch 74/80\n",
      "\u001b[1m37/37\u001b[0m \u001b[32m━━━━━━━━━━━━━━━━━━━━\u001b[0m\u001b[37m\u001b[0m \u001b[1m5s\u001b[0m 148ms/step - loss: 2.5177e-04 - mean_squared_error: 2.5173e-04 - root_mean_squared_error: 0.0158 - val_loss: 3.9353e-04 - val_mean_squared_error: 4.2324e-04 - val_root_mean_squared_error: 0.0206\n",
      "Epoch 75/80\n",
      "\u001b[1m37/37\u001b[0m \u001b[32m━━━━━━━━━━━━━━━━━━━━\u001b[0m\u001b[37m\u001b[0m \u001b[1m5s\u001b[0m 147ms/step - loss: 2.4971e-04 - mean_squared_error: 2.4966e-04 - root_mean_squared_error: 0.0158 - val_loss: 3.8668e-04 - val_mean_squared_error: 4.1606e-04 - val_root_mean_squared_error: 0.0204\n",
      "Epoch 76/80\n",
      "\u001b[1m37/37\u001b[0m \u001b[32m━━━━━━━━━━━━━━━━━━━━\u001b[0m\u001b[37m\u001b[0m \u001b[1m5s\u001b[0m 134ms/step - loss: 2.4682e-04 - mean_squared_error: 2.4678e-04 - root_mean_squared_error: 0.0157 - val_loss: 3.7785e-04 - val_mean_squared_error: 4.0682e-04 - val_root_mean_squared_error: 0.0202\n",
      "Epoch 77/80\n",
      "\u001b[1m37/37\u001b[0m \u001b[32m━━━━━━━━━━━━━━━━━━━━\u001b[0m\u001b[37m\u001b[0m \u001b[1m5s\u001b[0m 131ms/step - loss: 2.4278e-04 - mean_squared_error: 2.4274e-04 - root_mean_squared_error: 0.0156 - val_loss: 3.7040e-04 - val_mean_squared_error: 3.9899e-04 - val_root_mean_squared_error: 0.0200\n",
      "Epoch 78/80\n",
      "\u001b[1m37/37\u001b[0m \u001b[32m━━━━━━━━━━━━━━━━━━━━\u001b[0m\u001b[37m\u001b[0m \u001b[1m5s\u001b[0m 139ms/step - loss: 2.3897e-04 - mean_squared_error: 2.3893e-04 - root_mean_squared_error: 0.0154 - val_loss: 3.7227e-04 - val_mean_squared_error: 4.0079e-04 - val_root_mean_squared_error: 0.0200\n",
      "Epoch 79/80\n",
      "\u001b[1m37/37\u001b[0m \u001b[32m━━━━━━━━━━━━━━━━━━━━\u001b[0m\u001b[37m\u001b[0m \u001b[1m5s\u001b[0m 141ms/step - loss: 2.4043e-04 - mean_squared_error: 2.4039e-04 - root_mean_squared_error: 0.0155 - val_loss: 3.8350e-04 - val_mean_squared_error: 4.1238e-04 - val_root_mean_squared_error: 0.0203\n",
      "Epoch 80/80\n",
      "\u001b[1m37/37\u001b[0m \u001b[32m━━━━━━━━━━━━━━━━━━━━\u001b[0m\u001b[37m\u001b[0m \u001b[1m6s\u001b[0m 169ms/step - loss: 2.4553e-04 - mean_squared_error: 2.4549e-04 - root_mean_squared_error: 0.0157 - val_loss: 3.8363e-04 - val_mean_squared_error: 4.1256e-04 - val_root_mean_squared_error: 0.0203\n"
     ]
    }
   ],
   "source": [
    "# train the lstm!\n",
    "history = regressor.fit(x = trainds, y = traintargetds, validation_split=0.2, epochs=80, batch_size = 2000, shuffle=True)"
   ]
  },
  {
   "cell_type": "code",
   "execution_count": 80,
   "id": "de0d2dcd-53c5-4932-8567-9e91f11667dc",
   "metadata": {},
   "outputs": [
    {
     "data": {
      "image/png": "[encoded data removed]",
      "text/plain": [
       "<Figure size 640x480 with 1 Axes>"
      ]
     },
     "metadata": {},
     "output_type": "display_data"
    }
   ],
   "source": [
    "plt.plot(history.history[\"mean_squared_error\"], c='k', label='training')\n",
    "plt.plot(history.history[\"val_mean_squared_error\"], c='r', label='validation')\n",
    "plt.legend(['training', 'validation'])\n",
    "plt.show()"
   ]
  },
  {
   "cell_type": "code",
   "execution_count": 81,
   "id": "7f258d82-fafc-4e3f-8c09-be30b3dfb4ab",
   "metadata": {},
   "outputs": [
    {
     "name": "stdout",
     "output_type": "stream",
     "text": [
      "\u001b[1m957/957\u001b[0m \u001b[32m━━━━━━━━━━━━━━━━━━━━\u001b[0m\u001b[37m\u001b[0m \u001b[1m3s\u001b[0m 3ms/step\n"
     ]
    }
   ],
   "source": [
    "# predict using test data\n",
    "oni_predictions = regressor.predict(testds)"
   ]
  },
  {
   "cell_type": "code",
   "execution_count": 82,
   "id": "eaa51ee1-9566-4cb5-84f9-1b507be59764",
   "metadata": {},
   "outputs": [
    {
     "name": "stdout",
     "output_type": "stream",
     "text": [
      "\u001b[1m2869/2869\u001b[0m \u001b[32m━━━━━━━━━━━━━━━━━━━━\u001b[0m\u001b[37m\u001b[0m \u001b[1m7s\u001b[0m 2ms/step\n"
     ]
    }
   ],
   "source": [
    "train_predictions = regressor.predict(trainds)"
   ]
  },
  {
   "cell_type": "code",
   "execution_count": 83,
   "id": "b0c1d7f7-002a-4504-9be1-177966a14532",
   "metadata": {},
   "outputs": [
    {
     "data": {
      "image/png": "[encoded data removed]",
      "text/plain": [
       "<Figure size 640x480 with 1 Axes>"
      ]
     },
     "metadata": {},
     "output_type": "display_data"
    }
   ],
   "source": [
    "# how did we do!?\n",
    "plt.scatter(\n",
    "    testtargetds,\n",
    "    oni_predictions\n",
    "    )\n",
    "plt.xlim([0,5])\n",
    "plt.ylim([0,5])\n",
    "plt.xlabel(\"Gage Height (ft), Actual\")\n",
    "plt.ylabel(\"Gage Height (ft), Predicted\")\n",
    "plt.show()"
   ]
  },
  {
   "cell_type": "code",
   "execution_count": 84,
   "id": "de38813a-afe0-42e5-b8e3-a332ef3926f8",
   "metadata": {},
   "outputs": [
    {
     "data": {
      "image/png": "[encoded data removed]",
      "text/plain": [
       "<Figure size 640x480 with 1 Axes>"
      ]
     },
     "metadata": {},
     "output_type": "display_data"
    }
   ],
   "source": [
    "# how did we train!?\n",
    "plt.scatter(\n",
    "    traintargetds,\n",
    "    train_predictions\n",
    "    )\n",
    "plt.xlim([0,5])\n",
    "plt.ylim([0,5])\n",
    "plt.show()"
   ]
  },
  {
   "cell_type": "code",
   "execution_count": 85,
   "id": "8782649d-18df-46f6-b47b-3dbb02fdfeb4",
   "metadata": {},
   "outputs": [],
   "source": [
    "samevaltest = []\n",
    "for m in range(len(testds)):\n",
    " samevaltest.append(testds[m][3][2])"
   ]
  },
  {
   "cell_type": "code",
   "execution_count": 86,
   "id": "5a87aa6e-3385-490f-9f4d-9ca2b7cadc05",
   "metadata": {},
   "outputs": [
    {
     "data": {
      "image/png": "[encoded data removed]",
      "text/plain": [
       "<Figure size 640x480 with 1 Axes>"
      ]
     },
     "metadata": {},
     "output_type": "display_data"
    }
   ],
   "source": [
    "# how did we do!?\n",
    "plt.scatter(\n",
    "    testtargetds,\n",
    "    samevaltest\n",
    "    )\n",
    "plt.xlim([0,5])\n",
    "plt.ylim([0,5])\n",
    "plt.xlabel(\"Gage Height (ft), Actual\")\n",
    "plt.ylabel(\"Gage Height (ft), Last Value\")\n",
    "plt.show()"
   ]
  },
  {
   "cell_type": "code",
   "execution_count": 87,
   "id": "4b3754ac-4156-4bac-8d78-3e6fddc1008a",
   "metadata": {},
   "outputs": [],
   "source": [
    "samevaltest2 = []\n",
    "for m in range(len(trainds)):\n",
    " samevaltest2.append(trainds[m][3][2])"
   ]
  },
  {
   "cell_type": "code",
   "execution_count": 88,
   "id": "7efbab42-0343-4a7f-b7f6-ccc7f9406a0d",
   "metadata": {},
   "outputs": [
    {
     "data": {
      "image/png": "[encoded data removed]",
      "text/plain": [
       "<Figure size 640x480 with 1 Axes>"
      ]
     },
     "metadata": {},
     "output_type": "display_data"
    }
   ],
   "source": [
    "# how did we do!?\n",
    "plt.scatter(\n",
    "    traintargetds,\n",
    "    samevaltest2\n",
    "    )\n",
    "plt.xlim([0,5])\n",
    "plt.ylim([0,5])\n",
    "plt.show()"
   ]
  },
  {
   "cell_type": "code",
   "execution_count": 89,
   "id": "67c1a2d4-4b0b-4479-9f2a-5dbd26588d93",
   "metadata": {},
   "outputs": [
    {
     "data": {
      "text/plain": [
       "0.0006606314138178967"
      ]
     },
     "execution_count": 89,
     "metadata": {},
     "output_type": "execute_result"
    }
   ],
   "source": [
    "mean_squared_error(testtargetds, samevaltest)"
   ]
  },
  {
   "cell_type": "code",
   "execution_count": 90,
   "id": "796ec23d-1f44-4c54-bda3-4b04e63807d6",
   "metadata": {},
   "outputs": [
    {
     "data": {
      "text/plain": [
       "0.00032060053713719495"
      ]
     },
     "execution_count": 90,
     "metadata": {},
     "output_type": "execute_result"
    }
   ],
   "source": [
    "mean_squared_error(testtargetds, oni_predictions)"
   ]
  },
  {
   "cell_type": "code",
   "execution_count": 91,
   "id": "3acce4eb-5d95-4402-af25-a147ccded3d7",
   "metadata": {},
   "outputs": [
    {
     "data": {
      "text/plain": [
       "0.0005478065731995598"
      ]
     },
     "execution_count": 91,
     "metadata": {},
     "output_type": "execute_result"
    }
   ],
   "source": [
    "mean_squared_error(traintargetds, samevaltest2)"
   ]
  },
  {
   "cell_type": "code",
   "execution_count": 92,
   "id": "f9033fc2-58b4-4e76-9888-51224b60d420",
   "metadata": {},
   "outputs": [
    {
     "data": {
      "text/plain": [
       "0.0002935652043371892"
      ]
     },
     "execution_count": 92,
     "metadata": {},
     "output_type": "execute_result"
    }
   ],
   "source": [
    "mean_squared_error(traintargetds, train_predictions)"
   ]
  },
  {
   "cell_type": "code",
   "execution_count": 93,
   "id": "42c71545-1b87-45c0-ae4a-43b8eb19a2c9",
   "metadata": {},
   "outputs": [
    {
     "data": {
      "text/plain": [
       "array([[0.05      , 0.00683333, 0.56      ],\n",
       "       [0.05      , 0.00683333, 0.56      ],\n",
       "       [0.05      , 0.00683333, 0.56      ],\n",
       "       [0.05      , 0.00723333, 0.57      ]])"
      ]
     },
     "execution_count": 93,
     "metadata": {},
     "output_type": "execute_result"
    }
   ],
   "source": [
    "testds[1:100][:][2]"
   ]
  },
  {
   "cell_type": "code",
   "execution_count": null,
   "id": "a362a576-072b-439f-a32c-09bef549961e",
   "metadata": {},
   "outputs": [],
   "source": []
  }
 ],
 "metadata": {
  "kernelspec": {
   "display_name": "Python [conda env:umd-spring-2024]",
   "language": "python",
   "name": "conda-env-umd-spring-2024-py"
  },
  "language_info": {
   "codemirror_mode": {
    "name": "ipython",
    "version": 3
   },
   "file_extension": ".py",
   "mimetype": "text/x-python",
   "name": "python",
   "nbconvert_exporter": "python",
   "pygments_lexer": "ipython3",
   "version": "3.10.13"
  }
 },
 "nbformat": 4,
 "nbformat_minor": 5
}
